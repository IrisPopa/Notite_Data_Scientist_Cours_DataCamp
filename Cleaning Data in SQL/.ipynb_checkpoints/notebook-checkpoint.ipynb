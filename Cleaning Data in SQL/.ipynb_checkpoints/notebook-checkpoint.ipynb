{
 "cells": [
  {
   "cell_type": "markdown",
   "id": "8ca5c670-8a64-4904-9d0a-4871d7ef3c44",
   "metadata": {},
   "source": [
    "# Scrape Text Data from Webpages"
   ]
  },
  {
   "cell_type": "markdown",
   "id": "8417ac1e-70f9-4cb9-9615-06969f1dccd2",
   "metadata": {},
   "source": [
    "The web is full of untapped data! In this template, you can indicate the URL you want to scrape from and this template will turn it into analyzable text data using HTTP requests and [Beautiful Soup](https://beautiful-soup-4.readthedocs.io/en/latest/). "
   ]
  },
  {
   "cell_type": "code",
   "execution_count": 4,
   "id": "26d245ef",
   "metadata": {},
   "outputs": [],
   "source": [
    "# Load packages\n",
    "import pandas\n",
    "import requests\n",
    "from bs4 import BeautifulSoup\n",
    "\n",
    "# Specify the url you want to scrape\n",
    "url = \"https://workspace-docs.datacamp.com/work/working-in-the-workspace\"\n",
    "\n",
    "# Package the request, send the request and catch the response\n",
    "r = requests.get(url)\n",
    "\n",
    "# Extract the response as HTML\n",
    "html_doc = r.text\n",
    "\n",
    "# Create a BeautifulSoup object from the HTML\n",
    "soup = BeautifulSoup(html_doc)"
   ]
  },
  {
   "cell_type": "markdown",
   "id": "61ac9313",
   "metadata": {},
   "source": [
    "## Extracting  text elements of the webpage\n",
    "The `soup` object contains the HTML of the webpage, which will likely require more pre-processing to be useful to you. The code below extracts specific elements of the webpage, including title, text, and links. This is useful for natural language processing projects. "
   ]
  },
  {
   "cell_type": "code",
   "execution_count": 5,
   "id": "274e4c20",
   "metadata": {},
   "outputs": [
    {
     "data": {
      "text/plain": [
       "'Working in Workspace - Workspace Docs'"
      ]
     },
     "execution_count": 5,
     "metadata": {},
     "output_type": "execute_result"
    }
   ],
   "source": [
    "# Get the title of the webpage\n",
    "soup.title.string"
   ]
  },
  {
   "cell_type": "code",
   "execution_count": 6,
   "id": "fe419e1e",
   "metadata": {},
   "outputs": [
    {
     "data": {
      "text/plain": [
       "\"\\n\\n\\n\\n\\nWorking in Workspace - Workspace Docs\\n\\n\\n\\n\\n\\n\\n\\n\\n\\n\\n\\n\\n\\n\\n\\n\\n\\n\\n\\n\\n\\n\\n\\nWorkspace DocsWorkspace HomeView TemplatesSearch…What is DataCamp Workspace?WorkCreating a WorkspaceWorking in WorkspaceWorking with PackagesChanging AppearancePublishCreating a PublicationExploring PublicationsIntegrationsEnvironment VariablesGitHubPostgreSQLDropboxS3 BucketMySQLRedshift ClusterResourcesSupportVideo TutorialsCode-alongsPowered By GitBookWorking in WorkspaceHow to work in workspaceWorkspaces are privateOnly you can see all the workspaces that you own and their contents. In other words, your work is completely private unless you decide to publish your workspace. It is currently not possible to share your workspace with other people to collaborate, but you are able to share workspace publications with others (see Publications section for more).Maximum workspace sizeIf the total size of all the files in your workspace exceeds 5GB, you will no longer be able to access your workspace. If you unintentionally ended up in this situation and want to continue, let us know and we'll help you out. To contact us, see Support. Saving your editsAll your edits are automatically saved, so you do not need to worry about hitting that save button every now and then. If you close and re-enter the workspace at a later point in time, all your work from before is saved. Renaming the workspaceYou can change the default workspace name. To rename the workspace, select the default name (as shown), type a new workspace name, and select enter to save.\\u200b\\u200bSwitching the editorYou can edit and execute the source files in several editors.Python WorkspaceR WorkspaceIf you edit or create a new Python workspace, you can edit and execute the source files in DataCamp's notebook editor or JupyterLab.To switch between the editors, select Switch Editor. \\u200b\\u200bIf you edit or create a new R workspace, the workspace files open in a notebook in RStudio, the most popular tool for doing data science or statistical analyses. You cannot switch to another editor.Exiting the workspaceTo exit the workspace, select the  exit icon. You return to the workspace dashboard.Work - PreviousCreating a WorkspaceNext - WorkWorking with PackagesLast modified 25d agoCopy linkContentsWorkspaces are privateMaximum workspace sizeSaving your editsRenaming the workspaceSwitching the editorExiting the workspace\\n\\n\\n\\n\""
      ]
     },
     "execution_count": 6,
     "metadata": {},
     "output_type": "execute_result"
    }
   ],
   "source": [
    "# Get the text of the webpage\n",
    "soup.text"
   ]
  },
  {
   "cell_type": "code",
   "execution_count": 7,
   "id": "67ade79a",
   "metadata": {},
   "outputs": [
    {
     "name": "stdout",
     "output_type": "stream",
     "text": [
      "/\n",
      "https://www.datacamp.com/workspace\n",
      "https://www.datacamp.com/workspace/templates\n",
      "/\n",
      "/work/workspaces\n",
      "/work/working-in-the-workspace\n",
      "/work/packages\n",
      "/work/changing-appearance\n",
      "/publish/publications\n",
      "/publish/explore-page\n",
      "/integrations/environment-variables\n",
      "/integrations/github-integration\n",
      "/integrations/postgresql\n",
      "/integrations/dropbox\n",
      "/integrations/s3-bucket\n",
      "/integrations/mysql\n",
      "/integrations/redshift-cluster\n",
      "/resources/support\n",
      "/resources/workspace-video-tutorials\n",
      "/resources/code-alongs\n",
      "https://www.gitbook.com/?utm_source=content&utm_medium=trademark&utm_campaign=-MZqboFGZzD87nn7oPsm\n",
      "https://app.gitbook.com/@datacamp-1/s/workspace/~/drafts/-Me0G3lJVxqutyNKs_an/publish/publications\n",
      "/resources/support\n",
      "https://jupyterlab.readthedocs.io/en/stable/\n",
      "https://docs.rstudio.com\n",
      "/work/workspaces\n",
      "/work/packages\n",
      "/work/working-in-the-workspace#workspaces-are-private\n",
      "/work/working-in-the-workspace#maximum-workspace-size\n",
      "/work/working-in-the-workspace#saving-your-edits\n",
      "/work/working-in-the-workspace#renaming-the-workspace\n",
      "/work/working-in-the-workspace#switching-the-editor\n",
      "/work/working-in-the-workspace#exiting-the-workspace\n"
     ]
    }
   ],
   "source": [
    "# Get and print the link of all 'a' HTML tags\n",
    "for link in soup.find_all(\"a\"):\n",
    "    print(link.get(\"href\"))"
   ]
  },
  {
   "cell_type": "markdown",
   "id": "d8e65468",
   "metadata": {},
   "source": [
    "For more information on how to extract other elements of a webpage, visit [Beautiful Soup documentation](https://beautiful-soup-4.readthedocs.io/en/latest/index.html?l#find-all)."
   ]
  }
 ],
 "metadata": {
  "kernelspec": {
   "display_name": "Python 3 (ipykernel)",
   "language": "python",
   "name": "python3"
  },
  "language_info": {
   "codemirror_mode": {
    "name": "ipython",
    "version": 3
   },
   "file_extension": ".py",
   "mimetype": "text/x-python",
   "name": "python",
   "nbconvert_exporter": "python",
   "pygments_lexer": "ipython3",
   "version": "3.10.5"
  },
  "varInspector": {
   "cols": {
    "lenName": 16,
    "lenType": 16,
    "lenVar": 40
   },
   "kernels_config": {
    "python": {
     "delete_cmd_postfix": "",
     "delete_cmd_prefix": "del ",
     "library": "var_list.py",
     "varRefreshCmd": "print(var_dic_list())"
    },
    "r": {
     "delete_cmd_postfix": ") ",
     "delete_cmd_prefix": "rm(",
     "library": "var_list.r",
     "varRefreshCmd": "cat(var_dic_list()) "
    }
   },
   "types_to_exclude": [
    "module",
    "function",
    "builtin_function_or_method",
    "instance",
    "_Feature"
   ],
   "window_display": false
  }
 },
 "nbformat": 4,
 "nbformat_minor": 5
}
