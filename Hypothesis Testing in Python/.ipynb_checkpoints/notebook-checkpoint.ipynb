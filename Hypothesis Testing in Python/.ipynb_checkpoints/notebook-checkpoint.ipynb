{
 "cells": [
  {
   "cell_type": "markdown",
   "id": "prostate-arizona",
   "metadata": {
    "id": "bA5ajAmk7XH6"
   },
   "source": [
    "# Hypothesis Testing in Python"
   ]
  },
  {
   "cell_type": "code",
   "execution_count": 1,
   "id": "2e25fdd8-4d84-45bc-80f0-949917e00a17",
   "metadata": {
    "collapsed": false,
    "jupyter": {
     "outputs_hidden": false,
     "source_hidden": false
    }
   },
   "outputs": [],
   "source": [
    "# Import pandas\n",
    "import pandas as pd\n",
    "\n",
    "# Import the course datasets \n",
    "republican_votes = pd.read_feather('datasets/repub_votes_potus_08_12.feather')\n",
    "sample_dem_data = pd.read_feather('datasets/dem_votes_potus_12_16.feather')\n",
    "late_shipments = pd.read_feather('datasets/late_shipments.feather')\n",
    "stackoverflow = pd.read_feather(\"datasets/stack_overflow.feather\")"
   ]
  },
  {
   "cell_type": "markdown",
   "id": "0e7949e8",
   "metadata": {},
   "source": [
    "# Introduction to Hypothesis Testing"
   ]
  },
  {
   "cell_type": "markdown",
   "id": "18dd2afa",
   "metadata": {},
   "source": [
    "**Calculating the sample mean**\n",
    "The late_shipments dataset contains supply chain data on the delivery of medical supplies. Each row represents one delivery of a part. The late columns denotes whether or not the part was delivered late. A value of \"Yes\" means that the part was delivered late, and a value of \"No\" means the part was delivered on time.\n",
    "\n",
    "We'll begin our analysis by calculating a point estimate (or sample statistic), namely the proportion of late shipments"
   ]
  },
  {
   "cell_type": "code",
   "execution_count": 2,
   "id": "079c7628-464c-471b-9867-b684acc232b9",
   "metadata": {},
   "outputs": [
    {
     "name": "stdout",
     "output_type": "stream",
     "text": [
      "        id       country managed_by  fulfill_via vendor_inco_term  \\\n",
      "0  36203.0       Nigeria   PMO - US  Direct Drop              EXW   \n",
      "1  30998.0      Botswana   PMO - US  Direct Drop              EXW   \n",
      "2  69871.0       Vietnam   PMO - US  Direct Drop              EXW   \n",
      "3  17648.0  South Africa   PMO - US  Direct Drop              DDP   \n",
      "4   5647.0        Uganda   PMO - US  Direct Drop              EXW   \n",
      "\n",
      "  shipment_mode  late_delivery late product_group    sub_classification  ...  \\\n",
      "0           Air            1.0  Yes          HRDT              HIV test  ...   \n",
      "1           Air            0.0   No          HRDT              HIV test  ...   \n",
      "2           Air            0.0   No           ARV                 Adult  ...   \n",
      "3         Ocean            0.0   No           ARV                 Adult  ...   \n",
      "4           Air            0.0   No          HRDT  HIV test - Ancillary  ...   \n",
      "\n",
      "  line_item_quantity line_item_value pack_price unit_price  \\\n",
      "0             2996.0       266644.00      89.00       0.89   \n",
      "1               25.0          800.00      32.00       1.60   \n",
      "2            22925.0       110040.00       4.80       0.08   \n",
      "3           152535.0       361507.95       2.37       0.04   \n",
      "4              850.0            8.50       0.01       0.00   \n",
      "\n",
      "             manufacturing_site first_line_designation  weight_kilograms  \\\n",
      "0       Alere Medical Co., Ltd.                    Yes            1426.0   \n",
      "1          Trinity Biotech, Plc                    Yes              10.0   \n",
      "2  Hetero Unit III Hyderabad IN                    Yes            3723.0   \n",
      "3     Aurobindo Unit III, India                    Yes            7698.0   \n",
      "4               Inverness Japan                    Yes              56.0   \n",
      "\n",
      "   freight_cost_usd  freight_cost_groups  line_item_insurance_usd  \n",
      "0          33279.83            expensive                   373.83  \n",
      "1            559.89           reasonable                     1.72  \n",
      "2          19056.13            expensive                   181.57  \n",
      "3          11372.23            expensive                   779.41  \n",
      "4            360.00           reasonable                     0.01  \n",
      "\n",
      "[5 rows x 27 columns]\n",
      "0.061\n"
     ]
    }
   ],
   "source": [
    "# Print the head of late_shipments dataset\n",
    "print(late_shipments.head())\n",
    "\n",
    "# Calculate the proportion of late shipments\n",
    "late_prop_samp = (late_shipments['late'] == 'Yes').mean()\n",
    "\n",
    "# Print the results\n",
    "print(late_prop_samp)"
   ]
  },
  {
   "cell_type": "markdown",
   "id": "00d2ffa3-b082-4df9-b5a1-20dae6bb9e97",
   "metadata": {},
   "source": [
    "**Calculating a z-score**\n",
    "\n",
    "Since variables have arbitrary ranges and units, we need to standardize them. For example, a hypothesis test that gave different answers if the variables were in Euros instead of US dollars would be of little value. Standardization avoids that.\n",
    "\n",
    "One standardized value of interest in a hypothesis test is called a z-score. To calculate it, you need three numbers: the sample statistic (point estimate), the hypothesized statistic, and the standard error of the statistic (estimated from the bootstrap distribution).\n",
    "\n",
    "The sample statistic is save as late_prop_samp.\n",
    "\n",
    "**standardized value = (value − mean) /standard deviation**\n",
    "\n",
    "**z =(sample statistic − hypoth. param. value) /standard error**\n"
   ]
  },
  {
   "cell_type": "code",
   "execution_count": 3,
   "id": "dfa74e1e-4399-4799-b497-dd0e957ffda0",
   "metadata": {},
   "outputs": [],
   "source": [
    "# Step 3. Repeat steps 1 & 2 many times, appending to a list\n",
    "late_shipments_boot_distn = []\n",
    "for i in range(5000):\n",
    "    late_shipments_boot_distn.append((late_shipments.sample(frac=1, replace=True)['late']  == 'Yes'). # Step 1. Resample\n",
    "                                     mean()) # Step 2. Calculate point estimate"
   ]
  },
  {
   "cell_type": "code",
   "execution_count": 4,
   "id": "4f606337-c645-4b51-84c8-bdc5690cf719",
   "metadata": {},
   "outputs": [
    {
     "name": "stdout",
     "output_type": "stream",
     "text": [
      "0.13416893877767544\n"
     ]
    }
   ],
   "source": [
    "# Hypothesize that the proportion is 6%\n",
    "late_prop_hyp = 0.06\n",
    "\n",
    "# Calculate the standard error\n",
    "import numpy as np\n",
    "std_error = np.std(late_shipments_boot_distn, ddof =1)\n",
    "\n",
    "# Find z-score of late_prop_samp\n",
    "z_score = (late_prop_samp - late_prop_hyp)/std_error\n",
    "\n",
    "# Print z_score\n",
    "print(z_score)"
   ]
  },
  {
   "cell_type": "markdown",
   "id": "371a0945-2765-4ab1-aaf9-f96a50a8faa3",
   "metadata": {},
   "source": [
    "**Calculating p-values**\n",
    "\n",
    "In order to determine whether to choose the null hypothesis or the alternative hypothesis, you need to calculate a p-value from the z-score.\n",
    "The null hypothesis, is that the proportion of late shipments is six percent.\n",
    "The alternative hypothesis, is that the proportion of late shipments is greater than six percent.\n",
    "\n",
    "The observed sample statistic is save as late_prop_samp, the hypothesized value is (6%)  and the bootstrap standard error is save as std_error. \n",
    "The type of test  used for this alternative hypothesis is Right-tailed test."
   ]
  },
  {
   "cell_type": "code",
   "execution_count": 5,
   "id": "0d475908-b9f5-4496-81cc-a4aabd9ddd7b",
   "metadata": {},
   "outputs": [
    {
     "name": "stdout",
     "output_type": "stream",
     "text": [
      "0.4466344935332125\n"
     ]
    }
   ],
   "source": [
    "# Calculate the z-score of late_prop_samp\n",
    "late_prop_hyp =0.06\n",
    "z_score = (late_prop_samp - late_prop_hyp)/std_error\n",
    "\n",
    "# Calculate the p-value\n",
    "from scipy.stats import norm\n",
    "p_value = 1 - norm.cdf(z_score, loc =0, scale =1)\n",
    "                 \n",
    "# Print the p-value\n",
    "print(p_value) "
   ]
  },
  {
   "cell_type": "markdown",
   "id": "8af50aa7-8d0e-44ec-a6d9-8dbd209e8234",
   "metadata": {},
   "source": [
    "**Calculating a confidence interval**\n",
    "\n",
    "If you give a single estimate of a sample statistic, you are bound to be wrong by some amount. For example, the hypothesized proportion of late shipments was 6%. Even if evidence suggests the null hypothesis that the proportion of late shipments is equal to this, for any new sample of shipments, the proportion is likely to be a little different due to sampling variability. Consequently, it's a good idea to state a confidence interval. That is, you say, \"we are 95% 'confident' that the proportion of late shipments is between A and B\" (for some value of A and B).\n",
    "\n",
    "Sampling in Python demonstrated two methods for calculating confidence intervals. Here, you'll use quantiles of the bootstrap distribution to calculate the confidence interval."
   ]
  },
  {
   "cell_type": "code",
   "execution_count": 6,
   "id": "cb94b255-46e5-4c87-bbb7-bb775cb9d2fd",
   "metadata": {},
   "outputs": [
    {
     "name": "stdout",
     "output_type": "stream",
     "text": [
      "(0.047, 0.076)\n"
     ]
    }
   ],
   "source": [
    "# Calculate 95% confidence interval using quantile method\n",
    "lower = np.quantile(late_shipments_boot_distn, 0.025)\n",
    "upper = np.quantile(late_shipments_boot_distn, 0.975)\n",
    "\n",
    "# Print the confidence interval\n",
    "print((lower, upper))"
   ]
  },
  {
   "cell_type": "markdown",
   "id": "49f64184-949c-4ed2-960b-456f1c2ce834",
   "metadata": {},
   "source": [
    "When you have a confidence interval width equal to one minus the significance level, if the hypothesized population parameter is within the confidence interval, you should fail to reject the null hypothesis."
   ]
  },
  {
   "cell_type": "markdown",
   "id": "0a644ec1-6c73-4a82-b983-24cc2ec64815",
   "metadata": {},
   "source": [
    "# Performing t-tests"
   ]
  },
  {
   "cell_type": "markdown",
   "id": "22633a5a-4ae5-45c0-9540-74a88ebc7292",
   "metadata": {},
   "source": [
    "**Two sample mean test statistic**\n",
    "\n",
    "The hypothesis test for determining if there is a difference between the means of two populations uses a different type of test statistic to the z-scores. It's called \"t\", and it can be calculated from three values from each sample using this equation:\n",
    "\n",
    "t = ( μ1 – μ2) / √ [(s1^2 / n1 ) + (s2^2 / n2 )], where:\n",
    "\n",
    "μ1 = Observed Mean of 1st Sample;\n",
    "μ2 = Observed Mean of 2nd Sample;\n",
    "s1 = Standard Deviation of 1st Sample;\n",
    "s2= Standard Deviation of 2nd Sample;\n",
    "n1 = Size of 1st Sample;\n",
    "n2 = Size of 2nd Sample;\n",
    "\n",
    "While trying to determine why some shipments are late, you may wonder if the weight of the shipments that were on time is less than the weight of the shipments that were late. The late_shipments dataset has been split into a \"yes\" group, where late == \"Yes\" and a \"no\" group where late == \"No\". The weight of the shipment is given in the weight_kilograms variable."
   ]
  },
  {
   "cell_type": "code",
   "execution_count": 7,
   "id": "158ba680-e698-4091-b9a9-e4d1dc207388",
   "metadata": {},
   "outputs": [
    {
     "name": "stdout",
     "output_type": "stream",
     "text": [
      "1897.7912673056444 , 2715.6721311475408\n"
     ]
    }
   ],
   "source": [
    "xbar_no = late_shipments[late_shipments['late'] == 'No']['weight_kilograms'].mean()\n",
    "xbar_yes = late_shipments[late_shipments['late'] == 'Yes']['weight_kilograms'].mean()\n",
    "print(xbar_no,',',xbar_yes)"
   ]
  },
  {
   "cell_type": "code",
   "execution_count": 8,
   "id": "bae16d27-5218-433b-abb7-ce1e8182ad62",
   "metadata": {},
   "outputs": [
    {
     "name": "stdout",
     "output_type": "stream",
     "text": [
      "3154.0395070841696 , 2544.688210903328\n"
     ]
    }
   ],
   "source": [
    "s_no = late_shipments[late_shipments['late'] == 'No']['weight_kilograms'].std()\n",
    "s_yes = late_shipments[late_shipments['late'] == 'Yes']['weight_kilograms'].std()\n",
    "print(s_no,',',s_yes)"
   ]
  },
  {
   "cell_type": "code",
   "execution_count": 9,
   "id": "2ad61d97-f5a8-4d83-87f5-9766ce01e4c8",
   "metadata": {},
   "outputs": [],
   "source": [
    "n_yes = len(late_shipments[late_shipments['late'] == 'Yes'])\n",
    "n_no = len(late_shipments[late_shipments['late'] == 'No'])"
   ]
  },
  {
   "cell_type": "code",
   "execution_count": 10,
   "id": "40a7da35-dcf4-4f4e-864f-82e4ca9a868f",
   "metadata": {},
   "outputs": [
    {
     "name": "stdout",
     "output_type": "stream",
     "text": [
      "2.3936661778766433\n"
     ]
    }
   ],
   "source": [
    "# Calculate the numerator of the test statistic\n",
    "numerator = xbar_yes - xbar_no\n",
    "\n",
    "# Calculate the denominator of the test statistic\n",
    "denominator = np.sqrt(s_yes**2/n_yes + s_no**2/n_no)\n",
    "\n",
    "# Calculate the test statistic\n",
    "t_stat = numerator/denominator \n",
    "\n",
    "# Print the test statistic\n",
    "print(t_stat)"
   ]
  },
  {
   "cell_type": "markdown",
   "id": "cb0ad284-c5db-462d-a962-b8db9a741534",
   "metadata": {},
   "source": [
    "**From t to p**\n",
    "\n",
    "Previously, you calculated the test statistic for the two-sample problem of whether the mean weight of shipments is smaller for shipments that weren't late (late == \"No\") compared to shipments that were late (late == \"Yes\"). In order to make decisions about it, you need to transform the test statistic with a cumulative distribution function to get a p-value.\n",
    "\n",
    "Recall the hypotheses:\n",
    "\n",
    "H0: The mean weight of shipments that weren't late is the same as the mean weight of shipments that were late.\n",
    "\n",
    "Ha: The mean weight of shipments that weren't late is less than the mean weight of shipments that were late.\n",
    "\n",
    "We use a significance level of alpha = 0.05"
   ]
  },
  {
   "cell_type": "code",
   "execution_count": 11,
   "id": "93ef4bd5-899f-42c6-ad9d-312dadd7739a",
   "metadata": {},
   "outputs": [
    {
     "name": "stdout",
     "output_type": "stream",
     "text": [
      "0.008432382146249523\n"
     ]
    }
   ],
   "source": [
    "# Calculate the degrees of freedom\n",
    "degrees_of_freedom = n_no + n_yes - 2\n",
    "\n",
    "# Calculate the p-value from the test stat\n",
    "from scipy.stats import t\n",
    "p_value = t.cdf(-t_stat, df = degrees_of_freedom)\n",
    "\n",
    "# Print the p_value\n",
    "print(p_value)"
   ]
  },
  {
   "cell_type": "markdown",
   "id": "06be96eb-b4ab-4542-b815-23be9e0f77fd",
   "metadata": {},
   "source": [
    "Because p_value < alpha  we reject the null hypothesis."
   ]
  },
  {
   "cell_type": "markdown",
   "id": "5267790a-c00b-49f5-86be-f7b0f2e63a05",
   "metadata": {},
   "source": [
    "**Visualizing the difference**\n",
    "Before you start running hypothesis tests, it's a great idea to perform some exploratory data analysis; that is, calculating summary statistics and visualizing distributions.\n",
    "\n",
    "Here, you'll look at the proportion of county-level votes for the Democratic candidate in 2012 and 2016, sample_dem_data. Since the counties are the same in both years, these samples are paired. The columns containing the samples are dem_percent_12 and dem_percent_16."
   ]
  },
  {
   "cell_type": "code",
   "execution_count": 12,
   "id": "95cff9b0-be9e-49b6-aa31-bf53d5f74dec",
   "metadata": {},
   "outputs": [
    {
     "data": {
      "image/png": "[encoded data removed]",
      "text/plain": [
       "<Figure size 432x288 with 1 Axes>"
      ]
     },
     "metadata": {
      "needs_background": "light"
     },
     "output_type": "display_data"
    }
   ],
   "source": [
    "# Calculate the differences from 2012 to 2016\n",
    "sample_dem_data['diff'] = sample_dem_data['dem_percent_12'] - sample_dem_data['dem_percent_16']\n",
    "\n",
    "# Find the mean of the diff column\n",
    "xbar_diff = sample_dem_data['diff'].mean()\n",
    "\n",
    "# Find the standard deviation of the diff column\n",
    "s_diff = sample_dem_data['diff'].std()\n",
    "\n",
    "# Plot a histogram of diff with 20 bins\n",
    "import matplotlib.pyplot as plt\n",
    "sample_dem_data['diff'].hist(bins=20)\n",
    "plt.show()"
   ]
  },
  {
   "cell_type": "markdown",
   "id": "24d0c868-c14d-4e38-a1e9-8e602242beb5",
   "metadata": {},
   "source": [
    "**Using ttest()**\n",
    "\n",
    " The comparison of two sample means is called a t-test, and the pingouin Python package has a .ttest() method to accomplish it. This method provides some flexibility in how you perform the test.\n",
    "\n",
    "We'll explore the difference between the proportion of county-level votes for the Democratic candidate in 2012 and 2016 to identify if the difference is significant. The hypotheses are as follows:\n",
    "\n",
    "H0: The proportion of democratic votes in 2012 and 2016 were the same. \n",
    "\n",
    "Ha: The proportion of democratic votes in 2012 and 2016 were different."
   ]
  },
  {
   "cell_type": "code",
   "execution_count": 13,
   "id": "daa6e3a2-8d2f-4456-83ec-7baaa8b6e76f",
   "metadata": {},
   "outputs": [
    {
     "name": "stdout",
     "output_type": "stream",
     "text": [
      "Requirement already satisfied: pingouin in c:\\users\\valen\\appdata\\local\\programs\\python\\python310\\lib\\site-packages (0.5.3)\n",
      "Requirement already satisfied: statsmodels>=0.13 in c:\\users\\valen\\appdata\\local\\programs\\python\\python310\\lib\\site-packages (from pingouin) (0.13.5)\n",
      "Requirement already satisfied: pandas>=1.0 in c:\\users\\valen\\appdata\\local\\programs\\python\\python310\\lib\\site-packages (from pingouin) (1.4.4)\n",
      "Requirement already satisfied: scipy>=1.7 in c:\\users\\valen\\appdata\\local\\programs\\python\\python310\\lib\\site-packages (from pingouin) (1.8.1)\n",
      "Requirement already satisfied: seaborn>=0.11 in c:\\users\\valen\\appdata\\local\\programs\\python\\python310\\lib\\site-packages (from pingouin) (0.11.2)\n",
      "Requirement already satisfied: pandas-flavor>=0.2.0 in c:\\users\\valen\\appdata\\local\\programs\\python\\python310\\lib\\site-packages (from pingouin) (0.5.0)\n",
      "Requirement already satisfied: scikit-learn in c:\\users\\valen\\appdata\\local\\programs\\python\\python310\\lib\\site-packages (from pingouin) (1.1.1)\n",
      "Requirement already satisfied: outdated in c:\\users\\valen\\appdata\\local\\programs\\python\\python310\\lib\\site-packages (from pingouin) (0.2.2)\n",
      "Requirement already satisfied: numpy>=1.19 in c:\\users\\valen\\appdata\\local\\programs\\python\\python310\\lib\\site-packages (from pingouin) (1.23.1)\n",
      "Requirement already satisfied: tabulate in c:\\users\\valen\\appdata\\local\\programs\\python\\python310\\lib\\site-packages (from pingouin) (0.9.0)\n",
      "Requirement already satisfied: matplotlib>=3.0.2 in c:\\users\\valen\\appdata\\local\\programs\\python\\python310\\lib\\site-packages (from pingouin) (3.5.3)\n",
      "Requirement already satisfied: pyparsing>=2.2.1 in c:\\users\\valen\\appdata\\local\\programs\\python\\python310\\lib\\site-packages (from matplotlib>=3.0.2->pingouin) (3.0.9)\n",
      "Requirement already satisfied: kiwisolver>=1.0.1 in c:\\users\\valen\\appdata\\local\\programs\\python\\python310\\lib\\site-packages (from matplotlib>=3.0.2->pingouin) (1.4.4)\n",
      "Requirement already satisfied: python-dateutil>=2.7 in c:\\users\\valen\\appdata\\local\\programs\\python\\python310\\lib\\site-packages (from matplotlib>=3.0.2->pingouin) (2.8.2)\n",
      "Requirement already satisfied: cycler>=0.10 in c:\\users\\valen\\appdata\\local\\programs\\python\\python310\\lib\\site-packages (from matplotlib>=3.0.2->pingouin) (0.11.0)\n",
      "Requirement already satisfied: packaging>=20.0 in c:\\users\\valen\\appdata\\local\\programs\\python\\python310\\lib\\site-packages (from matplotlib>=3.0.2->pingouin) (21.3)\n",
      "Requirement already satisfied: fonttools>=4.22.0 in c:\\users\\valen\\appdata\\local\\programs\\python\\python310\\lib\\site-packages (from matplotlib>=3.0.2->pingouin) (4.37.1)\n",
      "Requirement already satisfied: pillow>=6.2.0 in c:\\users\\valen\\appdata\\local\\programs\\python\\python310\\lib\\site-packages (from matplotlib>=3.0.2->pingouin) (9.2.0)\n",
      "Requirement already satisfied: pytz>=2020.1 in c:\\users\\valen\\appdata\\local\\programs\\python\\python310\\lib\\site-packages (from pandas>=1.0->pingouin) (2022.1)\n",
      "Requirement already satisfied: lazy-loader>=0.1 in c:\\users\\valen\\appdata\\local\\programs\\python\\python310\\lib\\site-packages (from pandas-flavor>=0.2.0->pingouin) (0.1)\n",
      "Requirement already satisfied: xarray in c:\\users\\valen\\appdata\\local\\programs\\python\\python310\\lib\\site-packages (from pandas-flavor>=0.2.0->pingouin) (2023.2.0)\n",
      "Requirement already satisfied: patsy>=0.5.2 in c:\\users\\valen\\appdata\\local\\programs\\python\\python310\\lib\\site-packages (from statsmodels>=0.13->pingouin) (0.5.3)\n",
      "Requirement already satisfied: setuptools>=44 in c:\\users\\valen\\appdata\\local\\programs\\python\\python310\\lib\\site-packages (from outdated->pingouin) (58.1.0)\n",
      "Requirement already satisfied: requests in c:\\users\\valen\\appdata\\local\\programs\\python\\python310\\lib\\site-packages (from outdated->pingouin) (2.28.1)\n",
      "Requirement already satisfied: littleutils in c:\\users\\valen\\appdata\\local\\programs\\python\\python310\\lib\\site-packages (from outdated->pingouin) (0.2.2)\n",
      "Requirement already satisfied: joblib>=1.0.0 in c:\\users\\valen\\appdata\\local\\programs\\python\\python310\\lib\\site-packages (from scikit-learn->pingouin) (1.1.0)\n",
      "Requirement already satisfied: threadpoolctl>=2.0.0 in c:\\users\\valen\\appdata\\local\\programs\\python\\python310\\lib\\site-packages (from scikit-learn->pingouin) (3.1.0)\n",
      "Requirement already satisfied: six in c:\\users\\valen\\appdata\\local\\programs\\python\\python310\\lib\\site-packages (from patsy>=0.5.2->statsmodels>=0.13->pingouin) (1.16.0)\n",
      "Requirement already satisfied: certifi>=2017.4.17 in c:\\users\\valen\\appdata\\local\\programs\\python\\python310\\lib\\site-packages (from requests->outdated->pingouin) (2022.6.15)\n",
      "Requirement already satisfied: charset-normalizer<3,>=2 in c:\\users\\valen\\appdata\\local\\programs\\python\\python310\\lib\\site-packages (from requests->outdated->pingouin) (2.1.0)\n",
      "Requirement already satisfied: urllib3<1.27,>=1.21.1 in c:\\users\\valen\\appdata\\local\\programs\\python\\python310\\lib\\site-packages (from requests->outdated->pingouin) (1.26.11)\n",
      "Requirement already satisfied: idna<4,>=2.5 in c:\\users\\valen\\appdata\\local\\programs\\python\\python310\\lib\\site-packages (from requests->outdated->pingouin) (3.3)\n"
     ]
    },
    {
     "name": "stderr",
     "output_type": "stream",
     "text": [
      "WARNING: Ignoring invalid distribution -ip (c:\\users\\valen\\appdata\\local\\programs\\python\\python310\\lib\\site-packages)\n",
      "WARNING: Ignoring invalid distribution -ip (c:\\users\\valen\\appdata\\local\\programs\\python\\python310\\lib\\site-packages)\n",
      "WARNING: Ignoring invalid distribution -ip (c:\\users\\valen\\appdata\\local\\programs\\python\\python310\\lib\\site-packages)\n",
      "WARNING: Ignoring invalid distribution -ip (c:\\users\\valen\\appdata\\local\\programs\\python\\python310\\lib\\site-packages)\n",
      "WARNING: Ignoring invalid distribution -ip (c:\\users\\valen\\appdata\\local\\programs\\python\\python310\\lib\\site-packages)\n",
      "WARNING: Ignoring invalid distribution -ip (c:\\users\\valen\\appdata\\local\\programs\\python\\python310\\lib\\site-packages)\n"
     ]
    }
   ],
   "source": [
    "import sys\n",
    "!{sys.executable} -m pip install pingouin"
   ]
  },
  {
   "cell_type": "code",
   "execution_count": 14,
   "id": "d06c461a-a343-44ad-8fab-c2c372c65207",
   "metadata": {},
   "outputs": [
    {
     "name": "stdout",
     "output_type": "stream",
     "text": [
      "                T  dof alternative          p-val         CI95%   cohen-d  \\\n",
      "T-test  30.298384  499   two-sided  3.600634e-115  [6.39, 7.27]  1.354985   \n",
      "\n",
      "              BF10  power  \n",
      "T-test  2.246e+111    1.0  \n"
     ]
    }
   ],
   "source": [
    "# Conduct a t-test on diff\n",
    "import pingouin\n",
    "test_results = pingouin.ttest(x=sample_dem_data['diff'], \n",
    "                              y=0, # y specifies the hypothesized difference value from the null hypothesis\n",
    "                              alternative=\"two-sided\") #The type of alternative hypothesis can be specified as two-sided, less, or greater, \n",
    "                                                       # corresponding to two-tailed, left-tailed, and right-tailed tests, respectively\n",
    " \n",
    "# Print the t-test on diff results\n",
    "print(test_results)"
   ]
  },
  {
   "cell_type": "code",
   "execution_count": 15,
   "id": "1cc2536c-5d81-4366-9ffe-4bff412f5e2c",
   "metadata": {},
   "outputs": [
    {
     "name": "stdout",
     "output_type": "stream",
     "text": [
      "                T  dof alternative          p-val         CI95%   cohen-d  \\\n",
      "T-test  30.298384  499   two-sided  3.600634e-115  [6.39, 7.27]  0.454202   \n",
      "\n",
      "              BF10  power  \n",
      "T-test  2.246e+111    1.0  \n"
     ]
    }
   ],
   "source": [
    "# Conduct a paired t-test on dem_percent_12 and dem_percent_16\n",
    "paired_test_results = pingouin.ttest(x=sample_dem_data['dem_percent_12'], y=sample_dem_data['dem_percent_16'], paired = True,  alternative ='two-sided')\n",
    "                             \n",
    "# Print the paired test results\n",
    "print(paired_test_results)"
   ]
  },
  {
   "cell_type": "markdown",
   "id": "1af31d98-309c-4d11-909e-91dcceccf6bb",
   "metadata": {},
   "source": [
    "**Visualizing many categories**\n",
    "\n",
    "So far in this chapter, we've only considered the case of differences in a numeric variable between two categories. Of course, many datasets contain more categories. Before you get to conducting tests on many categories, it's often helpful to perform exploratory data analysis (EDA), calculating summary statistics for each group and visualizing the distributions of the numeric variable for each category using box plots.\n",
    "Here, we'll return to the late shipments data, and how the price of each package (pack_price) varies between the three shipment modes (shipment_mode): \"Air\", \"Air Charter\", and \"Ocean\"."
   ]
  },
  {
   "cell_type": "code",
   "execution_count": 16,
   "id": "25205c6a-c53c-42b2-b651-cd2183396ef7",
   "metadata": {},
   "outputs": [
    {
     "data": {
      "image/png": "[encoded data removed]",
      "text/plain": [
       "<Figure size 432x288 with 1 Axes>"
      ]
     },
     "metadata": {
      "needs_background": "light"
     },
     "output_type": "display_data"
    }
   ],
   "source": [
    "import seaborn as sns\n",
    "# Calculate the mean pack_price for each shipment_mode\n",
    "xbar_pack_by_mode = late_shipments.groupby(\"shipment_mode\")['pack_price'].mean()\n",
    "\n",
    "# Calculate the standard deviation of the pack_price for each shipment_mode\n",
    "s_pack_by_mode = late_shipments.groupby(\"shipment_mode\")['pack_price'].std()\n",
    "\n",
    "# Boxplot of shipment_mode vs. pack_price\n",
    "sns.boxplot(x = \"pack_price\", y = \"shipment_mode\", data = late_shipments)\n",
    "plt.show()"
   ]
  },
  {
   "cell_type": "markdown",
   "id": "90c84813-fded-4822-9697-908c994bf868",
   "metadata": {},
   "source": [
    "**Conducting an ANOVA test**\n",
    "The box plots made it look like the distribution of pack price was different for each of the three shipment modes. However, it didn't tell us whether the mean pack price was different in each category. To determine that, we can use an ANOVA test. The null and alternative hypotheses can be written as follows.\n",
    "\n",
    "H0: Pack prices for every category of shipment mode are the same.\n",
    "\n",
    "Ha: Pack prices for some categories of shipment mode are different.\n",
    "\n",
    "Use a significance level of 0.1."
   ]
  },
  {
   "cell_type": "code",
   "execution_count": 17,
   "id": "ded8fe65-f159-40fd-80d7-807a03560e51",
   "metadata": {},
   "outputs": [
    {
     "name": "stdout",
     "output_type": "stream",
     "text": [
      "          Source  ddof1  ddof2        F         p-unc       np2\n",
      "0  shipment_mode      2    997  21.8646  5.089479e-10  0.042018\n"
     ]
    }
   ],
   "source": [
    "# Run an ANOVA for pack_price across shipment_mode\n",
    "anova_results = pingouin.anova(data = late_shipments, dv = 'pack_price', between =  'shipment_mode')\n",
    "\n",
    "# Print anova_results\n",
    "print(anova_results)"
   ]
  },
  {
   "cell_type": "markdown",
   "id": "3ef21bd9-a2b5-46cc-a719-fb9d968b9f47",
   "metadata": {},
   "source": [
    "**Pairwise t-tests**\n",
    "\n",
    "The p-value is less than or equal to the significance level, so the null hypothesis should be rejected.\n",
    "The ANOVA test didn't tell you which categories of shipment mode had significant differences in pack prices. To pinpoint which categories had differences, you could instead use pairwise t-tests."
   ]
  },
  {
   "cell_type": "code",
   "execution_count": 18,
   "id": "17589046-3326-45a7-ba69-3218a6f49612",
   "metadata": {},
   "outputs": [
    {
     "name": "stdout",
     "output_type": "stream",
     "text": [
      "        Contrast            A            B  Paired  Parametric          T  \\\n",
      "0  shipment_mode          Air  Air Charter   False        True  21.179625   \n",
      "1  shipment_mode          Air        Ocean   False        True  19.335760   \n",
      "2  shipment_mode  Air Charter        Ocean   False        True  -3.170654   \n",
      "\n",
      "          dof alternative         p-unc       BF10    hedges  \n",
      "0  600.685682   two-sided  8.748346e-75  5.809e+76  0.726592  \n",
      "1  986.979785   two-sided  6.934555e-71  1.129e+67  0.711119  \n",
      "2   35.615026   two-sided  3.123012e-03     15.277 -0.423775  \n"
     ]
    }
   ],
   "source": [
    "# Perform a pairwise t-test on pack price, grouped by shipment mode\n",
    "pairwise_results = pingouin.pairwise_tests(data = late_shipments, \n",
    "                                           dv = 'pack_price', \n",
    "                                           between = 'shipment_mode',\n",
    "                                           padjust = 'none')# Print pairwise_results\n",
    "print(pairwise_results)"
   ]
  },
  {
   "cell_type": "code",
   "execution_count": 19,
   "id": "e6a5808d-3f03-4de9-8b88-c3ffd15a8885",
   "metadata": {},
   "outputs": [
    {
     "name": "stdout",
     "output_type": "stream",
     "text": [
      "        Contrast            A            B  Paired  Parametric          T  \\\n",
      "0  shipment_mode          Air  Air Charter   False        True  21.179625   \n",
      "1  shipment_mode          Air        Ocean   False        True  19.335760   \n",
      "2  shipment_mode  Air Charter        Ocean   False        True  -3.170654   \n",
      "\n",
      "          dof alternative         p-unc        p-corr p-adjust       BF10  \\\n",
      "0  600.685682   two-sided  8.748346e-75  2.624504e-74     bonf  5.809e+76   \n",
      "1  986.979785   two-sided  6.934555e-71  2.080367e-70     bonf  1.129e+67   \n",
      "2   35.615026   two-sided  3.123012e-03  9.369037e-03     bonf     15.277   \n",
      "\n",
      "     hedges  \n",
      "0  0.726592  \n",
      "1  0.711119  \n",
      "2 -0.423775  \n"
     ]
    }
   ],
   "source": [
    "# Modify the pairwise t-tests to use Bonferroni p-value adjustment\n",
    "pairwise_results = pingouin.pairwise_tests(data=late_shipments, \n",
    "                                           dv=\"pack_price\",\n",
    "                                           between=\"shipment_mode\",\n",
    "                                           padjust=\"bonf\")\n",
    "\n",
    "# Print pairwise_results\n",
    "print(pairwise_results)"
   ]
  },
  {
   "cell_type": "markdown",
   "id": "7e4403e8-4957-4d01-9a41-88606e85acec",
   "metadata": {},
   "source": [
    "After applying the Bonferroni adjustment, the p-values for the t-tests between each of the three groups are all less than 0.1, so we can reject the null hypothesis that the pack prices are equal."
   ]
  },
  {
   "cell_type": "markdown",
   "id": "fe8a229c-3d7d-4535-a7d6-e242730b0dde",
   "metadata": {},
   "source": [
    "# Proportion Tests"
   ]
  },
  {
   "cell_type": "markdown",
   "id": "7241a1fd-e3d4-4f71-8f0a-59cb700cc5c2",
   "metadata": {},
   "source": [
    "**Test for single proportions**\n",
    "\n",
    "In Chapter 1, you calculated a p-value for a test hypothesizing that the proportion of late shipments was greater than 6%. In that chapter, you used a bootstrap distribution to estimate the standard error of the statistic. An alternative is to use an equation for the standard error based on the sample proportion(p_hat), hypothesized proportion(p_0), and sample size (n).\n",
    "\n",
    "z_score = (numerator = p_hat - p_0)/np.sqrt(p_0 * (1 - p_0) / n)"
   ]
  },
  {
   "cell_type": "code",
   "execution_count": 20,
   "id": "d41404da-8ce4-4c81-9b8e-0aedf4ef10e8",
   "metadata": {},
   "outputs": [],
   "source": [
    "# Hypothesize that the proportion of late shipments is 6%\n",
    "p_0 = 0.06\n",
    "\n",
    "# Calculate the sample proportion of late shipments\n",
    "p_hat = (late_shipments['late'] == \"Yes\").mean()\n",
    "\n",
    "# Calculate the sample size\n",
    "n = len(late_shipments)\n",
    "\n",
    "# Calculate the numerator and denominator of the test statistic\n",
    "numerator = p_hat - p_0\n",
    "denominator = np.sqrt(p_0 * (1 - p_0) / n)\n",
    "\n",
    "# Calculate the test statistic\n",
    "z_score = numerator / denominator"
   ]
  },
  {
   "cell_type": "code",
   "execution_count": 21,
   "id": "23e28d2e-bb00-4cc3-8c14-32b1bd93131a",
   "metadata": {},
   "outputs": [
    {
     "name": "stdout",
     "output_type": "stream",
     "text": [
      "0.44703503936503364\n"
     ]
    }
   ],
   "source": [
    "# Calculate the p-value from the z-score\n",
    "p_value = 1- norm.cdf(z_score)\n",
    "\n",
    "# Print the p-value\n",
    "print(p_value)"
   ]
  },
  {
   "cell_type": "markdown",
   "id": "ce638387-e58e-4035-ae39-b50d2dc9572a",
   "metadata": {},
   "source": [
    "While bootstrapping can be used to estimate the standard error of any statistic, it is computationally intensive. For proportions, using a simple equation of the hypothesized proportion and sample size is easier to compute"
   ]
  },
  {
   "cell_type": "markdown",
   "id": "765738d9-23ca-4814-b6e9-4e0489c6a9e2",
   "metadata": {},
   "source": [
    "**Test of two proportions**\n",
    "\n",
    "You may wonder if the amount paid for freight affects whether or not the shipment was late. Recall that in the late_shipments dataset, whether or not the shipment was late is stored in the late column. Freight costs are stored in the freight_cost_group column, and the categories are \"expensive\" and \"reasonable\".\n",
    "We will calculate Proportions_ztest() for two samples using the statsmodels package\n",
    "\n",
    "The hypotheses to test, with \"late\" corresponding to the proportion of late shipments for that group, are:\n",
    "\n",
    "H0: late expensive - late reasonable = 0\n",
    "\n",
    "Ha:  late expensive - late reasonable > 0"
   ]
  },
  {
   "cell_type": "code",
   "execution_count": 22,
   "id": "ba6a1d68-d023-4497-86a2-33bc35f0b68a",
   "metadata": {},
   "outputs": [],
   "source": [
    "from statsmodels.stats.proportion import proportions_ztest"
   ]
  },
  {
   "cell_type": "code",
   "execution_count": 23,
   "id": "aaa3dfc0-6f04-41bd-a771-c5771d14430c",
   "metadata": {},
   "outputs": [
    {
     "data": {
      "text/plain": [
       "freight_cost_groups  late\n",
       "expensive            No      489\n",
       "                     Yes      42\n",
       "reasonable           No      439\n",
       "                     Yes      16\n",
       "Name: late, dtype: int64"
      ]
     },
     "execution_count": 23,
     "metadata": {},
     "output_type": "execute_result"
    }
   ],
   "source": [
    "# Count the late column values for each freight_cost_group\n",
    "late_shipments.groupby(\"freight_cost_groups\")['late'].value_counts()"
   ]
  },
  {
   "cell_type": "code",
   "execution_count": 24,
   "id": "88ef4017-bcfb-401d-8696-5d459883bdf0",
   "metadata": {},
   "outputs": [
    {
     "name": "stdout",
     "output_type": "stream",
     "text": [
      "3.1190401865206128 , 0.0009072060637051224\n"
     ]
    }
   ],
   "source": [
    "# Create an array of the \"Yes\" counts for each freight_cost_group\n",
    "success_counts = np.array([45, 16])\n",
    "\n",
    "# Create an array of the total number of rows in each freight_cost_group\n",
    "n = np.array([500+45, 439+16])\n",
    "\n",
    "# Run a z-test on the two proportions\n",
    "z_scorre, p_value = proportions_ztest(count=success_counts, nobs=n, alternative='larger')\n",
    "\n",
    "# Print the results\n",
    "print(z_scorre,',', p_value)"
   ]
  },
  {
   "cell_type": "markdown",
   "id": "2c995b8a-deb1-41c7-ad0e-954447493157",
   "metadata": {},
   "source": [
    "**Performing a chi-square test**\n",
    "\n",
    "The chi-square independence test compares proportions of successes of one categorical variable across the categories of another categorical variable.\n",
    "\n",
    "Trade deals often use a form of business shorthand in order to specify the exact details of their contract. These are International Chamber of Commerce (ICC) international commercial terms, or incoterms for short.\n",
    "\n",
    "The late_shipments dataset includes a vendor_inco_term that describes the incoterms that applied to a given shipment. The choices are:\n",
    "\n",
    "EXW: \"Ex works\". The buyer pays for transportation of the goods.\n",
    "CIP: \"Carriage and insurance paid to\". The seller pays for freight and insurance until the goods board a ship.\n",
    "DDP: \"Delivered duty paid\". The seller pays for transportation of the goods until they reach a destination port.\n",
    "FCA: \"Free carrier\". The seller pays for transportation of the goods.\n",
    "\n",
    "Perhaps the incoterms affect whether or not the freight costs are expensive. Test these hypotheses with a significance level of 0.01.\n",
    "\n",
    "H0: vendor_inco_term and freight_cost_group are independent.\n",
    "\n",
    "Ha: vendor_inco_term and freight_cost_group are associated"
   ]
  },
  {
   "cell_type": "code",
   "execution_count": 25,
   "id": "6dd3be0f-3abf-4b0f-a8c7-e76beebaf2f3",
   "metadata": {},
   "outputs": [
    {
     "data": {
      "text/plain": [
       "vendor_inco_term  freight_cost_groups\n",
       "CIP               reasonable             0.680000\n",
       "                  expensive              0.320000\n",
       "DDP               expensive              0.550000\n",
       "                  reasonable             0.450000\n",
       "DDU               reasonable             1.000000\n",
       "EXW               expensive              0.583448\n",
       "                  reasonable             0.416552\n",
       "FCA               reasonable             0.663636\n",
       "                  expensive              0.336364\n",
       "Name: freight_cost_groups, dtype: float64"
      ]
     },
     "execution_count": 25,
     "metadata": {},
     "output_type": "execute_result"
    }
   ],
   "source": [
    "# Proportion of freight_cost_group grouped by vendor_inco_term\n",
    "props = late_shipments.groupby('vendor_inco_term')['freight_cost_groups'].value_counts(normalize=True)  \n",
    "props"
   ]
  },
  {
   "cell_type": "code",
   "execution_count": 26,
   "id": "c0c58366-a5d0-49df-bf45-c8157dc4a990",
   "metadata": {},
   "outputs": [
    {
     "data": {
      "text/html": [
       "<div>\n",
       "<style scoped>\n",
       "    .dataframe tbody tr th:only-of-type {\n",
       "        vertical-align: middle;\n",
       "    }\n",
       "\n",
       "    .dataframe tbody tr th {\n",
       "        vertical-align: top;\n",
       "    }\n",
       "\n",
       "    .dataframe thead th {\n",
       "        text-align: right;\n",
       "    }\n",
       "</style>\n",
       "<table border=\"1\" class=\"dataframe\">\n",
       "  <thead>\n",
       "    <tr style=\"text-align: right;\">\n",
       "      <th>freight_cost_groups</th>\n",
       "      <th>expensive</th>\n",
       "      <th>reasonable</th>\n",
       "    </tr>\n",
       "    <tr>\n",
       "      <th>vendor_inco_term</th>\n",
       "      <th></th>\n",
       "      <th></th>\n",
       "    </tr>\n",
       "  </thead>\n",
       "  <tbody>\n",
       "    <tr>\n",
       "      <th>CIP</th>\n",
       "      <td>0.320000</td>\n",
       "      <td>0.680000</td>\n",
       "    </tr>\n",
       "    <tr>\n",
       "      <th>DDP</th>\n",
       "      <td>0.550000</td>\n",
       "      <td>0.450000</td>\n",
       "    </tr>\n",
       "    <tr>\n",
       "      <th>DDU</th>\n",
       "      <td>NaN</td>\n",
       "      <td>1.000000</td>\n",
       "    </tr>\n",
       "    <tr>\n",
       "      <th>EXW</th>\n",
       "      <td>0.583448</td>\n",
       "      <td>0.416552</td>\n",
       "    </tr>\n",
       "    <tr>\n",
       "      <th>FCA</th>\n",
       "      <td>0.336364</td>\n",
       "      <td>0.663636</td>\n",
       "    </tr>\n",
       "  </tbody>\n",
       "</table>\n",
       "</div>"
      ],
      "text/plain": [
       "freight_cost_groups  expensive  reasonable\n",
       "vendor_inco_term                          \n",
       "CIP                   0.320000    0.680000\n",
       "DDP                   0.550000    0.450000\n",
       "DDU                        NaN    1.000000\n",
       "EXW                   0.583448    0.416552\n",
       "FCA                   0.336364    0.663636"
      ]
     },
     "execution_count": 26,
     "metadata": {},
     "output_type": "execute_result"
    }
   ],
   "source": [
    "# Convert props to wide format\n",
    "wide_props = props.unstack()\n",
    "wide_props"
   ]
  },
  {
   "cell_type": "code",
   "execution_count": 27,
   "id": "8a8b21d5-3211-47b8-b2be-8783ada508a0",
   "metadata": {},
   "outputs": [
    {
     "data": {
      "image/png": "[encoded data removed]",
      "text/plain": [
       "<Figure size 432x288 with 1 Axes>"
      ]
     },
     "metadata": {
      "needs_background": "light"
     },
     "output_type": "display_data"
    }
   ],
   "source": [
    "# Proportional stacked bar plot of freight_cost_group vs. vendor_inco_term\n",
    "wide_props.plot(kind=\"bar\", stacked=True)\n",
    "plt.show()  "
   ]
  },
  {
   "cell_type": "markdown",
   "id": "c75ecdad-890c-4baf-a707-fb3e2c6c4053",
   "metadata": {},
   "source": [
    "If the freight_cost_group was independent of the vendor_inco_term and, the split between the freight_cost_group would be at the same height in each of the five bars. There's some variation here, but we'll need a chi-square independence test to determine whether it's a significant difference."
   ]
  },
  {
   "cell_type": "code",
   "execution_count": 28,
   "id": "82e56ca4-191c-4324-8057-e6727c2555e1",
   "metadata": {},
   "outputs": [
    {
     "name": "stdout",
     "output_type": "stream",
     "text": [
      "      test  lambda       chi2  dof          pval    cramer     power\n",
      "0  pearson     1.0  34.805072  4.0  5.093922e-07  0.186561  0.999235\n"
     ]
    },
    {
     "name": "stderr",
     "output_type": "stream",
     "text": [
      "C:\\Users\\valen\\AppData\\Local\\Programs\\Python\\Python310\\lib\\site-packages\\pingouin\\contingency.py:150: UserWarning: Low count on observed frequencies.\n",
      "  warnings.warn(\"Low count on {} frequencies.\".format(name))\n",
      "C:\\Users\\valen\\AppData\\Local\\Programs\\Python\\Python310\\lib\\site-packages\\pingouin\\contingency.py:150: UserWarning: Low count on expected frequencies.\n",
      "  warnings.warn(\"Low count on {} frequencies.\".format(name))\n",
      "C:\\Users\\valen\\AppData\\Local\\Programs\\Python\\Python310\\lib\\site-packages\\scipy\\stats\\_stats_py.py:6775: RuntimeWarning: divide by zero encountered in power\n",
      "  terms = f_obs * ((f_obs / f_exp)**lambda_ - 1)\n",
      "C:\\Users\\valen\\AppData\\Local\\Programs\\Python\\Python310\\lib\\site-packages\\scipy\\stats\\_stats_py.py:6775: RuntimeWarning: invalid value encountered in multiply\n",
      "  terms = f_obs * ((f_obs / f_exp)**lambda_ - 1)\n",
      "C:\\Users\\valen\\AppData\\Local\\Programs\\Python\\Python310\\lib\\site-packages\\scipy\\stats\\_stats_py.py:6772: RuntimeWarning: divide by zero encountered in divide\n",
      "  terms = 2.0 * special.xlogy(f_exp, f_exp / f_obs)\n"
     ]
    }
   ],
   "source": [
    "# Determine if freight_cost_group and vendor_inco_term are independent\n",
    "expected, observed, stats = pingouin.chi2_independence(data = late_shipments, x = 'freight_cost_groups', y = 'vendor_inco_term')\n",
    "\n",
    "# Print results\n",
    "print(stats[stats['test'] == 'pearson'])"
   ]
  },
  {
   "cell_type": "markdown",
   "id": "50e7a880-afa0-4564-8e4e-54f72ce606d2",
   "metadata": {},
   "source": [
    "Reject the null hypothesis and conclude that vendor_inco_term and freight_cost_group are associated."
   ]
  },
  {
   "cell_type": "markdown",
   "id": "907db79e-202d-4a2c-b560-f5c6621f8489",
   "metadata": {},
   "source": [
    "**Visualizing goodness of fit**\n",
    "\n",
    "The chi-square goodness of fit test compares proportions of each level of a categorical variable to hypothesized values. Before running such a test, it can be helpful to visually compare the distribution in the sample to the hypothesized distribution.\n",
    "\n",
    "Recall the vendor incoterms in the late_shipments dataset. You hypothesize that the four values occur with these frequencies in the population of shipments.\n",
    "\n",
    "CIP: 0.05\n",
    "DDP: 0.1\n",
    "EXW: 0.75\n",
    "FCA: 0.1\n",
    "These frequencies are stored in the hypothesized DataFrame.\n",
    "\n",
    "The incoterm_counts DataFrame stores the .value_counts() of the vendor_inco_term column."
   ]
  },
  {
   "cell_type": "code",
   "execution_count": 29,
   "id": "05a0e800-e71c-4f36-8a12-cef3913c2fb6",
   "metadata": {},
   "outputs": [
    {
     "data": {
      "text/html": [
       "<div>\n",
       "<style scoped>\n",
       "    .dataframe tbody tr th:only-of-type {\n",
       "        vertical-align: middle;\n",
       "    }\n",
       "\n",
       "    .dataframe tbody tr th {\n",
       "        vertical-align: top;\n",
       "    }\n",
       "\n",
       "    .dataframe thead th {\n",
       "        text-align: right;\n",
       "    }\n",
       "</style>\n",
       "<table border=\"1\" class=\"dataframe\">\n",
       "  <thead>\n",
       "    <tr style=\"text-align: right;\">\n",
       "      <th></th>\n",
       "      <th>vendor_inco_term</th>\n",
       "      <th>prop</th>\n",
       "    </tr>\n",
       "  </thead>\n",
       "  <tbody>\n",
       "    <tr>\n",
       "      <th>0</th>\n",
       "      <td>CIP</td>\n",
       "      <td>0.05</td>\n",
       "    </tr>\n",
       "    <tr>\n",
       "      <th>1</th>\n",
       "      <td>DDP</td>\n",
       "      <td>0.10</td>\n",
       "    </tr>\n",
       "    <tr>\n",
       "      <th>2</th>\n",
       "      <td>EXW</td>\n",
       "      <td>0.75</td>\n",
       "    </tr>\n",
       "    <tr>\n",
       "      <th>3</th>\n",
       "      <td>FCA</td>\n",
       "      <td>0.10</td>\n",
       "    </tr>\n",
       "  </tbody>\n",
       "</table>\n",
       "</div>"
      ],
      "text/plain": [
       "  vendor_inco_term  prop\n",
       "0              CIP  0.05\n",
       "1              DDP  0.10\n",
       "2              EXW  0.75\n",
       "3              FCA  0.10"
      ]
     },
     "execution_count": 29,
     "metadata": {},
     "output_type": "execute_result"
    }
   ],
   "source": [
    "hypothesized = pd.DataFrame(data ={'vendor_inco_term': ['CIP', 'DDP', 'EXW','FCA'], 'prop': [0.05, 0.1, 0.75, 0.1]}, index = [0,1,2,3])\n",
    "hypothesized"
   ]
  },
  {
   "cell_type": "code",
   "execution_count": 30,
   "id": "92f2f7c3-d6ac-41b8-90de-b39f8bae7a82",
   "metadata": {},
   "outputs": [
    {
     "name": "stdout",
     "output_type": "stream",
     "text": [
      "  vendor_inco_term  prop       n\n",
      "0              CIP  0.05   49.95\n",
      "1              DDP  0.10   99.90\n",
      "2              EXW  0.75  749.25\n",
      "3              FCA  0.10   99.90\n"
     ]
    }
   ],
   "source": [
    "# Find the number of rows in late_shipments\n",
    "n_total = len(late_shipments) - 1\n",
    "\n",
    "# Create n column that is prop column * n_total\n",
    "hypothesized['n']= hypothesized['prop']*n_total\n",
    "\n",
    "# Print the modified hypothesized DataFrame\n",
    "print(hypothesized)"
   ]
  },
  {
   "cell_type": "code",
   "execution_count": 31,
   "id": "8f77b5af-33b8-4fb3-ab6c-7cc9927b4df3",
   "metadata": {},
   "outputs": [
    {
     "data": {
      "text/html": [
       "<div>\n",
       "<style scoped>\n",
       "    .dataframe tbody tr th:only-of-type {\n",
       "        vertical-align: middle;\n",
       "    }\n",
       "\n",
       "    .dataframe tbody tr th {\n",
       "        vertical-align: top;\n",
       "    }\n",
       "\n",
       "    .dataframe thead th {\n",
       "        text-align: right;\n",
       "    }\n",
       "</style>\n",
       "<table border=\"1\" class=\"dataframe\">\n",
       "  <thead>\n",
       "    <tr style=\"text-align: right;\">\n",
       "      <th></th>\n",
       "      <th>vendor_inco_term</th>\n",
       "      <th>n</th>\n",
       "    </tr>\n",
       "  </thead>\n",
       "  <tbody>\n",
       "    <tr>\n",
       "      <th>3</th>\n",
       "      <td>CIP</td>\n",
       "      <td>56</td>\n",
       "    </tr>\n",
       "    <tr>\n",
       "      <th>2</th>\n",
       "      <td>DDP</td>\n",
       "      <td>100</td>\n",
       "    </tr>\n",
       "    <tr>\n",
       "      <th>0</th>\n",
       "      <td>EXW</td>\n",
       "      <td>732</td>\n",
       "    </tr>\n",
       "    <tr>\n",
       "      <th>1</th>\n",
       "      <td>FCA</td>\n",
       "      <td>111</td>\n",
       "    </tr>\n",
       "  </tbody>\n",
       "</table>\n",
       "</div>"
      ],
      "text/plain": [
       "  vendor_inco_term    n\n",
       "3              CIP   56\n",
       "2              DDP  100\n",
       "0              EXW  732\n",
       "1              FCA  111"
      ]
     },
     "execution_count": 31,
     "metadata": {},
     "output_type": "execute_result"
    }
   ],
   "source": [
    "# count the categories of the vendor_inco_term\n",
    "incoterm_counts =late_shipments['vendor_inco_term'].value_counts().reset_index()\n",
    "incoterm_counts.columns = ['vendor_inco_term', 'n']\n",
    "incoterm_counts = incoterm_counts.drop(4, axis = 0).sort_values(by = 'vendor_inco_term')\n",
    "incoterm_counts"
   ]
  },
  {
   "cell_type": "code",
   "execution_count": 32,
   "id": "0ca9c9d4-28a4-402f-8dcc-032e104f4196",
   "metadata": {},
   "outputs": [
    {
     "data": {
      "image/png": "[encoded data removed]",
      "text/plain": [
       "<Figure size 432x288 with 1 Axes>"
      ]
     },
     "metadata": {
      "needs_background": "light"
     },
     "output_type": "display_data"
    }
   ],
   "source": [
    "# Plot a red bar graph of n vs. vendor_inco_term for incoterm_counts\n",
    "plt.bar(incoterm_counts['vendor_inco_term'], incoterm_counts[\"n\"], color ='red', label=\"Observed\")\n",
    "plt.legend()\n",
    "plt.show()"
   ]
  },
  {
   "cell_type": "code",
   "execution_count": 33,
   "id": "d5a1af01-07fb-4b2c-8cb4-7beaac0eb199",
   "metadata": {},
   "outputs": [
    {
     "data": {
      "image/png": "[encoded data removed]",
      "text/plain": [
       "<Figure size 432x288 with 1 Axes>"
      ]
     },
     "metadata": {
      "needs_background": "light"
     },
     "output_type": "display_data"
    }
   ],
   "source": [
    "# Plot a red bar graph of n vs. vendor_inco_term for incoterm_counts\n",
    "plt.bar(incoterm_counts['vendor_inco_term'], incoterm_counts['n'], color=\"red\", label=\"Observed\")\n",
    "\n",
    "# Add a blue bar plot for the hypothesized counts\n",
    "plt.bar(hypothesized['vendor_inco_term'], hypothesized['n'], color='blue', alpha = 0.5, label=\"Hypothesized\")\n",
    "plt.legend()\n",
    "plt.show()"
   ]
  },
  {
   "cell_type": "markdown",
   "id": "a62e1a87-594c-434e-9f85-00c0d4073bf2",
   "metadata": {},
   "source": [
    "Two of the bars in the sample are very close to the hypothesized values: one is a little high and one is a little low. We neeed to test if these differences are statistically significant."
   ]
  },
  {
   "cell_type": "markdown",
   "id": "f7306f59-fdfc-4aaf-a283-71322957c6b7",
   "metadata": {},
   "source": [
    "**Performing a goodness of fit test**\n",
    "\n",
    "The test to compare the proportions of a categorical variable to a hypothesized distribution is called a chi-square goodness of fit test.\n",
    "\n",
    "The bar plot of vendor_inco_term suggests that the distribution across the four categories was quite close to the hypothesized distribution. You'll need to perform a chi-square goodness of fit test to see whether the differences are statistically significant.\n",
    "\n",
    "Recall the hypotheses for this type of test:\n",
    "\n",
    "H0: The sample matches with the hypothesized distribution.\n",
    "\n",
    "Ha: The sample does not match with the hypothesized distribution.\n",
    "\n",
    "To decide which hypothesis to choose, we'll set a significance level of 0.1."
   ]
  },
  {
   "cell_type": "code",
   "execution_count": 34,
   "id": "5900e36a-8a04-42f3-ba99-94213b8c3297",
   "metadata": {},
   "outputs": [
    {
     "name": "stdout",
     "output_type": "stream",
     "text": [
      "Power_divergenceResult(statistic=2.3633633633633613, pvalue=0.5004909543758689)\n"
     ]
    }
   ],
   "source": [
    "# Perform a goodness of fit test on the incoterm counts n\n",
    "from scipy.stats import chisquare \n",
    "gof_test = chisquare(f_obs=incoterm_counts['n'], f_exp=hypothesized['n'])\n",
    "\n",
    "# Print gof_test results\n",
    "print(gof_test)"
   ]
  },
  {
   "cell_type": "markdown",
   "id": "2228e4e0-eed1-4570-98d7-b4f7be21794e",
   "metadata": {},
   "source": [
    "Fail to reject the null hypothesis and conclude that n follows the distribution specified by hypothesized"
   ]
  },
  {
   "cell_type": "code",
   "execution_count": null,
   "id": "aeea317c-a087-479a-b192-82125c70ab33",
   "metadata": {},
   "outputs": [],
   "source": []
  }
 ],
 "metadata": {
  "editor": "DataCamp Workspace",
  "kernelspec": {
   "display_name": "Python 3 (ipykernel)",
   "language": "python",
   "name": "python3"
  },
  "language_info": {
   "codemirror_mode": {
    "name": "ipython",
    "version": 3
   },
   "file_extension": ".py",
   "mimetype": "text/x-python",
   "name": "python",
   "nbconvert_exporter": "python",
   "pygments_lexer": "ipython3",
   "version": "3.10.5"
  }
 },
 "nbformat": 4,
 "nbformat_minor": 5
}
