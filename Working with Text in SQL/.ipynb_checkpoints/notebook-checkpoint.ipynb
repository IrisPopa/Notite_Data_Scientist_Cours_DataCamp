{
 "cells": [
  {
   "cell_type": "markdown",
   "id": "88e07e84-7615-475d-ac49-6044e6e17809",
   "metadata": {},
   "source": [
    "# Feature Engineering for Fraud Detection\n",
    "Recent estimates suggest that in 2020, credit card fraud was responsible for losses totaling 28.58 billion dollars ([Nilson, 2021](https://nilsonreport.com/upload/content_promo/NilsonReport_Issue1209.pdf)). The ability to accurately detect fraud protects and ensures customers' peace of mind and can prevent massive financial losses.\n",
    "\n",
    "The quality of predictions is highly dependent on the data and features used. This template takes raw credit card data with standard features and engineers additional information to help assist with fraud prediction."
   ]
  },
  {
   "cell_type": "markdown",
   "id": "69f5439c-3669-46f0-8148-6d27885e475f",
   "metadata": {},
   "source": [
    "## Imports and data preparation\n",
    "The following cells install and import the packages necessary to import and manipulate fraud detection data. They also load the example data and preview it.\n",
    "\n",
    "💡&nbsp;&nbsp;_Be sure to add and remove imports (if you find you don't need them) as per your requirements._"
   ]
  },
  {
   "cell_type": "code",
   "execution_count": null,
   "id": "d0eb4f16-5a99-460d-a5ba-706b7ef0bbe7",
   "metadata": {
    "id": "bA5ajAmk7XH6"
   },
   "outputs": [],
   "source": [
    "%%capture\n",
    "!pip install geopy\n",
    "import numpy as np\n",
    "import pandas as pd\n",
    "from datetime import date\n",
    "from geopy import distance"
   ]
  },
  {
   "cell_type": "markdown",
   "id": "f72f723d-a6d0-4785-921b-b506fb674f0d",
   "metadata": {},
   "source": [
    "### Load in your data\n",
    "The cell below imports the credit card data, which contains typical raw credit card transaction features such as the transaction time, the merchant, the amount, the credit card, and customer details (see [Bahnsen et al., 2016](https://www.sciencedirect.com/science/article/abs/pii/S0957417415008386) for a list of common features).\n",
    "\n",
    "👇&nbsp;&nbsp;_To use your data, you will need to:_\n",
    "- _Upload a file and update the `path` variable._\n",
    "    - _Alternatively, if you have data in a database, you can add a SQL cell and connect to a custom [integration](https://workspace-docs.datacamp.com/integrations/what-is-an-integration)._\n",
    "- _Set the column that contains the transaction time._\n",
    "- _Set any other columns that contain date data (you may need to update this after loading the data in)_."
   ]
  },
  {
   "cell_type": "code",
   "execution_count": null,
   "id": "46db4264-3264-4dec-920e-c455ee4175ae",
   "metadata": {},
   "outputs": [],
   "source": [
    "# Set path to data\n",
    "path = \"data/fraud_data.csv\"\n",
    "\n",
    "# Specify the transaction time column\n",
    "trans_time = \"trans_date_trans_time\"\n",
    "\n",
    "# Specify any additional date columns\n",
    "date_cols = [\"dob\", trans_time]\n",
    "\n",
    "# Read in the data as a DataFrame and set the index\n",
    "fraud_df = pd.read_csv(path, parse_dates=date_cols, index_col=trans_time).sort_index()\n",
    "\n",
    "# Preview the data\n",
    "fraud_df"
   ]
  },
  {
   "cell_type": "markdown",
   "id": "4f8b85fc-7fbc-499f-aceb-f4a9700c79d4",
   "metadata": {},
   "source": [
    "### Inspect the features and data types\n",
    "The first step is to inspect the columns available using the pandas' method [`.info()`](https://pandas.pydata.org/docs/reference/api/pandas.DataFrame.info.html). You can also review the date types of each column."
   ]
  },
  {
   "cell_type": "code",
   "execution_count": null,
   "id": "ba4b6d34-91f2-4f90-bdce-c9cd096371ac",
   "metadata": {},
   "outputs": [],
   "source": [
    "# Print summary of the DataFrame\n",
    "fraud_df.info()"
   ]
  },
  {
   "cell_type": "markdown",
   "id": "7c7f7920-d325-4b94-b98e-8caa9b656dcf",
   "metadata": {},
   "source": [
    "## Customer and Transaction Details\n",
    "### Extracting age from date of birth\n",
    "As noted in Bahnsen et al., 2016 (referenced earlier), the customer's age is a common feature in raw credit card data. In the cell below, we add an age column based on the date of birth. \n",
    "\n",
    "If your data already contains the correct age information, you can skip this step.\n",
    "\n",
    "👇&nbsp;&nbsp;_Make sure to update the `dob` label below._"
   ]
  },
  {
   "cell_type": "code",
   "execution_count": null,
   "id": "0f90546a-87bf-4097-8471-282995b15c1c",
   "metadata": {},
   "outputs": [],
   "source": [
    "# Specify the customer date of birth column\n",
    "dob = \"dob\"\n",
    "\n",
    "# Define a function to extract age from date of birth\n",
    "def age(date_of_birth):\n",
    "    today = date.today()\n",
    "    return (\n",
    "        date.today().year\n",
    "        - date_of_birth.year\n",
    "        - ((today.month, today.day) < (date_of_birth.month, date_of_birth.day))\n",
    "    )\n",
    "\n",
    "\n",
    "# Create a new column\n",
    "fraud_df[\"age\"] = fraud_df[dob].apply(age)"
   ]
  },
  {
   "cell_type": "markdown",
   "id": "fb623377-c1cd-4606-949a-4f73c1075df8",
   "metadata": {},
   "source": [
    "### Distance from merchant\n",
    "The next feature we will create will be the distance between the customer and the merchant. The reasoning for this feature is that the transactions at merchants that are further away from the customer may be a sign of suspicious activity.\n",
    "\n",
    "This step assumes you have the coordinates (latitude and longitude) of both the customer and the merchant. If you don't possess this information, you can skip this step.\n",
    "\n",
    "👇&nbsp;&nbsp;_Make sure to update the latitude and longitude labels below._"
   ]
  },
  {
   "cell_type": "code",
   "execution_count": null,
   "id": "d90b78a3-5922-4bf2-9608-22748b8c41ee",
   "metadata": {},
   "outputs": [],
   "source": [
    "# Specify the customer and merchant coordinate columns\n",
    "customer_lat, customer_long = \"lat\", \"long\"\n",
    "merchant_lat, merchant_long = \"merch_lat\", \"merch_long\"\n",
    "\n",
    "# Create function to calculate the distance between two sets of coordinates\n",
    "calculate_distance = lambda x: distance.geodesic(\n",
    "    (x[customer_lat], x[customer_long]), (x[merchant_lat], x[merchant_long])\n",
    ").km\n",
    "\n",
    "# Create a new column for the distance\n",
    "fraud_df[\"distance_from_merchant\"] = fraud_df.apply(calculate_distance, axis=1)"
   ]
  },
  {
   "cell_type": "markdown",
   "id": "entitled-addition",
   "metadata": {},
   "source": [
    "### Domestic transactions\n",
    "We can also check whether a transaction is domestic or not by comparing the country of the customer and the country of the merchant. \n",
    "\n",
    "Note that if you do not have this data but do have latitude and longitude information, you can calculate the country using the `geopy` library. See [this tutorial](https://www.geeksforgeeks.org/get-the-city-state-and-country-names-from-latitude-and-longitude-using-python/) for how to extract the country based on latitude and longitude.\n",
    "\n",
    "👇&nbsp;&nbsp;_Make sure to update the country labels below._"
   ]
  },
  {
   "cell_type": "code",
   "execution_count": null,
   "id": "injured-sleep",
   "metadata": {},
   "outputs": [],
   "source": [
    "# Specify the customer country and merchant country\n",
    "customer_country, merchant_country = \"customer_country\", \"merchant_country\"\n",
    "\n",
    "# Create new column indicating domestic transactions\n",
    "fraud_df[\"is_domestic\"] = fraud_df[customer_country] == fraud_df[merchant_country]"
   ]
  },
  {
   "cell_type": "markdown",
   "id": "royal-bradford",
   "metadata": {},
   "source": [
    "### Whole number transactions\n",
    "It can also be useful to determine whether the transaction is a whole number (which may indicate a suspicious transaction).\n",
    "\n",
    "👇&nbsp;&nbsp;_Make sure to update the transaction amount label below._"
   ]
  },
  {
   "cell_type": "code",
   "execution_count": null,
   "id": "hearing-broadcasting",
   "metadata": {},
   "outputs": [],
   "source": [
    "# Specify the transaction amount column\n",
    "amt = \"amt\"\n",
    "\n",
    "# Create a column when the transaction amount is a whole number\n",
    "fraud_df[\"is_whole_number\"] = fraud_df[amt] == fraud_df[amt].astype(int)"
   ]
  },
  {
   "cell_type": "markdown",
   "id": "matched-battery",
   "metadata": {},
   "source": [
    "### Time and date of transaction\n",
    "Although the data contains the time of the transaction, it may be useful to extract components of this for predictive purposes. For example, fraud may be more likely at different times of the day or year."
   ]
  },
  {
   "cell_type": "code",
   "execution_count": null,
   "id": "a25ae0ae-6b94-490e-92c6-229b71cbd621",
   "metadata": {},
   "outputs": [],
   "source": [
    "# Extract the hour, day, and month from the datetime index\n",
    "fraud_df[\"hour\"] = fraud_df.index.hour\n",
    "fraud_df[\"day\"] = fraud_df.index.day\n",
    "fraud_df[\"month\"] = fraud_df.index.month"
   ]
  },
  {
   "cell_type": "markdown",
   "id": "1d0c204a-34d8-4777-92e9-12c947234072",
   "metadata": {},
   "source": [
    "### Preview the new customer and transaction details features\n",
    "❗&nbsp;&nbsp;_If you omit or add other features, adapt the list of columns below accordingly._"
   ]
  },
  {
   "cell_type": "code",
   "execution_count": null,
   "id": "5b7f8c52-4d58-4605-bae2-18e8760bd32c",
   "metadata": {},
   "outputs": [],
   "source": [
    "fraud_df[\n",
    "    [\n",
    "        \"age\",\n",
    "        \"distance_from_merchant\",\n",
    "        \"is_domestic\",\n",
    "        \"is_whole_number\",\n",
    "        \"hour\",\n",
    "        \"day\",\n",
    "        \"month\",\n",
    "    ]\n",
    "]"
   ]
  },
  {
   "cell_type": "markdown",
   "id": "1fcf72b6-ea0f-4144-9fc3-bec3671c9aa7",
   "metadata": {},
   "source": [
    "## Customer History\n",
    "Customer history is an important indicator of a suspicious transaction. For example, if a customer suddenly increases the volume or cost of their transactions, this may indicate their card has become compromised. The cells below create a number of features that reflect a customer's transaction history.\n",
    "\n",
    "[Bhattacharyya et al., 2011](https://www.sciencedirect.com/science/article/abs/pii/S0167923610001326) identify a number of different types of historical features that can be engineered. Be sure to use the existing code to adapt other features as needed.\n",
    "\n",
    "Note that a number of these features rely upon a unique merchant identifier and a unique category (or type of transaction) identifier. If you do not have these, you can skip these steps."
   ]
  },
  {
   "cell_type": "markdown",
   "id": "506a6fc9-c956-4de4-90ef-bcd0de030f7d",
   "metadata": {},
   "source": [
    "### Average transaction amount over time\n",
    "The first general feature we will engineer will be the average amount a customer spends on their credit card.\n",
    "\n",
    "👇&nbsp;&nbsp;_Make sure to update the credit card number label below._"
   ]
  },
  {
   "cell_type": "code",
   "execution_count": null,
   "id": "2f51ad90-5d0e-4a2f-a155-8584d33d58dc",
   "metadata": {},
   "outputs": [],
   "source": [
    "# Specify the credit card number column\n",
    "cc_num = \"cc_num\"\n",
    "\n",
    "# Calculate the average transaction amount for the credit card across all purchases\n",
    "fraud_df[\"avg_amount\"] = fraud_df.groupby(cc_num)[amt].transform(np.mean)"
   ]
  },
  {
   "cell_type": "markdown",
   "id": "43ca8ec1-7842-4040-b41e-c2fa50e3e7c4",
   "metadata": {},
   "source": [
    "### Total number of transactions at a merchant over time\n",
    "Knowing how often a customer shops at a particular merchant is also helpful. If they have never shopped at a specific merchant, it may indicate that it is not them making the transaction.\n",
    "\n",
    "👇&nbsp;&nbsp;_Make sure to update the merchant label below._"
   ]
  },
  {
   "cell_type": "code",
   "execution_count": null,
   "id": "aae0f379-96da-4e20-8b7d-467704d66b71",
   "metadata": {},
   "outputs": [],
   "source": [
    "# Specify the merchant column\n",
    "merchant = \"merchant\"\n",
    "\n",
    "# Calculate the total number of purchases made at a merchant\n",
    "fraud_df[\"merchant_qty\"] = fraud_df.groupby([cc_num, merchant])[amt].transform(\n",
    "    np.size\n",
    ")"
   ]
  },
  {
   "cell_type": "markdown",
   "id": "46105e63-fa10-4535-a675-355aa38802ad",
   "metadata": {},
   "source": [
    "### Average monthly transaction for the past 30 days\n",
    "Customer spending habits may change over time. This cell calculates the average amount per transaction for the past 30 days."
   ]
  },
  {
   "cell_type": "code",
   "execution_count": null,
   "id": "bdc5cacd-6ebe-468d-aa17-b6b861bbadc8",
   "metadata": {},
   "outputs": [],
   "source": [
    "# Calculate the average amount per credit card for the past 30 days\n",
    "fraud_monthly_amt = fraud_df.groupby(cc_num)[amt].rolling(\"30D\").mean().reset_index()\n",
    "\n",
    "# Rename the column\n",
    "fraud_monthly_amt.rename(columns={amt: \"avg_30_day\"}, inplace=True)\n",
    "\n",
    "# Merge in the new column by cc number and transaction time\n",
    "fraud_df = (\n",
    "    fraud_df.merge(fraud_monthly_amt, on=[cc_num, trans_time])\n",
    "    .set_index(trans_time)\n",
    "    .sort_index()\n",
    ")"
   ]
  },
  {
   "cell_type": "markdown",
   "id": "bc759571-8f51-4cf1-ab30-9edf8b328157",
   "metadata": {},
   "source": [
    "### Total number of transactions with the same merchant over the past 30 days\n",
    "Like the cell above, customers may discover new shopping places or stop shopping at existing merchants. This cell calculates the total number of transactions at a merchant over the past 30 days."
   ]
  },
  {
   "cell_type": "code",
   "execution_count": null,
   "id": "361b4e8b-2324-465b-a470-3714e0fbb2af",
   "metadata": {},
   "outputs": [],
   "source": [
    "# Calculate the total number of transactions per credit card for the past 30 days\n",
    "fraud_monthly_qty = (\n",
    "    fraud_df.groupby([cc_num, merchant])[amt]\n",
    "    .rolling(\"30D\")\n",
    "    .count()\n",
    "    .reset_index()\n",
    "    .drop(columns=merchant)\n",
    ")\n",
    "\n",
    "# Rename the column\n",
    "fraud_monthly_qty.rename(columns={amt: \"merchant_qty_30_day\"}, inplace=True)\n",
    "\n",
    "# Merge in the new column by cc number and transaction time\n",
    "fraud_df = (\n",
    "    fraud_df.merge(fraud_monthly_qty, on=[cc_num, trans_time])\n",
    "    .set_index(trans_time)\n",
    "    .sort_index()\n",
    ")"
   ]
  },
  {
   "cell_type": "markdown",
   "id": "7d35dff9-2b02-423c-b1fb-57dca4534ee2",
   "metadata": {},
   "source": [
    "### Average Daily Transaction Amount for Past 30 Days\n",
    "This cell provides another form of spending history: how much they spend on average on a daily basis, using data from the past 30 days."
   ]
  },
  {
   "cell_type": "code",
   "execution_count": null,
   "id": "fc24c09c-d1c6-4862-84e9-7602af1d260d",
   "metadata": {},
   "outputs": [],
   "source": [
    "# Calculate the total amount spent per day\n",
    "fraud_df[\"date\"] = fraud_df.index.strftime(\"%d-%m-%Y\")\n",
    "fraud_df[\"day_amt\"] = fraud_df.groupby([cc_num, \"date\"])[amt].transform(np.sum)\n",
    "\n",
    "# Calculate the average daily amount per credit card for the past 30 days\n",
    "fraud_daily_avg = (\n",
    "    fraud_df.groupby([cc_num])[\"day_amt\"].rolling(\"30D\").mean().reset_index()\n",
    ")\n",
    "\n",
    "# Rename the column\n",
    "fraud_daily_avg.rename(columns={\"day_amt\": \"daily_avg_30_day\"}, inplace=True)\n",
    "\n",
    "# Merge in the new column by cc number and transaction time\n",
    "fraud_df = (\n",
    "    fraud_df.merge(fraud_daily_avg, on=[cc_num, trans_time])\n",
    "    .set_index(trans_time)\n",
    "    .sort_index()\n",
    ")"
   ]
  },
  {
   "cell_type": "markdown",
   "id": "53c4b8a2-362f-4621-97e6-60dd144b0515",
   "metadata": {},
   "source": [
    "### Average amount by category for past 30 days\n",
    "If a customer is not into health and fitness and suddenly makes many large purchases at a fitness warehouse, it may be a sign of suspicious activity. This cell calculates the average amount spent in a category over the past 30 days.\n",
    "\n",
    "👇&nbsp;&nbsp;_Make sure to update the category label below._"
   ]
  },
  {
   "cell_type": "code",
   "execution_count": null,
   "id": "7980af55-32bd-40e0-9cc5-c74e0ff961ee",
   "metadata": {},
   "outputs": [],
   "source": [
    "# Specify the transaction category column\n",
    "category = \"category\"\n",
    "\n",
    "# Calculate the average amount spent in a category for the past 30 days\n",
    "fraud_category_avg_month = (\n",
    "    fraud_df.groupby([cc_num, category])[amt]\n",
    "    .rolling(\"30D\")\n",
    "    .mean()\n",
    "    .reset_index()\n",
    "    .drop(columns=category)\n",
    ")\n",
    "\n",
    "# Rename the column\n",
    "fraud_category_avg_month.rename(columns={amt: \"category_avg_month\"}, inplace=True)\n",
    "\n",
    "# Merge in the new column by cc number and transaction time\n",
    "fraud_df = (\n",
    "    fraud_df.merge(fraud_category_avg_month, on=[cc_num, trans_time])\n",
    "    .set_index(trans_time)\n",
    "    .sort_index()\n",
    ")"
   ]
  },
  {
   "cell_type": "markdown",
   "id": "2e43ff7d-99c4-47f2-8aeb-b751885bc019",
   "metadata": {},
   "source": [
    "### Total number of transactions on this day up to this transaction\n",
    "If a credit card is used for fraudulent activity, there may be an increase in the frequency of transactions in a short time. This cell calculates the total number of transactions in the day prior to the current transaction."
   ]
  },
  {
   "cell_type": "code",
   "execution_count": null,
   "id": "918126e1-9358-4fc9-bcf5-a63fb248677c",
   "metadata": {},
   "outputs": [],
   "source": [
    "# Calculate the total number of transactions in a day up to current transaction\n",
    "fraud_day_transactions = (\n",
    "    fraud_df.groupby(cc_num)[amt]\n",
    "    .rolling(\"1D\", closed=\"left\")\n",
    "    .count()\n",
    "    .replace({np.nan: 0})\n",
    "    .reset_index()\n",
    ")\n",
    "\n",
    "# Rename the column\n",
    "fraud_day_transactions.rename(columns={amt: \"day_qty\"}, inplace=True)\n",
    "\n",
    "# Merge in the new column by cc number and transaction time\n",
    "fraud_df = (\n",
    "    fraud_df.merge(fraud_day_transactions, on=[cc_num, trans_time])\n",
    "    .set_index(trans_time)\n",
    "    .sort_index()\n",
    ")"
   ]
  },
  {
   "cell_type": "markdown",
   "id": "cef111bf-e152-45ba-b0de-a43d6c7a1974",
   "metadata": {},
   "source": [
    "### Preview the new customer history features\n",
    "❗&nbsp;&nbsp;_If you omit or add other features, adapt the list of columns below accordingly._"
   ]
  },
  {
   "cell_type": "code",
   "execution_count": null,
   "id": "81160a09-cfad-4a23-a418-8a95f98bf54f",
   "metadata": {},
   "outputs": [],
   "source": [
    "# Preview new columns\n",
    "fraud_df[\n",
    "    [\n",
    "        amt,\n",
    "        category,\n",
    "        merchant,\n",
    "        \"avg_amount\",\n",
    "        \"merchant_qty\",\n",
    "        \"avg_30_day\",\n",
    "        \"merchant_qty_30_day\",\n",
    "        \"daily_avg_30_day\",\n",
    "        \"category_avg_month\",\n",
    "        \"day_qty\",\n",
    "    ]\n",
    "]"
   ]
  },
  {
   "cell_type": "markdown",
   "id": "193157fd-d843-4b41-8ec6-79fdae052941",
   "metadata": {},
   "source": [
    "## Merchant and Category History\n",
    "Some merchants and categories may be at a higher risk of fraud than others. You can use the following code to create a column based on the proportion of fraud for each merchant and category.\n",
    "\n",
    "👇&nbsp;&nbsp;_Make sure to update the fraud label below._"
   ]
  },
  {
   "cell_type": "code",
   "execution_count": null,
   "id": "f31db186-36e4-45e5-86f5-6cea67acd5f3",
   "metadata": {},
   "outputs": [],
   "source": [
    "# Specify the fraud label column\n",
    "is_fraud = \"is_fraud\"\n",
    "\n",
    "# Calculate the proportion of fraud per merchant\n",
    "fraud_df[\"merch_fraud_prop\"] = fraud_df.groupby(merchant)[is_fraud].transform(\"mean\")\n",
    "\n",
    "# Calculate the proportion of fraud per category\n",
    "fraud_df[\"category_fraud_prop\"] = fraud_df.groupby(category)[is_fraud].transform(\"mean\")"
   ]
  },
  {
   "cell_type": "markdown",
   "id": "89c64ae2-32c4-4ee9-bacd-f00682a54a19",
   "metadata": {},
   "source": [
    "### Preview the new merchant and category history features\n",
    "❗&nbsp;&nbsp;_If you omit or add other features, adapt the list of columns below accordingly._"
   ]
  },
  {
   "cell_type": "code",
   "execution_count": null,
   "id": "c1939432-dd3e-480a-8215-9087b650c438",
   "metadata": {},
   "outputs": [],
   "source": [
    "fraud_df[[merchant, category, \"merch_fraud_prop\", \"category_fraud_prop\"]]"
   ]
  },
  {
   "cell_type": "markdown",
   "id": "80a5165d-528f-4a39-9729-a8156fd474ee",
   "metadata": {},
   "source": [
    "## Next steps\n",
    "Make sure to create further features as needed for your data. Via exploratory analysis, you may uncover trends that merit new features, or you may have access to other types of raw data that could be beneficial for predicting fraud.\n",
    "\n",
    "If you're interested in proceeding to the modeling stage of fraud detection, you may want to check out:\n",
    "- DataCamp's course [Fraud Detection in Python](https://app.datacamp.com/learn/courses/fraud-detection-in-python) covers this topic in greater depth.\n",
    "- [Workspace templates](https://app.datacamp.com/workspace/templates?selectedLabels=%5B%22classification%22%5D) focused on classification problems."
   ]
  }
 ],
 "metadata": {
  "editor": "DataCamp Workspace",
  "kernelspec": {
   "display_name": "Python 3 (ipykernel)",
   "language": "python",
   "name": "python3"
  },
  "language_info": {
   "codemirror_mode": {
    "name": "ipython",
    "version": 3
   },
   "file_extension": ".py",
   "mimetype": "text/x-python",
   "name": "python",
   "nbconvert_exporter": "python",
   "pygments_lexer": "ipython3",
   "version": "3.10.5"
  }
 },
 "nbformat": 4,
 "nbformat_minor": 5
}
