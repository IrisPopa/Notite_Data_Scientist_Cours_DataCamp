{
 "cells": [
  {
   "cell_type": "markdown",
   "id": "1cf9d80e-e712-4df6-86e0-a125cbcf1258",
   "metadata": {},
   "source": [
    "# Working with Text in SQL\n",
    "Text data from your queries often may be messy or in the wrong format. It is therefore crucial to be able to clean up and reformat data. This template runs through the basics of combining, editing, and extracting text in PostgreSQL.\n",
    "\n",
    "This template connects to a movie database by default. However, you can use any integration you want, so long as you have access to a table with text data. You can learn more about integrations [here](https://workspace-docs.datacamp.com/integrations/what-is-an-integration).\n",
    "\n",
    "💡&nbsp;&nbsp;_The data we will use is contained in the `cinema` schema of the Course Databases database. If you wish to edit the queries, you must add the schema name when referencing tables in this database (e.g., `cinema.films`)._"
   ]
  },
  {
   "cell_type": "markdown",
   "id": "6c26333c-8b0e-4c6a-a050-8d5ea6b7b12b",
   "metadata": {},
   "source": [
    "## Concatenating text\n",
    "A standard operation you may want to perform is combining the text from two or more columns. \n",
    "\n",
    "In the example below, we use `CONCAT()` to combine the `title` and `release_year` columns, enclosing the release year in parentheses.\n",
    "\n",
    "👇&nbsp;&nbsp;**To run a SQL cell like the one below, click inside the cell to select it and click \"Run\" or the ► icon. You can also use Shift-Enter to run a selected cell.**"
   ]
  },
  {
   "cell_type": "code",
   "execution_count": null,
   "id": "da1e01b1-79c8-4c3b-8214-8e8fb85574bd",
   "metadata": {
    "customType": "sql",
    "dataFrameVariableName": "df",
    "initial": false,
    "integrationId": "c632441c-e1dc-4637-a56d-10b85efd89be"
   },
   "outputs": [],
   "source": [
    "SELECT \n",
    "-- Add title and release year in parentheses\n",
    "\tCONCAT(title, ' (', release_year, ')') AS title_and_year\n",
    "FROM cinema.films\n",
    "-- Limit to prevent the query taking too long\n",
    "LIMIT 5"
   ]
  },
  {
   "cell_type": "markdown",
   "id": "3cc524ac-44d8-496e-981f-d615a17bf116",
   "metadata": {},
   "source": [
    "## Change case of text\n",
    "Another standard string operation you may want to perform is changing the text's case. The three PostgreSQL functions you can use to accomplish this are:\n",
    "- `UPPER()` to convert text to uppercase.\n",
    "- `LOWER()` to convert text to lowercase.\n",
    "- `INITCAP()` to convert text to title case.\n",
    "\n",
    "In the example below, we convert the `title` in the `films` table to three different cases.\n",
    "\n",
    "💡&nbsp;&nbsp;_Note that `INITCAP()` will capitalize the first letter of each word and may not be appropriate for text in the form of sentences._"
   ]
  },
  {
   "cell_type": "code",
   "execution_count": null,
   "id": "a7bf5609-ab31-4922-b746-872abf879ff1",
   "metadata": {
    "customType": "sql",
    "dataFrameVariableName": "df",
    "initial": false,
    "integrationId": "c632441c-e1dc-4637-a56d-10b85efd89be"
   },
   "outputs": [],
   "source": [
    "SELECT \n",
    "\t-- Convert title to three different cases\n",
    "\tUPPER(title) AS uppercase_title,\n",
    "    LOWER(title) AS lowercase_title,\n",
    "    INITCAP(title) AS titlecase_title\n",
    "FROM cinema.films\n",
    "-- Limit to prevent the query taking too long\n",
    "LIMIT 5"
   ]
  },
  {
   "cell_type": "markdown",
   "id": "3ab23f67-7a6f-4c6b-9951-6070dcca9a61",
   "metadata": {},
   "source": [
    "## Truncating text\n",
    "Another helpful text operation is to select a given number of characters from the left or right of a set of text. Depending on the direction you want to extract text from, you can use `LEFT()` or `RIGHT()`. You need to specify the text (either a column or a string) and the number of characters you want to extract.\n",
    "\n",
    "In the example below, we use `LEFT()` to extract the first 50 characters of the `description` column in the `descriptions` table. We then use `CONCAT()` to add an ellipsis (`...`) to indicate that the column has been truncated."
   ]
  },
  {
   "cell_type": "code",
   "execution_count": null,
   "id": "9a669055-ec47-4fbd-afc3-2e0b598cbaa1",
   "metadata": {
    "customType": "sql",
    "dataFrameVariableName": "df",
    "initial": false,
    "integrationId": "c632441c-e1dc-4637-a56d-10b85efd89be"
   },
   "outputs": [],
   "source": [
    "SELECT\n",
    "\tdescription,\n",
    "    -- Extract the first 50 characters of the column\n",
    "    CONCAT(LEFT(description, 50),\n",
    "    -- Concatenate '...' to indicate it has been trimmed\n",
    "           '...') AS short_description\n",
    "FROM cinema.descriptions\n",
    "-- Limit to prevent the query taking too long\n",
    "LIMIT 5"
   ]
  },
  {
   "cell_type": "markdown",
   "id": "868ca429-1cd6-49cf-865d-d9a38e89a9ee",
   "metadata": {},
   "source": [
    "## Trimming text\n",
    "You may notice a space between the text and the ellipsis in the third row of the example above. This is because the LEFT() function is cutting at precisely 50 characters, whether or not there is whitespace left. \n",
    "\n",
    "You can use the `TRIM()` function to remove whitespace from the left and right sides of a string. To trim text, you use the form:\n",
    "\n",
    ">`TRIM(FROM string_you_want_to_trim)`\n",
    "\n",
    "In the example below, we add the `TRIM()` function to eliminate whitespace before concatenating the ellipsis.\n",
    "\n",
    "💡&nbsp;&nbsp;_You can also supply `leading` or `trailing` in front of `FROM` to only remove whitespace from the left and right of a text._"
   ]
  },
  {
   "cell_type": "code",
   "execution_count": null,
   "id": "517b6633-bd96-4c03-a657-7dd3695aae61",
   "metadata": {
    "customType": "sql",
    "dataFrameVariableName": "df",
    "initial": false,
    "integrationId": "c632441c-e1dc-4637-a56d-10b85efd89be"
   },
   "outputs": [],
   "source": [
    "SELECT\n",
    "\tdescription,\n",
    "    -- Extract and trim the first 50 characters of the column\n",
    "    CONCAT(TRIM(FROM LEFT(description, 50)),\n",
    "    -- Concatent '...' to indicate it has been trimmed\n",
    "           '...') AS short_description\n",
    "FROM cinema.descriptions\n",
    "-- Limit to prevent the query taking too long\n",
    "LIMIT 5"
   ]
  },
  {
   "cell_type": "markdown",
   "id": "a4b0e54d-1023-4de8-8eb3-f98053388764",
   "metadata": {},
   "source": [
    "## Replacing text\n",
    "Some text may contain characters or pieces of text that you wish to remove or replace. You can use the `REPLACE()` function to accomplish this. The function takes three arguments:\n",
    "- The text that you want to use.\n",
    "- The character(s) you want to remove.\n",
    "- The character(s) you want to insert.\n",
    "In the example below, we replace spaces in the `name` column of the `people` table with underscores and convert the entire text to lowercase."
   ]
  },
  {
   "cell_type": "code",
   "execution_count": null,
   "id": "f7e3ed1f-f5c7-4b59-ba4b-24148e89199b",
   "metadata": {
    "customType": "sql",
    "dataFrameVariableName": "df",
    "initial": false,
    "integrationId": "c632441c-e1dc-4637-a56d-10b85efd89be"
   },
   "outputs": [],
   "source": [
    "SELECT \n",
    "\tname,\n",
    "    -- Replace spaces in the string with an underscore\n",
    "\t-- and convert to lowercase\n",
    "\tLOWER(REPLACE(name, ' ', '_')) AS revised_name\n",
    "FROM cinema.people\n",
    "-- Limit to prevent the query taking too long\n",
    "LIMIT 5"
   ]
  },
  {
   "cell_type": "markdown",
   "id": "5023f68f-f70b-4f81-9e63-c3713eb7084e",
   "metadata": {},
   "source": [
    "## Extracting substrings\n",
    "You can use the `SUBSTRING()` function to extract text elements. It follows the following structure:\n",
    "\n",
    "```SUBSTRING(text_to_extract FROM position_to_start FOR number_of_characters)```\n",
    "\n",
    "In the first example below, we use `SUBSTRING()` to extract the first 10 characters of the `title` column in the `films` table. \n",
    "\n",
    "💡&nbsp;&nbsp;_You will notice this performs in much the same way as the `LEFT()` function. However, as will be shown below, `SUBSTRING()` can be used to perform more powerful string extraction._"
   ]
  },
  {
   "cell_type": "code",
   "execution_count": null,
   "id": "726e21a5-9f4a-44b6-9a60-e0c634e2c792",
   "metadata": {
    "customType": "sql",
    "dataFrameVariableName": "df",
    "initial": false,
    "integrationId": "c632441c-e1dc-4637-a56d-10b85efd89be"
   },
   "outputs": [],
   "source": [
    "SELECT\n",
    "\ttitle,\n",
    "    -- Extract the first 10 characters of the column \n",
    "    -- starting from position 0\n",
    "\tSUBSTRING(title FROM 0 FOR 10) AS reduced_title\n",
    "FROM cinema.films\n",
    "-- Limit to prevent the query taking too long\n",
    "LIMIT 5"
   ]
  },
  {
   "cell_type": "markdown",
   "id": "16231300-91a1-475c-b3ed-d894191c615b",
   "metadata": {},
   "source": [
    "In the more advanced example below, we use `SUBSTRING()` in combination with a new function `POSITION()`. This function returns the location of a string within another string (such as the position of a space \" \" character).\n",
    "\n",
    "Using `POSITION()` allows us to split the name before and after the space to extract the first and last `name`s of actors in the `people` table."
   ]
  },
  {
   "cell_type": "code",
   "execution_count": null,
   "id": "5ae385b2-b7b1-45a5-b783-716cfd81d5d2",
   "metadata": {
    "customType": "sql",
    "dataFrameVariableName": "df",
    "initial": false,
    "integrationId": "c632441c-e1dc-4637-a56d-10b85efd89be"
   },
   "outputs": [],
   "source": [
    "SELECT\n",
    "\tname,\n",
    "    -- Extract a string starting from position 0 up until the space\n",
    "\tSUBSTRING(name FROM 0 FOR POSITION(' ' IN name)) AS first_name,\n",
    "    -- Extract a string starting from the position of the space plus one\n",
    "    -- up until the end of the string\n",
    "    SUBSTRING(name FROM POSITION(' ' IN name)+1) AS last_name\n",
    "FROM cinema.people\n",
    "-- Limit to prevent the query taking too long\n",
    "LIMIT 5"
   ]
  },
  {
   "cell_type": "markdown",
   "id": "d3c523b3-b6fc-4002-967b-74d2a4c08d63",
   "metadata": {},
   "source": [
    "## Next steps\n",
    "Want to learn more techniques for working with data in PostgreSQL? Check out [Functions for Manipulating Data in PostgreSQL](https://app.datacamp.com/learn/courses/functions-for-manipulating-data-in-postgresql)!\n",
    "\n",
    "Alternatively, if you are interested in applying these skills to other SQL databases, check out our [sample integrations](https://app.datacamp.com/workspace/datasets?selectedLabels=%5B%22sql%22%5D) here!"
   ]
  }
 ],
 "metadata": {
  "colab": {
   "name": "Welcome to DataCamp Workspaces.ipynb",
   "provenance": []
  },
  "editor": "DataCamp Workspace",
  "kernelspec": {
   "display_name": "Python 3 (ipykernel)",
   "language": "python",
   "name": "python3"
  },
  "language_info": {
   "codemirror_mode": {
    "name": "ipython",
    "version": 3
   },
   "file_extension": ".py",
   "mimetype": "text/x-python",
   "name": "python",
   "nbconvert_exporter": "python",
   "pygments_lexer": "ipython3",
   "version": "3.10.5"
  }
 },
 "nbformat": 4,
 "nbformat_minor": 5
}
