{
  "nbformat": 4,
  "nbformat_minor": 0,
  "metadata": {
    "colab": {
      "provenance": []
    },
    "kernelspec": {
      "name": "python3",
      "display_name": "Python 3"
    },
    "language_info": {
      "name": "python"
    }
  },
  "cells": [
    {
      "cell_type": "markdown",
      "source": [
        "## 1. Basic classification: Classify images of clothing\n",
        "https://www.tensorflow.org/tutorials/keras/classification"
      ],
      "metadata": {
        "id": "gnV2h88RmKY0"
      }
    },
    {
      "cell_type": "markdown",
      "source": [
        "This guide trains a neural network model to classify images of clothing, like sneakers and shirts. \n"
      ],
      "metadata": {
        "id": "H6Qdl0odmf1W"
      }
    },
    {
      "cell_type": "code",
      "source": [
        "import tensorflow as tf, keras\n",
        "import numpy as np\n",
        "import matplotlib.pyplot as plt\n",
        "print(tf.__version__)"
      ],
      "metadata": {
        "colab": {
          "base_uri": "https://localhost:8080/"
        },
        "id": "xBP251wnniWQ",
        "outputId": "93aa6d21-d3f2-4179-9511-0d585c31f2ac"
      },
      "execution_count": 1,
      "outputs": [
        {
          "output_type": "stream",
          "name": "stdout",
          "text": [
            "2.9.2\n"
          ]
        }
      ]
    },
    {
      "cell_type": "markdown",
      "source": [
        "\n",
        "Basic classification: Classify images of clothing\n",
        "This guide uses the Fashion MNIST dataset which contains 70,000 grayscale images in 10 categories. The images show individual articles of clothing at low resolution (28 by 28 pixels). Fashion MNIST is intended as a drop-in replacement for the classic MNIST dataset—often used as the \"Hello, World\" of machine learning programs for computer vision. The MNIST dataset contains images of handwritten digits (0, 1, 2, etc.) in a format identical to that of the articles of clothing you'll use here. This guide uses Fashion MNIST for variety, and because it's a slightly more challenging problem than regular MNIST. Both datasets are relatively small and are used to verify that an algorithm works as expected. They're good starting points to test and debug code.\n",
        "Here, 60,000 images are used to train the network and 10,000 images to evaluate how accurately the network learned to classify images. You can access the Fashion MNIST directly from TensorFlow. Import and load the Fashion MNIST data directly from TensorFlow."
      ],
      "metadata": {
        "id": "p1aK3-lbnmMM"
      }
    },
    {
      "cell_type": "code",
      "source": [
        "# Import the Fashion MNIST data set\n",
        "fashion_mnist = tf.keras.datasets.fashion_mnist\n",
        "\n",
        "(train_images, train_labels), (test_images, test_labels) = fashion_mnist.load_data()"
      ],
      "metadata": {
        "id": "i5Ktzf3CnM2V",
        "colab": {
          "base_uri": "https://localhost:8080/"
        },
        "outputId": "d7161ed3-eb19-4255-e114-a424dd8256aa"
      },
      "execution_count": 2,
      "outputs": [
        {
          "output_type": "stream",
          "name": "stdout",
          "text": [
            "Downloading data from https://storage.googleapis.com/tensorflow/tf-keras-datasets/train-labels-idx1-ubyte.gz\n",
            "29515/29515 [==============================] - 0s 0us/step\n",
            "Downloading data from https://storage.googleapis.com/tensorflow/tf-keras-datasets/train-images-idx3-ubyte.gz\n",
            "26421880/26421880 [==============================] - 0s 0us/step\n",
            "Downloading data from https://storage.googleapis.com/tensorflow/tf-keras-datasets/t10k-labels-idx1-ubyte.gz\n",
            "5148/5148 [==============================] - 0s 0us/step\n",
            "Downloading data from https://storage.googleapis.com/tensorflow/tf-keras-datasets/t10k-images-idx3-ubyte.gz\n",
            "4422102/4422102 [==============================] - 0s 0us/step\n"
          ]
        }
      ]
    },
    {
      "cell_type": "markdown",
      "source": [
        "The images are 28x28 NumPy arrays, with pixel values ranging from 0 to 255. The labels are an array of integers, ranging from 0 to 9. These correspond to the class of clothing the image represents. Each image is mapped to a single label. Since the class names are not included with the dataset, we store them here to use later when plotting the images."
      ],
      "metadata": {
        "id": "Jn6mN7QTpNXd"
      }
    },
    {
      "cell_type": "code",
      "source": [
        "class_names = ['T-shirt/top', 'Trouser', 'Pullover', 'Dress', 'Coat',\n",
        "               'Sandal', 'Shirt', 'Sneaker', 'Bag', 'Ankle boot']"
      ],
      "metadata": {
        "id": "IXCS9hFzloC4"
      },
      "execution_count": 3,
      "outputs": []
    },
    {
      "cell_type": "markdown",
      "source": [
        "# Explore the data. \n"
      ],
      "metadata": {
        "id": "gLiZZZlMrEJv"
      }
    },
    {
      "cell_type": "code",
      "source": [
        "# The following shows there are 60,000 images in the training set, with each image represented as 28 x 28 pixels. \n",
        "# Likewise , there a re 60.000 labels in the trainig set.\n",
        "train_images.shape, len(train_labels)"
      ],
      "metadata": {
        "colab": {
          "base_uri": "https://localhost:8080/"
        },
        "id": "5AYG6b6AloGj",
        "outputId": "c659ad72-cbb5-4466-84ae-a0266009fe3f"
      },
      "execution_count": 4,
      "outputs": [
        {
          "output_type": "execute_result",
          "data": {
            "text/plain": [
              "((60000, 28, 28), 60000)"
            ]
          },
          "metadata": {},
          "execution_count": 4
        }
      ]
    },
    {
      "cell_type": "code",
      "source": [
        "np.unique(train_labels)"
      ],
      "metadata": {
        "colab": {
          "base_uri": "https://localhost:8080/"
        },
        "id": "e3C6KVS0qDnc",
        "outputId": "89d4fa60-23aa-44c3-e599-cdde0cb2ffe6"
      },
      "execution_count": 5,
      "outputs": [
        {
          "output_type": "execute_result",
          "data": {
            "text/plain": [
              "array([0, 1, 2, 3, 4, 5, 6, 7, 8, 9], dtype=uint8)"
            ]
          },
          "metadata": {},
          "execution_count": 5
        }
      ]
    },
    {
      "cell_type": "code",
      "source": [
        "test_images.shape, len(test_labels)"
      ],
      "metadata": {
        "colab": {
          "base_uri": "https://localhost:8080/"
        },
        "id": "zpq3nzbDqr9j",
        "outputId": "2e230bb2-b9e6-41a2-af1b-17c59d1a6c45"
      },
      "execution_count": 6,
      "outputs": [
        {
          "output_type": "execute_result",
          "data": {
            "text/plain": [
              "((10000, 28, 28), 10000)"
            ]
          },
          "metadata": {},
          "execution_count": 6
        }
      ]
    },
    {
      "cell_type": "markdown",
      "source": [
        "# Preprocesing the data"
      ],
      "metadata": {
        "id": "UYS2eorZq-bl"
      }
    },
    {
      "cell_type": "code",
      "source": [
        "#  If you inspect the first image in the training set, you will see that the pixel values fall in the range of 0 to 255.\n",
        "plt.figure()\n",
        "plt.imshow(train_images[0])\n",
        "plt.colorbar()\n",
        "plt.grid(False)\n",
        "plt.show()"
      ],
      "metadata": {
        "colab": {
          "base_uri": "https://localhost:8080/",
          "height": 265
        },
        "id": "was63EIWq8BZ",
        "outputId": "b12fcf7a-0b06-4e9d-c1e4-090a319edb71"
      },
      "execution_count": 7,
      "outputs": [
        {
          "output_type": "display_data",
          "data": {
            "text/plain": [
              "<Figure size 432x288 with 2 Axes>"
            ],
            "image/png": "[encoded data removed]"
          },
          "metadata": {
            "needs_background": "light"
          }
        }
      ]
    },
    {
      "cell_type": "code",
      "source": [
        "# Scale these values to a range of 0 to 1 before feeding them to the neural network model. \n",
        "# To do so, divide the values by 255.\n",
        "#  It's important that the training set and the testing set be preprocessed in the same way.\n",
        "train_images = train_images/255.0\n",
        "test_images = test_images /255.0"
      ],
      "metadata": {
        "id": "Wu8ceY7Kq0zy"
      },
      "execution_count": 8,
      "outputs": []
    },
    {
      "cell_type": "code",
      "source": [
        "#To verify that the data is in the correct format and that  we're ready to build and train the network, \n",
        "# let's display the first 25 images from the training set and display the class name below each image.\n",
        "plt.figure(figsize=(10,10))\n",
        "for i in range(25):\n",
        "  plt.subplot(5,5,i+1)\n",
        "  plt.xticks([])\n",
        "  plt.yticks([])\n",
        "  plt.grid(False)\n",
        "  plt.imshow(train_images[i], cmap = plt.cm.binary)\n",
        "  plt.xlabel(class_names[train_labels[i]])\n",
        "  plt.show()"
      ],
      "metadata": {
        "colab": {
          "base_uri": "https://localhost:8080/",
          "height": 1000
        },
        "id": "yWFXX7BRsY7J",
        "outputId": "216be5e5-932c-45b6-bad4-ed0187ac578d"
      },
      "execution_count": 9,
      "outputs": [
        {
          "output_type": "display_data",
          "data": {
            "text/plain": [
              "<Figure size 720x720 with 1 Axes>"
            ],
            "image/png": "[encoded data removed]"
          },
          "metadata": {}
        },
        {
          "output_type": "display_data",
          "data": {
            "text/plain": [
              "<Figure size 432x288 with 1 Axes>"
            ],
            "image/png": "[encoded data removed]"
          },
          "metadata": {}
        },
        {
          "output_type": "display_data",
          "data": {
            "text/plain": [
              "<Figure size 432x288 with 1 Axes>"
            ],
            "image/png": "[encoded data removed]"
          },
          "metadata": {}
        },
        {
          "output_type": "display_data",
          "data": {
            "text/plain": [
              "<Figure size 432x288 with 1 Axes>"
            ],
            "image/png": "[encoded data removed]"
          },
          "metadata": {}
        },
        {
          "output_type": "display_data",
          "data": {
            "text/plain": [
              "<Figure size 432x288 with 1 Axes>"
            ],
            "image/png": "[encoded data removed]"
          },
          "metadata": {}
        },
        {
          "output_type": "display_data",
          "data": {
            "text/plain": [
              "<Figure size 432x288 with 1 Axes>"
            ],
            "image/png": "[encoded data removed]"
          },
          "metadata": {}
        },
        {
          "output_type": "display_data",
          "data": {
            "text/plain": [
              "<Figure size 432x288 with 1 Axes>"
            ],
            "image/png": "[encoded data removed]"
          },
          "metadata": {}
        },
        {
          "output_type": "display_data",
          "data": {
            "text/plain": [
              "<Figure size 432x288 with 1 Axes>"
            ],
            "image/png": "[encoded data removed]"
          },
          "metadata": {}
        },
        {
          "output_type": "display_data",
          "data": {
            "text/plain": [
              "<Figure size 432x288 with 1 Axes>"
            ],
            "image/png": "[encoded data removed]"
          },
          "metadata": {}
        },
        {
          "output_type": "display_data",
          "data": {
            "text/plain": [
              "<Figure size 432x288 with 1 Axes>"
            ],
            "image/png": "[encoded data removed]"
          },
          "metadata": {}
        },
        {
          "output_type": "display_data",
          "data": {
            "text/plain": [
              "<Figure size 432x288 with 1 Axes>"
            ],
            "image/png": "[encoded data removed]"
          },
          "metadata": {}
        },
        {
          "output_type": "display_data",
          "data": {
            "text/plain": [
              "<Figure size 432x288 with 1 Axes>"
            ],
            "image/png": "[encoded data removed]"
          },
          "metadata": {}
        },
        {
          "output_type": "display_data",
          "data": {
            "text/plain": [
              "<Figure size 432x288 with 1 Axes>"
            ],
            "image/png": "[encoded data removed]"
          },
          "metadata": {}
        },
        {
          "output_type": "display_data",
          "data": {
            "text/plain": [
              "<Figure size 432x288 with 1 Axes>"
            ],
            "image/png": "[encoded data removed]"
          },
          "metadata": {}
        },
        {
          "output_type": "display_data",
          "data": {
            "text/plain": [
              "<Figure size 432x288 with 1 Axes>"
            ],
            "image/png": "[encoded data removed]"
          },
          "metadata": {}
        },
        {
          "output_type": "display_data",
          "data": {
            "text/plain": [
              "<Figure size 432x288 with 1 Axes>"
            ],
            "image/png": "[encoded data removed]"
          },
          "metadata": {}
        },
        {
          "output_type": "display_data",
          "data": {
            "text/plain": [
              "<Figure size 432x288 with 1 Axes>"
            ],
            "image/png": "[encoded data removed]"
          },
          "metadata": {}
        },
        {
          "output_type": "display_data",
          "data": {
            "text/plain": [
              "<Figure size 432x288 with 1 Axes>"
            ],
            "image/png": "[encoded data removed]"
          },
          "metadata": {}
        },
        {
          "output_type": "display_data",
          "data": {
            "text/plain": [
              "<Figure size 432x288 with 1 Axes>"
            ],
            "image/png": "[encoded data removed]"
          },
          "metadata": {}
        },
        {
          "output_type": "display_data",
          "data": {
            "text/plain": [
              "<Figure size 432x288 with 1 Axes>"
            ],
            "image/png": "[encoded data removed]"
          },
          "metadata": {}
        },
        {
          "output_type": "display_data",
          "data": {
            "text/plain": [
              "<Figure size 432x288 with 1 Axes>"
            ],
            "image/png": "[encoded data removed]"
          },
          "metadata": {}
        },
        {
          "output_type": "display_data",
          "data": {
            "text/plain": [
              "<Figure size 432x288 with 1 Axes>"
            ],
            "image/png": "[encoded data removed]"
          },
          "metadata": {}
        },
        {
          "output_type": "display_data",
          "data": {
            "text/plain": [
              "<Figure size 432x288 with 1 Axes>"
            ],
            "image/png": "[encoded data removed]"
          },
          "metadata": {}
        },
        {
          "output_type": "display_data",
          "data": {
            "text/plain": [
              "<Figure size 432x288 with 1 Axes>"
            ],
            "image/png": "[encoded data removed]"
          },
          "metadata": {}
        },
        {
          "output_type": "display_data",
          "data": {
            "text/plain": [
              "<Figure size 432x288 with 1 Axes>"
            ],
            "image/png": "[encoded data removed]"
          },
          "metadata": {}
        }
      ]
    },
    {
      "cell_type": "markdown",
      "source": [
        "# Build the model"
      ],
      "metadata": {
        "id": "QPgjRVVZvwMG"
      }
    },
    {
      "cell_type": "code",
      "source": [
        "# Set up the layers\n",
        "model = tf.keras.Sequential([\n",
        "    tf.keras.layers.Flatten(input_shape =(28,28)),\n",
        "    tf.keras.layers.Dense(128, activation = 'relu'),\n",
        "    tf.keras.layers.Dense(10)\n",
        "])"
      ],
      "metadata": {
        "id": "XrMYcdFPvzJO"
      },
      "execution_count": 10,
      "outputs": []
    },
    {
      "cell_type": "markdown",
      "source": [
        "**tf.keras.layers.Flatten** - transform the format of the images from a two_dimensional array to a one_dimensional array, has no parameters to leran\n",
        "\n",
        "**tf.keras.layers.Dense**  layers - the first **Dense ** has 128 nodes (or neurons), the second returns a logits array wirth length of 10. Each node contains a score that indicates the current image belongs to one of the 10 classes."
      ],
      "metadata": {
        "id": "V6OYBkMgw_wD"
      }
    },
    {
      "cell_type": "markdown",
      "source": [
        "# Complie the model\n",
        "Before the model is ready for training, it needs a few more settings. These are added during the model's compile step:\n",
        "\n",
        "    **Loss function** —This measures how accurate the model is during training. You want to minimize this function to \"steer\" the model in the right direction.\n",
        "    **Optimizer** —This is how the model is updated based on the data it sees and its loss function.\n",
        "    **Metrics** —Used to monitor the training and testing steps. The following example uses accuracy, the fraction of the images that are correctly classified.\n"
      ],
      "metadata": {
        "id": "g8BjkrdhyzsJ"
      }
    },
    {
      "cell_type": "code",
      "source": [
        "model.compile(optimizer='adam',\n",
        "              loss=tf.keras.losses.SparseCategoricalCrossentropy(from_logits=True),\n",
        "              metrics=['accuracy'])"
      ],
      "metadata": {
        "id": "bXaiXGNYxaDN"
      },
      "execution_count": 11,
      "outputs": []
    },
    {
      "cell_type": "markdown",
      "source": [
        "# Train the model\n",
        "Training the neural network model requires the following steps:\n",
        "\n",
        "    Feed the training data to the model. In this example, the training data is in the train_images and train_labels arrays.\n",
        "    The model learns to associate images and labels.\n",
        "    You ask the model to make predictions about a test set—in this example, the test_images array.\n",
        "    Verify that the predictions match the labels from the test_labels array"
      ],
      "metadata": {
        "id": "ux5AtuGEzyxE"
      }
    },
    {
      "cell_type": "code",
      "source": [
        "#Feed the model\n",
        "model.fit(train_images, train_labels, epochs=10)"
      ],
      "metadata": {
        "colab": {
          "base_uri": "https://localhost:8080/"
        },
        "id": "egWV6S7cz_w6",
        "outputId": "be16d4c9-78f1-4c84-909f-2ece5abf2ff0"
      },
      "execution_count": 12,
      "outputs": [
        {
          "output_type": "stream",
          "name": "stdout",
          "text": [
            "Epoch 1/10\n",
            "1875/1875 [==============================] - 19s 9ms/step - loss: 0.4974 - accuracy: 0.8248\n",
            "Epoch 2/10\n",
            "1875/1875 [==============================] - 9s 5ms/step - loss: 0.3703 - accuracy: 0.8656\n",
            "Epoch 3/10\n",
            "1875/1875 [==============================] - 5s 3ms/step - loss: 0.3340 - accuracy: 0.8782\n",
            "Epoch 4/10\n",
            "1875/1875 [==============================] - 5s 3ms/step - loss: 0.3106 - accuracy: 0.8867\n",
            "Epoch 5/10\n",
            "1875/1875 [==============================] - 5s 3ms/step - loss: 0.2926 - accuracy: 0.8925\n",
            "Epoch 6/10\n",
            "1875/1875 [==============================] - 6s 3ms/step - loss: 0.2789 - accuracy: 0.8959\n",
            "Epoch 7/10\n",
            "1875/1875 [==============================] - 6s 3ms/step - loss: 0.2649 - accuracy: 0.9008\n",
            "Epoch 8/10\n",
            "1875/1875 [==============================] - 6s 3ms/step - loss: 0.2554 - accuracy: 0.9043\n",
            "Epoch 9/10\n",
            "1875/1875 [==============================] - 6s 3ms/step - loss: 0.2463 - accuracy: 0.9085\n",
            "Epoch 10/10\n",
            "1875/1875 [==============================] - 6s 3ms/step - loss: 0.2367 - accuracy: 0.9112\n"
          ]
        },
        {
          "output_type": "execute_result",
          "data": {
            "text/plain": [
              "<keras.callbacks.History at 0x7ff060f0c3a0>"
            ]
          },
          "metadata": {},
          "execution_count": 12
        }
      ]
    },
    {
      "cell_type": "code",
      "source": [
        "# evaluate accuracy\n",
        "test_loss, test_acc = model.evaluate(test_images, test_labels, verbose=2)\n",
        "print('\\nTest accuracy:', test_acc)"
      ],
      "metadata": {
        "colab": {
          "base_uri": "https://localhost:8080/"
        },
        "id": "mNGeCfPw0sKL",
        "outputId": "25835d49-b14e-4a81-ee80-4c8040fc827b"
      },
      "execution_count": 13,
      "outputs": [
        {
          "output_type": "stream",
          "name": "stdout",
          "text": [
            "313/313 - 1s - loss: 0.3445 - accuracy: 0.8784 - 590ms/epoch - 2ms/step\n",
            "\n",
            "Test accuracy: 0.8784000277519226\n"
          ]
        }
      ]
    },
    {
      "cell_type": "markdown",
      "source": [
        "It turns out that the accuracy on the test dataset is a little less than the accuracy on the training dataset. This gap between training accuracy and test accuracy represents overfitting. Overfitting happens when a machine learning model performs worse on new, previously unseen inputs than it does on the training data. An overfitted model \"memorizes\" the noise and details in the training dataset to a point where it negatively impacts the performance of the model on the new data."
      ],
      "metadata": {
        "id": "gbZKbkH_1ie_"
      }
    },
    {
      "cell_type": "markdown",
      "source": [
        "# Make predictions"
      ],
      "metadata": {
        "id": "yYr1Glk71wAj"
      }
    },
    {
      "cell_type": "code",
      "source": [
        "# Attach a softmax layer to convert the model's linear outputs—logits—to probabilities, which should be easier to interpret.\n",
        "probability_model = tf.keras.Sequential([model, tf.keras.layers.Softmax()])"
      ],
      "metadata": {
        "id": "050ORZRt1mhV"
      },
      "execution_count": 14,
      "outputs": []
    },
    {
      "cell_type": "code",
      "source": [
        "predictions = probability_model.predict(test_images)"
      ],
      "metadata": {
        "colab": {
          "base_uri": "https://localhost:8080/"
        },
        "id": "Yvyz1ldV1hvs",
        "outputId": "51f31756-8c88-43a1-a2ae-8ffcc50f5222"
      },
      "execution_count": 15,
      "outputs": [
        {
          "output_type": "stream",
          "name": "stdout",
          "text": [
            "313/313 [==============================] - 1s 2ms/step\n"
          ]
        }
      ]
    },
    {
      "cell_type": "code",
      "source": [
        "predictions[0]"
      ],
      "metadata": {
        "colab": {
          "base_uri": "https://localhost:8080/"
        },
        "id": "Z5uUpKLq2j1D",
        "outputId": "f69c4624-937d-4b1c-de35-08d569b63692"
      },
      "execution_count": 16,
      "outputs": [
        {
          "output_type": "execute_result",
          "data": {
            "text/plain": [
              "array([7.63238504e-08, 1.08034824e-13, 4.05531685e-11, 3.64763671e-11,\n",
              "       2.11272250e-10, 3.31482297e-05, 1.88297000e-09, 1.80142187e-03,\n",
              "       5.40537251e-08, 9.98165369e-01], dtype=float32)"
            ]
          },
          "metadata": {},
          "execution_count": 16
        }
      ]
    },
    {
      "cell_type": "markdown",
      "source": [
        "A prediction is an array of 10 numbers. They represent the model's \"confidence\" that the image corresponds to each of the 10 different articles of clothing. You can see which label has the highest confidence value:"
      ],
      "metadata": {
        "id": "y_OXlaXP2sjZ"
      }
    },
    {
      "cell_type": "code",
      "source": [
        "np.argmax(predictions[0])"
      ],
      "metadata": {
        "colab": {
          "base_uri": "https://localhost:8080/"
        },
        "id": "sfuHty922tRz",
        "outputId": "dc3bfbd0-05cc-45cc-b9fe-7e8fcdf48f29"
      },
      "execution_count": 17,
      "outputs": [
        {
          "output_type": "execute_result",
          "data": {
            "text/plain": [
              "9"
            ]
          },
          "metadata": {},
          "execution_count": 17
        }
      ]
    },
    {
      "cell_type": "code",
      "source": [
        "# the model is most confident that this image is an ankle boot\n",
        "class_names[9]"
      ],
      "metadata": {
        "colab": {
          "base_uri": "https://localhost:8080/",
          "height": 36
        },
        "id": "StM_0Jal3AXh",
        "outputId": "002008d2-c348-4efb-e4aa-5a3e44256d1d"
      },
      "execution_count": 18,
      "outputs": [
        {
          "output_type": "execute_result",
          "data": {
            "text/plain": [
              "'Ankle boot'"
            ],
            "application/vnd.google.colaboratory.intrinsic+json": {
              "type": "string"
            }
          },
          "metadata": {},
          "execution_count": 18
        }
      ]
    },
    {
      "cell_type": "code",
      "source": [
        "test_labels[0]"
      ],
      "metadata": {
        "colab": {
          "base_uri": "https://localhost:8080/"
        },
        "id": "XdF2jygG3F5U",
        "outputId": "a3d9e74b-f952-414c-fe99-bda3b8fb056f"
      },
      "execution_count": 19,
      "outputs": [
        {
          "output_type": "execute_result",
          "data": {
            "text/plain": [
              "9"
            ]
          },
          "metadata": {},
          "execution_count": 19
        }
      ]
    },
    {
      "cell_type": "code",
      "source": [
        "#Graph this to look at the full set of 10 class predictions\n",
        "def plot_image(i, predictions_array, true_label, img):\n",
        "  true_label, img = true_label[i], img[i]\n",
        "  plt.grid(False)\n",
        "  plt.xticks([])\n",
        "  plt.yticks([])\n",
        "\n",
        "  plt.imshow(img, cmap=plt.cm.binary)\n",
        "\n",
        "  predicted_label = np.argmax(predictions_array)\n",
        "  if predicted_label == true_label:\n",
        "    color = 'blue'\n",
        "  else:\n",
        "    color = 'red'\n",
        "\n",
        "  plt.xlabel(\"{} {:2.0f}% ({})\".format(class_names[predicted_label],\n",
        "                                100*np.max(predictions_array),\n",
        "                                class_names[true_label]),\n",
        "                                color=color)\n"
      ],
      "metadata": {
        "id": "8CxbdMz53MHr"
      },
      "execution_count": 20,
      "outputs": []
    },
    {
      "cell_type": "code",
      "source": [
        "def plot_value_array(i, predictions_array, true_label):\n",
        "  true_label = true_label[i]\n",
        "  plt.grid(False)\n",
        "  plt.xticks(range(10))\n",
        "  plt.yticks([])\n",
        "  thisplot = plt.bar(range(10), predictions_array, color=\"#777777\")\n",
        "  plt.ylim([0, 1])\n",
        "  predicted_label = np.argmax(predictions_array)\n",
        "\n",
        "  thisplot[predicted_label].set_color('red')\n",
        "  thisplot[true_label].set_color('blue')"
      ],
      "metadata": {
        "id": "brPw5bCb3pRN"
      },
      "execution_count": 21,
      "outputs": []
    },
    {
      "cell_type": "markdown",
      "source": [
        "# Verify predictions"
      ],
      "metadata": {
        "id": "rx0RmBXo4QVg"
      }
    },
    {
      "cell_type": "markdown",
      "source": [
        "Let's look at the 0th image, predictions, and prediction array. Correct prediction labels are blue and incorrect prediction labels are red. The number gives the percentage (out of 100) for the predicted label."
      ],
      "metadata": {
        "id": "3pfQZTTo4hQE"
      }
    },
    {
      "cell_type": "code",
      "source": [
        "i = 0\n",
        "plt.figure(figsize=(6,3))\n",
        "plt.subplot(1,2,1)\n",
        "plot_image(i, predictions[i], test_labels, test_images)\n",
        "plt.subplot(1,2,2)\n",
        "plot_value_array(i, predictions[i], test_labels)\n",
        "plt.show()\n"
      ],
      "metadata": {
        "colab": {
          "base_uri": "https://localhost:8080/",
          "height": 211
        },
        "id": "97iGC-CC4Ito",
        "outputId": "42a91cad-9328-4dcd-9457-2992e53851a1"
      },
      "execution_count": 22,
      "outputs": [
        {
          "output_type": "display_data",
          "data": {
            "text/plain": [
              "<Figure size 432x216 with 2 Axes>"
            ],
            "image/png": "[encoded data removed]"
          },
          "metadata": {
            "needs_background": "light"
          }
        }
      ]
    },
    {
      "cell_type": "code",
      "source": [
        "i = 12\n",
        "plt.figure(figsize=(6,3))\n",
        "plt.subplot(1,2,1)\n",
        "plot_image(i, predictions[i], test_labels, test_images)\n",
        "plt.subplot(1,2,2)\n",
        "plot_value_array(i, predictions[i], test_labels)\n",
        "plt.show()"
      ],
      "metadata": {
        "colab": {
          "base_uri": "https://localhost:8080/",
          "height": 211
        },
        "id": "wQooFVUi5MVt",
        "outputId": "e5aa3a48-343a-4916-9fb0-cc4b7e71e0d5"
      },
      "execution_count": 23,
      "outputs": [
        {
          "output_type": "display_data",
          "data": {
            "text/plain": [
              "<Figure size 432x216 with 2 Axes>"
            ],
            "image/png": "[encoded data removed]"
          },
          "metadata": {
            "needs_background": "light"
          }
        }
      ]
    },
    {
      "cell_type": "code",
      "source": [
        "# Plot the first X test images, their predicted labels, and the true labels.\n",
        "# Color correct predictions in blue and incorrect predictions in red.\n",
        "num_rows = 5\n",
        "num_cols = 3\n",
        "num_images = num_rows*num_cols\n",
        "plt.figure(figsize=(2*2*num_cols, 2*num_rows))\n",
        "for i in range(num_images):\n",
        "  plt.subplot(num_rows, 2*num_cols, 2*i+1)\n",
        "  plot_image(i, predictions[i], test_labels, test_images)\n",
        "  plt.subplot(num_rows, 2*num_cols, 2*i+2)\n",
        "  plot_value_array(i, predictions[i], test_labels)\n",
        "plt.tight_layout()\n",
        "plt.show()\n"
      ],
      "metadata": {
        "colab": {
          "base_uri": "https://localhost:8080/",
          "height": 729
        },
        "id": "Qtsi4XrU5vsk",
        "outputId": "0090ab8a-bfe5-4ed8-bec4-3627e4e1153a"
      },
      "execution_count": 24,
      "outputs": [
        {
          "output_type": "display_data",
          "data": {
            "text/plain": [
              "<Figure size 864x720 with 30 Axes>"
            ],
            "image/png": "[encoded data removed]"
          },
          "metadata": {
            "needs_background": "light"
          }
        }
      ]
    },
    {
      "cell_type": "markdown",
      "source": [
        "# Use the trained model"
      ],
      "metadata": {
        "id": "ri-wG4c96ZOl"
      }
    },
    {
      "cell_type": "code",
      "source": [
        "# grab an image from the test dataset\n",
        "img = test_images[1]\n",
        "img.shape"
      ],
      "metadata": {
        "colab": {
          "base_uri": "https://localhost:8080/"
        },
        "id": "iYQ7LA1Q6cae",
        "outputId": "e7675a63-9e0a-498d-dc92-e71519ebe4e1"
      },
      "execution_count": 25,
      "outputs": [
        {
          "output_type": "execute_result",
          "data": {
            "text/plain": [
              "(28, 28)"
            ]
          },
          "metadata": {},
          "execution_count": 25
        }
      ]
    },
    {
      "cell_type": "markdown",
      "source": [
        " tf.keras models are optimized to make predictions on a batch, or collection. Accordingly, even though you're using a single image, you need to add it to a list"
      ],
      "metadata": {
        "id": "P2Nsmela6-M8"
      }
    },
    {
      "cell_type": "code",
      "source": [
        "# Add the image to a batch where it's the only member\n",
        "img = (np.expand_dims(img, 0))\n",
        "img.shape"
      ],
      "metadata": {
        "colab": {
          "base_uri": "https://localhost:8080/"
        },
        "id": "0EDQbDjN6Wz3",
        "outputId": "dacef81a-4712-4a0e-db80-d290b2546059"
      },
      "execution_count": 26,
      "outputs": [
        {
          "output_type": "execute_result",
          "data": {
            "text/plain": [
              "(1, 28, 28)"
            ]
          },
          "metadata": {},
          "execution_count": 26
        }
      ]
    },
    {
      "cell_type": "code",
      "source": [
        "# predict the correct label from this image\n",
        "predictions_single= probability_model.predict(img)\n",
        "predictions_single"
      ],
      "metadata": {
        "colab": {
          "base_uri": "https://localhost:8080/"
        },
        "id": "CssnrKBi7UOx",
        "outputId": "59d4b6fa-0ae6-49fb-c61d-a294f14a47e3"
      },
      "execution_count": 27,
      "outputs": [
        {
          "output_type": "stream",
          "name": "stdout",
          "text": [
            "1/1 [==============================] - 0s 17ms/step\n"
          ]
        },
        {
          "output_type": "execute_result",
          "data": {
            "text/plain": [
              "array([[5.3098418e-05, 7.8331286e-10, 9.8959678e-01, 2.8959963e-09,\n",
              "        4.0938840e-03, 8.6207560e-12, 6.2562213e-03, 2.0930480e-18,\n",
              "        2.0561036e-10, 2.0809126e-13]], dtype=float32)"
            ]
          },
          "metadata": {},
          "execution_count": 27
        }
      ]
    },
    {
      "cell_type": "code",
      "source": [
        "plt.figure(figsize=(10,5))\n",
        "plt.subplot(1,2,1)\n",
        "plot_image(i, predictions_single[0], test_labels, test_images)\n",
        "plt.subplot(1,2,2)\n",
        "plot_value_array(1, predictions_single[0], test_labels)\n",
        "plt.xticks(range(10), class_names, rotation=45)\n",
        "plt.show()"
      ],
      "metadata": {
        "colab": {
          "base_uri": "https://localhost:8080/",
          "height": 354
        },
        "id": "goNQBxxw7v9V",
        "outputId": "99ccb20b-7ce3-4872-d101-a8480a37036b"
      },
      "execution_count": 28,
      "outputs": [
        {
          "output_type": "display_data",
          "data": {
            "text/plain": [
              "<Figure size 720x360 with 2 Axes>"
            ],
            "image/png": "[encoded data removed]"
          },
          "metadata": {
            "needs_background": "light"
          }
        }
      ]
    },
    {
      "cell_type": "code",
      "source": [
        "np.argmax(predictions_single[0])"
      ],
      "metadata": {
        "colab": {
          "base_uri": "https://localhost:8080/"
        },
        "id": "pfb3_zlR80KK",
        "outputId": "e2552e23-060b-4c4b-8814-f27e5b24f45a"
      },
      "execution_count": 29,
      "outputs": [
        {
          "output_type": "execute_result",
          "data": {
            "text/plain": [
              "2"
            ]
          },
          "metadata": {},
          "execution_count": 29
        }
      ]
    },
    {
      "cell_type": "markdown",
      "source": [
        "## 2. Hyperparameter tuning or hypertuning\n",
        "https://www.tensorflow.org/tutorials/keras/keras_tuner"
      ],
      "metadata": {
        "id": "n2OzzX6AA7da"
      }
    },
    {
      "cell_type": "markdown",
      "source": [
        "Hyperparameters are of two types:\n",
        "\n",
        "**Model hyperparameters** which influence model selection such as the number and width of hidden layers\n",
        "\n",
        "**Algorithm hyperparameters** which influence the speed and quality of the learning algorithm such as the learning rate for Stochastic Gradient Descent (SGD) and the number of nearest neighbors for a k Nearest Neighbors (KNN) classifier\n"
      ],
      "metadata": {
        "id": "ljEYD60tBgZ4"
      }
    },
    {
      "cell_type": "code",
      "source": [
        "# import and install the keras tuner\n",
        "!pip install -q -U keras-tuner"
      ],
      "metadata": {
        "colab": {
          "base_uri": "https://localhost:8080/"
        },
        "id": "fS2UvPmvA-bb",
        "outputId": "2408c693-25e6-44be-fddb-a27423a33663"
      },
      "execution_count": 30,
      "outputs": [
        {
          "output_type": "stream",
          "name": "stdout",
          "text": [
            "\u001b[2K     \u001b[90m━━━━━━━━━━━━━━━━━━━━━━━━━━━━━━━━━━━━━━━\u001b[0m \u001b[32m135.7/135.7 KB\u001b[0m \u001b[31m3.5 MB/s\u001b[0m eta \u001b[36m0:00:00\u001b[0m\n",
            "\u001b[2K     \u001b[90m━━━━━━━━━━━━━━━━━━━━━━━━━━━━━━━━━━━━━━━━\u001b[0m \u001b[32m1.6/1.6 MB\u001b[0m \u001b[31m28.6 MB/s\u001b[0m eta \u001b[36m0:00:00\u001b[0m\n",
            "\u001b[?25h"
          ]
        }
      ]
    },
    {
      "cell_type": "code",
      "source": [
        "import keras_tuner as kt"
      ],
      "metadata": {
        "id": "ekEIu2WwCRzt"
      },
      "execution_count": 31,
      "outputs": []
    },
    {
      "cell_type": "code",
      "source": [
        "# load the data\n",
        "(img_train, label_train), (img_test, label_test) = keras.datasets.fashion_mnist.load_data()\n"
      ],
      "metadata": {
        "id": "a1Xu_G9_CoYB"
      },
      "execution_count": 32,
      "outputs": []
    },
    {
      "cell_type": "code",
      "source": [
        "# Normalize pixel values between 0 and 1\n",
        "img_train = img_train.astype('float32') / 255.0\n",
        "img_test = img_test.astype('float32') / 255.0"
      ],
      "metadata": {
        "id": "DxVnHY61Czkn"
      },
      "execution_count": 33,
      "outputs": []
    },
    {
      "cell_type": "code",
      "source": [
        "# define the model\n",
        "def model_builder(hp):\n",
        "  model = keras.Sequential()\n",
        "  model.add(keras.layers.Flatten(input_shape=(28 ,28)))\n",
        "  #Tune the number of unit in the first Dense layer, \n",
        "  #choose an optimal value between 32-512\n",
        "  hp_units = hp.Int('units', min_value=32, max_value=512, step =32)\n",
        "  model.add(keras.layers.Dense(units=hp_units, activation ='relu'))\n",
        "  model.add(keras.layers.Dense(10))\n",
        "\n",
        "  #Tune the learning rate for the optimizer\n",
        "  #choose an optimal value from 0.01, 0.001, 0r 0.0001\n",
        "  hp_learning_rate = hp.Choice('learning_rate', values = [1e-2, 1e-3, 1e-4])\n",
        "\n",
        "  model.compile(optimizer = keras.optimizers.Adam(learning_rate=hp_learning_rate),\n",
        "                loss=keras.losses.SparseCategoricalCrossentropy(from_logits=True),\n",
        "                metrics=['accuracy'])\n",
        "  return model\n"
      ],
      "metadata": {
        "id": "lVCrFpEvCzts"
      },
      "execution_count": 34,
      "outputs": []
    },
    {
      "cell_type": "markdown",
      "source": [
        "The Keras Tuner has four tuners available - RandomSearch, Hyperband, BayesianOptimization, and Sklearn. In this tutorial, you use the Hyperband tuner.\n",
        "\n",
        "We will use Hyperband. To instantiate the Hyperband tuner, you must specify the hypermodel, the objective to optimize and the maximum number of epochs to train (max_epochs)"
      ],
      "metadata": {
        "id": "G5nnaz_tNJ_Z"
      }
    },
    {
      "cell_type": "code",
      "source": [
        "# instantiate the tuner and perform hypertuning\n",
        "tuner = kt.Hyperband(model_builder, \n",
        "                     objective ='val_accuracy',\n",
        "                     max_epochs=10,\n",
        "                     factor=3,\n",
        "                     directory ='my_dir',\n",
        "                     project_name='intro_to_kt')"
      ],
      "metadata": {
        "id": "IO9T3sqxF_eL"
      },
      "execution_count": 35,
      "outputs": []
    },
    {
      "cell_type": "code",
      "source": [
        "#Create a callback to stop training early after reaching a certain value for the validation loss\n",
        "stop_early =tf.keras.callbacks.EarlyStopping(monitor='val_loss', patience =5)"
      ],
      "metadata": {
        "id": "IM1h51spOhDT"
      },
      "execution_count": 36,
      "outputs": []
    },
    {
      "cell_type": "code",
      "source": [
        "#run the hyperparameter search, the arguments for the search method are the same as those used for tf.keras.model.fit in addition to the callback above.\n",
        "tuner.search(img_train, label_train, epochs=50, validation_split=0.2, callbacks=[stop_early])"
      ],
      "metadata": {
        "colab": {
          "base_uri": "https://localhost:8080/"
        },
        "id": "fPonOPmJOyVo",
        "outputId": "5fd0b52c-1f98-4a46-a87f-5a8441667e09"
      },
      "execution_count": 37,
      "outputs": [
        {
          "output_type": "stream",
          "name": "stdout",
          "text": [
            "Trial 30 Complete [00h 01m 23s]\n",
            "val_accuracy: 0.8665833473205566\n",
            "\n",
            "Best val_accuracy So Far: 0.8899166584014893\n",
            "Total elapsed time: 00h 15m 30s\n"
          ]
        }
      ]
    },
    {
      "cell_type": "code",
      "source": [
        "# Get the optimal hyperparameters\n",
        "best_hps=tuner.get_best_hyperparameters(num_trials=1)[0]\n",
        "\n",
        "best_hps.get('units')"
      ],
      "metadata": {
        "colab": {
          "base_uri": "https://localhost:8080/"
        },
        "id": "xEK0LnTjVRWn",
        "outputId": "10697f8a-1f00-4f59-f591-5b5bd75fdc99"
      },
      "execution_count": 38,
      "outputs": [
        {
          "output_type": "execute_result",
          "data": {
            "text/plain": [
              "320"
            ]
          },
          "metadata": {},
          "execution_count": 38
        }
      ]
    },
    {
      "cell_type": "code",
      "source": [
        "best_hps.get('learning_rate')"
      ],
      "metadata": {
        "colab": {
          "base_uri": "https://localhost:8080/"
        },
        "id": "OKAzcjJ7bu-m",
        "outputId": "5da7b0b8-8c8d-4da2-cf99-4f179c66fd33"
      },
      "execution_count": 39,
      "outputs": [
        {
          "output_type": "execute_result",
          "data": {
            "text/plain": [
              "0.001"
            ]
          },
          "metadata": {},
          "execution_count": 39
        }
      ]
    },
    {
      "cell_type": "code",
      "source": [
        "# Build the model with the optimal hyperparameters and train it on the data for 50 epochs\n",
        "model = tuner.hypermodel.build(best_hps)\n",
        "history = model.fit(img_train, label_train, epochs=50, validation_split=0.2)\n",
        "\n",
        "val_acc_per_epoch = history.history['val_accuracy']\n",
        "best_epoch = val_acc_per_epoch.index(max(val_acc_per_epoch)) + 1\n",
        "print('Best epoch: %d' % (best_epoch,))\n"
      ],
      "metadata": {
        "colab": {
          "base_uri": "https://localhost:8080/"
        },
        "id": "hNvgH2zycXob",
        "outputId": "63c4a9d5-bf54-4d91-8081-57317ab8ada7"
      },
      "execution_count": 40,
      "outputs": [
        {
          "output_type": "stream",
          "name": "stdout",
          "text": [
            "Epoch 1/50\n",
            "1500/1500 [==============================] - 7s 5ms/step - loss: 0.4967 - accuracy: 0.8234 - val_loss: 0.4220 - val_accuracy: 0.8493\n",
            "Epoch 2/50\n",
            "1500/1500 [==============================] - 7s 4ms/step - loss: 0.3689 - accuracy: 0.8658 - val_loss: 0.3605 - val_accuracy: 0.8690\n",
            "Epoch 3/50\n",
            "1500/1500 [==============================] - 7s 5ms/step - loss: 0.3324 - accuracy: 0.8773 - val_loss: 0.3688 - val_accuracy: 0.8653\n",
            "Epoch 4/50\n",
            "1500/1500 [==============================] - 7s 5ms/step - loss: 0.3045 - accuracy: 0.8869 - val_loss: 0.3303 - val_accuracy: 0.8782\n",
            "Epoch 5/50\n",
            "1500/1500 [==============================] - 7s 5ms/step - loss: 0.2865 - accuracy: 0.8943 - val_loss: 0.3264 - val_accuracy: 0.8821\n",
            "Epoch 6/50\n",
            "1500/1500 [==============================] - 7s 4ms/step - loss: 0.2716 - accuracy: 0.8985 - val_loss: 0.3523 - val_accuracy: 0.8732\n",
            "Epoch 7/50\n",
            "1500/1500 [==============================] - 7s 4ms/step - loss: 0.2578 - accuracy: 0.9045 - val_loss: 0.3276 - val_accuracy: 0.8817\n",
            "Epoch 8/50\n",
            "1500/1500 [==============================] - 7s 5ms/step - loss: 0.2452 - accuracy: 0.9073 - val_loss: 0.3230 - val_accuracy: 0.8854\n",
            "Epoch 9/50\n",
            "1500/1500 [==============================] - 7s 4ms/step - loss: 0.2364 - accuracy: 0.9112 - val_loss: 0.3018 - val_accuracy: 0.8917\n",
            "Epoch 10/50\n",
            "1500/1500 [==============================] - 7s 5ms/step - loss: 0.2257 - accuracy: 0.9154 - val_loss: 0.3091 - val_accuracy: 0.8899\n",
            "Epoch 11/50\n",
            "1500/1500 [==============================] - 7s 5ms/step - loss: 0.2169 - accuracy: 0.9194 - val_loss: 0.3142 - val_accuracy: 0.8866\n",
            "Epoch 12/50\n",
            "1500/1500 [==============================] - 7s 5ms/step - loss: 0.2072 - accuracy: 0.9234 - val_loss: 0.3260 - val_accuracy: 0.8910\n",
            "Epoch 13/50\n",
            "1500/1500 [==============================] - 7s 4ms/step - loss: 0.2018 - accuracy: 0.9239 - val_loss: 0.3474 - val_accuracy: 0.8835\n",
            "Epoch 14/50\n",
            "1500/1500 [==============================] - 7s 5ms/step - loss: 0.1927 - accuracy: 0.9269 - val_loss: 0.3387 - val_accuracy: 0.8835\n",
            "Epoch 15/50\n",
            "1500/1500 [==============================] - 7s 5ms/step - loss: 0.1873 - accuracy: 0.9304 - val_loss: 0.3338 - val_accuracy: 0.8908\n",
            "Epoch 16/50\n",
            "1500/1500 [==============================] - 7s 5ms/step - loss: 0.1797 - accuracy: 0.9325 - val_loss: 0.3302 - val_accuracy: 0.8967\n",
            "Epoch 17/50\n",
            "1500/1500 [==============================] - 8s 5ms/step - loss: 0.1740 - accuracy: 0.9349 - val_loss: 0.3414 - val_accuracy: 0.8938\n",
            "Epoch 18/50\n",
            "1500/1500 [==============================] - 7s 5ms/step - loss: 0.1675 - accuracy: 0.9362 - val_loss: 0.3465 - val_accuracy: 0.8916\n",
            "Epoch 19/50\n",
            "1500/1500 [==============================] - 7s 5ms/step - loss: 0.1643 - accuracy: 0.9385 - val_loss: 0.3330 - val_accuracy: 0.8938\n",
            "Epoch 20/50\n",
            "1500/1500 [==============================] - 7s 5ms/step - loss: 0.1576 - accuracy: 0.9403 - val_loss: 0.3711 - val_accuracy: 0.8925\n",
            "Epoch 21/50\n",
            "1500/1500 [==============================] - 7s 5ms/step - loss: 0.1532 - accuracy: 0.9425 - val_loss: 0.3721 - val_accuracy: 0.8886\n",
            "Epoch 22/50\n",
            "1500/1500 [==============================] - 7s 5ms/step - loss: 0.1487 - accuracy: 0.9440 - val_loss: 0.3647 - val_accuracy: 0.8921\n",
            "Epoch 23/50\n",
            "1500/1500 [==============================] - 7s 5ms/step - loss: 0.1442 - accuracy: 0.9453 - val_loss: 0.3543 - val_accuracy: 0.8952\n",
            "Epoch 24/50\n",
            "1500/1500 [==============================] - 7s 5ms/step - loss: 0.1407 - accuracy: 0.9467 - val_loss: 0.3680 - val_accuracy: 0.8947\n",
            "Epoch 25/50\n",
            "1500/1500 [==============================] - 7s 5ms/step - loss: 0.1350 - accuracy: 0.9497 - val_loss: 0.3764 - val_accuracy: 0.8951\n",
            "Epoch 26/50\n",
            "1500/1500 [==============================] - 7s 5ms/step - loss: 0.1308 - accuracy: 0.9504 - val_loss: 0.4083 - val_accuracy: 0.8889\n",
            "Epoch 27/50\n",
            "1500/1500 [==============================] - 7s 5ms/step - loss: 0.1290 - accuracy: 0.9518 - val_loss: 0.4208 - val_accuracy: 0.8833\n",
            "Epoch 28/50\n",
            "1500/1500 [==============================] - 7s 5ms/step - loss: 0.1258 - accuracy: 0.9529 - val_loss: 0.3957 - val_accuracy: 0.8934\n",
            "Epoch 29/50\n",
            "1500/1500 [==============================] - 7s 5ms/step - loss: 0.1212 - accuracy: 0.9543 - val_loss: 0.3991 - val_accuracy: 0.8892\n",
            "Epoch 30/50\n",
            "1500/1500 [==============================] - 7s 4ms/step - loss: 0.1208 - accuracy: 0.9546 - val_loss: 0.4046 - val_accuracy: 0.8905\n",
            "Epoch 31/50\n",
            "1500/1500 [==============================] - 7s 5ms/step - loss: 0.1174 - accuracy: 0.9563 - val_loss: 0.3986 - val_accuracy: 0.8942\n",
            "Epoch 32/50\n",
            "1500/1500 [==============================] - 7s 5ms/step - loss: 0.1132 - accuracy: 0.9567 - val_loss: 0.4045 - val_accuracy: 0.8976\n",
            "Epoch 33/50\n",
            "1500/1500 [==============================] - 7s 4ms/step - loss: 0.1119 - accuracy: 0.9581 - val_loss: 0.4407 - val_accuracy: 0.8935\n",
            "Epoch 34/50\n",
            "1500/1500 [==============================] - 7s 5ms/step - loss: 0.1062 - accuracy: 0.9606 - val_loss: 0.4220 - val_accuracy: 0.8923\n",
            "Epoch 35/50\n",
            "1500/1500 [==============================] - 7s 4ms/step - loss: 0.1042 - accuracy: 0.9606 - val_loss: 0.4198 - val_accuracy: 0.8957\n",
            "Epoch 36/50\n",
            "1500/1500 [==============================] - 7s 5ms/step - loss: 0.1029 - accuracy: 0.9624 - val_loss: 0.4427 - val_accuracy: 0.8917\n",
            "Epoch 37/50\n",
            "1500/1500 [==============================] - 7s 4ms/step - loss: 0.0973 - accuracy: 0.9629 - val_loss: 0.4376 - val_accuracy: 0.8947\n",
            "Epoch 38/50\n",
            "1500/1500 [==============================] - 7s 5ms/step - loss: 0.0977 - accuracy: 0.9627 - val_loss: 0.4646 - val_accuracy: 0.8922\n",
            "Epoch 39/50\n",
            "1500/1500 [==============================] - 7s 5ms/step - loss: 0.0943 - accuracy: 0.9633 - val_loss: 0.4412 - val_accuracy: 0.8974\n",
            "Epoch 40/50\n",
            "1500/1500 [==============================] - 7s 5ms/step - loss: 0.0939 - accuracy: 0.9636 - val_loss: 0.4654 - val_accuracy: 0.8882\n",
            "Epoch 41/50\n",
            "1500/1500 [==============================] - 7s 5ms/step - loss: 0.0935 - accuracy: 0.9641 - val_loss: 0.4650 - val_accuracy: 0.8938\n",
            "Epoch 42/50\n",
            "1500/1500 [==============================] - 7s 4ms/step - loss: 0.0854 - accuracy: 0.9679 - val_loss: 0.4510 - val_accuracy: 0.8955\n",
            "Epoch 43/50\n",
            "1500/1500 [==============================] - 7s 5ms/step - loss: 0.0895 - accuracy: 0.9660 - val_loss: 0.5069 - val_accuracy: 0.8897\n",
            "Epoch 44/50\n",
            "1500/1500 [==============================] - 9s 6ms/step - loss: 0.0844 - accuracy: 0.9699 - val_loss: 0.5271 - val_accuracy: 0.8924\n",
            "Epoch 45/50\n",
            "1500/1500 [==============================] - 7s 5ms/step - loss: 0.0818 - accuracy: 0.9688 - val_loss: 0.5322 - val_accuracy: 0.8903\n",
            "Epoch 46/50\n",
            "1500/1500 [==============================] - 7s 5ms/step - loss: 0.0821 - accuracy: 0.9686 - val_loss: 0.4892 - val_accuracy: 0.8966\n",
            "Epoch 47/50\n",
            "1500/1500 [==============================] - 7s 5ms/step - loss: 0.0775 - accuracy: 0.9708 - val_loss: 0.5083 - val_accuracy: 0.8944\n",
            "Epoch 48/50\n",
            "1500/1500 [==============================] - 7s 5ms/step - loss: 0.0776 - accuracy: 0.9710 - val_loss: 0.5099 - val_accuracy: 0.8925\n",
            "Epoch 49/50\n",
            "1500/1500 [==============================] - 7s 5ms/step - loss: 0.0773 - accuracy: 0.9709 - val_loss: 0.5647 - val_accuracy: 0.8848\n",
            "Epoch 50/50\n",
            "1500/1500 [==============================] - 7s 4ms/step - loss: 0.0758 - accuracy: 0.9712 - val_loss: 0.5194 - val_accuracy: 0.8919\n",
            "Best epoch: 32\n"
          ]
        }
      ]
    },
    {
      "cell_type": "code",
      "source": [
        "# Re-instantiate the hypermodel and train it with the optimal number of epochs from above.\n",
        "hypermodel = tuner.hypermodel.build(best_hps)\n",
        "hypermodel.fit(img_train, label_train, epochs=best_epoch, validation_split=0.2)"
      ],
      "metadata": {
        "colab": {
          "base_uri": "https://localhost:8080/"
        },
        "id": "Ot1XMRbRCP6x",
        "outputId": "54d15efe-4eb8-48cf-9840-1ab0b38193dd"
      },
      "execution_count": 46,
      "outputs": [
        {
          "output_type": "stream",
          "name": "stdout",
          "text": [
            "Epoch 1/32\n",
            "1500/1500 [==============================] - 8s 5ms/step - loss: 0.4973 - accuracy: 0.8249 - val_loss: 0.4038 - val_accuracy: 0.8617\n",
            "Epoch 2/32\n",
            "1500/1500 [==============================] - 7s 5ms/step - loss: 0.3709 - accuracy: 0.8649 - val_loss: 0.3627 - val_accuracy: 0.8707\n",
            "Epoch 3/32\n",
            "1500/1500 [==============================] - 7s 5ms/step - loss: 0.3301 - accuracy: 0.8786 - val_loss: 0.3365 - val_accuracy: 0.8761\n",
            "Epoch 4/32\n",
            "1500/1500 [==============================] - 7s 5ms/step - loss: 0.3069 - accuracy: 0.8863 - val_loss: 0.3572 - val_accuracy: 0.8727\n",
            "Epoch 5/32\n",
            "1500/1500 [==============================] - 10s 6ms/step - loss: 0.2885 - accuracy: 0.8924 - val_loss: 0.3285 - val_accuracy: 0.8814\n",
            "Epoch 6/32\n",
            "1500/1500 [==============================] - 7s 5ms/step - loss: 0.2743 - accuracy: 0.8999 - val_loss: 0.3236 - val_accuracy: 0.8854\n",
            "Epoch 7/32\n",
            "1500/1500 [==============================] - 7s 5ms/step - loss: 0.2596 - accuracy: 0.9035 - val_loss: 0.3195 - val_accuracy: 0.8876\n",
            "Epoch 8/32\n",
            "1500/1500 [==============================] - 7s 4ms/step - loss: 0.2466 - accuracy: 0.9072 - val_loss: 0.3089 - val_accuracy: 0.8905\n",
            "Epoch 9/32\n",
            "1500/1500 [==============================] - 7s 5ms/step - loss: 0.2353 - accuracy: 0.9125 - val_loss: 0.3567 - val_accuracy: 0.8758\n",
            "Epoch 10/32\n",
            "1500/1500 [==============================] - 7s 5ms/step - loss: 0.2272 - accuracy: 0.9153 - val_loss: 0.3004 - val_accuracy: 0.8944\n",
            "Epoch 11/32\n",
            "1500/1500 [==============================] - 7s 4ms/step - loss: 0.2162 - accuracy: 0.9190 - val_loss: 0.3148 - val_accuracy: 0.8920\n",
            "Epoch 12/32\n",
            "1500/1500 [==============================] - 7s 5ms/step - loss: 0.2098 - accuracy: 0.9230 - val_loss: 0.3227 - val_accuracy: 0.8903\n",
            "Epoch 13/32\n",
            "1500/1500 [==============================] - 7s 5ms/step - loss: 0.2017 - accuracy: 0.9256 - val_loss: 0.3783 - val_accuracy: 0.8712\n",
            "Epoch 14/32\n",
            "1500/1500 [==============================] - 7s 5ms/step - loss: 0.1931 - accuracy: 0.9277 - val_loss: 0.3373 - val_accuracy: 0.8867\n",
            "Epoch 15/32\n",
            "1500/1500 [==============================] - 6s 4ms/step - loss: 0.1857 - accuracy: 0.9303 - val_loss: 0.3189 - val_accuracy: 0.8949\n",
            "Epoch 16/32\n",
            "1500/1500 [==============================] - 7s 5ms/step - loss: 0.1813 - accuracy: 0.9308 - val_loss: 0.3324 - val_accuracy: 0.8944\n",
            "Epoch 17/32\n",
            "1500/1500 [==============================] - 7s 5ms/step - loss: 0.1734 - accuracy: 0.9350 - val_loss: 0.3964 - val_accuracy: 0.8743\n",
            "Epoch 18/32\n",
            "1500/1500 [==============================] - 7s 5ms/step - loss: 0.1696 - accuracy: 0.9366 - val_loss: 0.3628 - val_accuracy: 0.8830\n",
            "Epoch 19/32\n",
            "1500/1500 [==============================] - 7s 5ms/step - loss: 0.1640 - accuracy: 0.9394 - val_loss: 0.3352 - val_accuracy: 0.8953\n",
            "Epoch 20/32\n",
            "1500/1500 [==============================] - 7s 5ms/step - loss: 0.1600 - accuracy: 0.9401 - val_loss: 0.3491 - val_accuracy: 0.8931\n",
            "Epoch 21/32\n",
            "1500/1500 [==============================] - 7s 5ms/step - loss: 0.1530 - accuracy: 0.9419 - val_loss: 0.3467 - val_accuracy: 0.8924\n",
            "Epoch 22/32\n",
            "1500/1500 [==============================] - 7s 4ms/step - loss: 0.1485 - accuracy: 0.9448 - val_loss: 0.3389 - val_accuracy: 0.8968\n",
            "Epoch 23/32\n",
            "1500/1500 [==============================] - 7s 5ms/step - loss: 0.1459 - accuracy: 0.9458 - val_loss: 0.3659 - val_accuracy: 0.8928\n",
            "Epoch 24/32\n",
            "1500/1500 [==============================] - 7s 4ms/step - loss: 0.1408 - accuracy: 0.9466 - val_loss: 0.3613 - val_accuracy: 0.8923\n",
            "Epoch 25/32\n",
            "1500/1500 [==============================] - 7s 5ms/step - loss: 0.1365 - accuracy: 0.9488 - val_loss: 0.3496 - val_accuracy: 0.8965\n",
            "Epoch 26/32\n",
            "1500/1500 [==============================] - 7s 5ms/step - loss: 0.1340 - accuracy: 0.9500 - val_loss: 0.3720 - val_accuracy: 0.8923\n",
            "Epoch 27/32\n",
            "1500/1500 [==============================] - 7s 4ms/step - loss: 0.1287 - accuracy: 0.9518 - val_loss: 0.3782 - val_accuracy: 0.8938\n",
            "Epoch 28/32\n",
            "1500/1500 [==============================] - 7s 4ms/step - loss: 0.1257 - accuracy: 0.9520 - val_loss: 0.3847 - val_accuracy: 0.8903\n",
            "Epoch 29/32\n",
            "1500/1500 [==============================] - 7s 4ms/step - loss: 0.1229 - accuracy: 0.9540 - val_loss: 0.3965 - val_accuracy: 0.8967\n",
            "Epoch 30/32\n",
            "1500/1500 [==============================] - 7s 4ms/step - loss: 0.1209 - accuracy: 0.9540 - val_loss: 0.4008 - val_accuracy: 0.8935\n",
            "Epoch 31/32\n",
            "1500/1500 [==============================] - 7s 5ms/step - loss: 0.1186 - accuracy: 0.9553 - val_loss: 0.3954 - val_accuracy: 0.8938\n",
            "Epoch 32/32\n",
            "1500/1500 [==============================] - 7s 5ms/step - loss: 0.1095 - accuracy: 0.9588 - val_loss: 0.4104 - val_accuracy: 0.8864\n"
          ]
        },
        {
          "output_type": "execute_result",
          "data": {
            "text/plain": [
              "<keras.callbacks.History at 0x7ff0597a0fa0>"
            ]
          },
          "metadata": {},
          "execution_count": 46
        }
      ]
    },
    {
      "cell_type": "code",
      "source": [
        "# evaluate the hypermodel on the test data\n",
        "eval_result = hypermodel.evaluate(img_test, label_test)\n",
        "print(\"[test loss, test accuracy]:\", eval_result)"
      ],
      "metadata": {
        "colab": {
          "base_uri": "https://localhost:8080/"
        },
        "id": "0U8guRLxE3KJ",
        "outputId": "69b5abac-bff0-4fa3-9f72-f18c7faa4c75"
      },
      "execution_count": 47,
      "outputs": [
        {
          "output_type": "stream",
          "name": "stdout",
          "text": [
            "313/313 [==============================] - 1s 3ms/step - loss: 0.4762 - accuracy: 0.8778\n",
            "[test loss, test accuracy]: [0.4761786162853241, 0.8777999877929688]\n"
          ]
        }
      ]
    }
  ]
}