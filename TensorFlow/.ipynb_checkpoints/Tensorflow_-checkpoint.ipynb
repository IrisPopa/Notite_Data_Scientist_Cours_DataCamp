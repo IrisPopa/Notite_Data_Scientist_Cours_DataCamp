{
  "nbformat": 4,
  "nbformat_minor": 0,
  "metadata": {
    "colab": {
      "provenance": []
    },
    "kernelspec": {
      "name": "python3",
      "display_name": "Python 3"
    },
    "language_info": {
      "name": "python"
    }
  },
  "cells": [
    {
      "cell_type": "code",
      "execution_count": null,
      "metadata": {
        "id": "egHR5V7vrx0F"
      },
      "outputs": [],
      "source": [
        "import tensorflow as tf"
      ]
    },
    {
      "cell_type": "code",
      "source": [
        "tf.__version__"
      ],
      "metadata": {
        "colab": {
          "base_uri": "https://localhost:8080/",
          "height": 36
        },
        "id": "H3Fi5fnWry3L",
        "outputId": "36d08feb-5129-436c-bb34-f1199993eb3c"
      },
      "execution_count": null,
      "outputs": [
        {
          "output_type": "execute_result",
          "data": {
            "text/plain": [
              "'2.9.2'"
            ],
            "application/vnd.google.colaboratory.intrinsic+json": {
              "type": "string"
            }
          },
          "metadata": {},
          "execution_count": 9
        }
      ]
    },
    {
      "cell_type": "code",
      "source": [
        "tf.zeros(2)"
      ],
      "metadata": {
        "colab": {
          "base_uri": "https://localhost:8080/"
        },
        "id": "tUhmzugasbMr",
        "outputId": "7d1b1cec-3088-43de-f1c9-c3f3156003f3"
      },
      "execution_count": null,
      "outputs": [
        {
          "output_type": "execute_result",
          "data": {
            "text/plain": [
              "<tf.Tensor: shape=(2,), dtype=float32, numpy=array([0., 0.], dtype=float32)>"
            ]
          },
          "metadata": {},
          "execution_count": 10
        }
      ]
    },
    {
      "cell_type": "code",
      "source": [
        "print(tf.zeros(2))"
      ],
      "metadata": {
        "colab": {
          "base_uri": "https://localhost:8080/"
        },
        "id": "ZoxHuhYJsbQy",
        "outputId": "23c05b6e-bb14-4901-b33b-ad3da6a15401"
      },
      "execution_count": null,
      "outputs": [
        {
          "output_type": "stream",
          "name": "stdout",
          "text": [
            "tf.Tensor([0. 0.], shape=(2,), dtype=float32)\n"
          ]
        }
      ]
    },
    {
      "cell_type": "code",
      "source": [
        "x = tf.constant([[1., 2.,3.,], [4., 5., 6.]])"
      ],
      "metadata": {
        "id": "kYDQlqjEsblu"
      },
      "execution_count": null,
      "outputs": []
    },
    {
      "cell_type": "code",
      "source": [
        "print(x)"
      ],
      "metadata": {
        "colab": {
          "base_uri": "https://localhost:8080/"
        },
        "id": "VFsypn1przCO",
        "outputId": "878f0519-2754-45d1-a0d3-173030f36956"
      },
      "execution_count": null,
      "outputs": [
        {
          "output_type": "stream",
          "name": "stdout",
          "text": [
            "tf.Tensor(\n",
            "[[1. 2. 3.]\n",
            " [4. 5. 6.]], shape=(2, 3), dtype=float32)\n"
          ]
        }
      ]
    },
    {
      "cell_type": "code",
      "source": [
        "print(x.shape)"
      ],
      "metadata": {
        "colab": {
          "base_uri": "https://localhost:8080/"
        },
        "id": "MlZ1ai3FrzGC",
        "outputId": "8cdcb628-35ae-4219-f178-466b4f1b6bce"
      },
      "execution_count": null,
      "outputs": [
        {
          "output_type": "stream",
          "name": "stdout",
          "text": [
            "(2, 3)\n"
          ]
        }
      ]
    },
    {
      "cell_type": "code",
      "source": [
        "print(x.dtype)"
      ],
      "metadata": {
        "colab": {
          "base_uri": "https://localhost:8080/"
        },
        "id": "PP2Aaw_-rzJW",
        "outputId": "b61e3f63-4770-4914-81c0-11b6b42687f9"
      },
      "execution_count": null,
      "outputs": [
        {
          "output_type": "stream",
          "name": "stdout",
          "text": [
            "<dtype: 'float32'>\n"
          ]
        }
      ]
    },
    {
      "cell_type": "code",
      "source": [
        "vector = tf.constant([5, 6])"
      ],
      "metadata": {
        "id": "WmLFdd5GvAvG"
      },
      "execution_count": null,
      "outputs": []
    },
    {
      "cell_type": "code",
      "source": [
        "print(vector)\n",
        "print(vector.shape)\n",
        "print(vector.dtype)"
      ],
      "metadata": {
        "colab": {
          "base_uri": "https://localhost:8080/"
        },
        "id": "BoXHNnjMvJvY",
        "outputId": "aa7c704f-4399-46c9-b280-cd6733ec6040"
      },
      "execution_count": null,
      "outputs": [
        {
          "output_type": "stream",
          "name": "stdout",
          "text": [
            "tf.Tensor([5 6], shape=(2,), dtype=int32)\n",
            "(2,)\n",
            "<dtype: 'int32'>\n"
          ]
        }
      ]
    },
    {
      "cell_type": "markdown",
      "source": [
        "1. Create a vector, scalar, matrix and tensor with values of your choosing using tf.constant()."
      ],
      "metadata": {
        "id": "krCVD-zq04fr"
      }
    },
    {
      "cell_type": "code",
      "source": [
        "scalar =  tf.constant([1.])"
      ],
      "metadata": {
        "id": "3bWNIPLrrzMS"
      },
      "execution_count": null,
      "outputs": []
    },
    {
      "cell_type": "code",
      "source": [
        "print(scalar)\n",
        "print(scalar.shape)\n",
        "print(scalar.dtype)"
      ],
      "metadata": {
        "colab": {
          "base_uri": "https://localhost:8080/"
        },
        "id": "wAw8RF1jtuGm",
        "outputId": "fbc9a488-8cab-4d19-f992-d223f5a90bd3"
      },
      "execution_count": null,
      "outputs": [
        {
          "output_type": "stream",
          "name": "stdout",
          "text": [
            "tf.Tensor([1.], shape=(1,), dtype=float32)\n",
            "(1,)\n",
            "<dtype: 'float32'>\n"
          ]
        }
      ]
    },
    {
      "cell_type": "code",
      "source": [
        "matrix = tf.constant([[1, 2], [3, 4], [5, 6]])"
      ],
      "metadata": {
        "id": "-jAxibTtrzPh"
      },
      "execution_count": null,
      "outputs": []
    },
    {
      "cell_type": "code",
      "source": [
        "print(matrix)\n",
        "print(matrix.shape)\n",
        "print(matrix.dtype)"
      ],
      "metadata": {
        "colab": {
          "base_uri": "https://localhost:8080/"
        },
        "id": "So_nEBPGrzSb",
        "outputId": "19677a8b-38e8-4216-c302-bfdf09f13c74"
      },
      "execution_count": null,
      "outputs": [
        {
          "output_type": "stream",
          "name": "stdout",
          "text": [
            "tf.Tensor(\n",
            "[[1 2]\n",
            " [3 4]\n",
            " [5 6]], shape=(3, 2), dtype=int32)\n",
            "(3, 2)\n",
            "<dtype: 'int32'>\n"
          ]
        }
      ]
    },
    {
      "cell_type": "code",
      "source": [
        "tensor = tf.constant([\n",
        "  [[0, 1, 2, 4],\n",
        "   [5, 6, 7, 6]],\n",
        "  [[10, 11, 12, 13],\n",
        "   [15, 16, 17, 18]],\n",
        "  [[20, 21, 22, 23],\n",
        "   [25, 26, 27, 28]]])"
      ],
      "metadata": {
        "id": "fql7-UbkuOOl"
      },
      "execution_count": null,
      "outputs": []
    },
    {
      "cell_type": "code",
      "source": [
        "print(tensor)\n",
        "print(tensor.shape)\n",
        "print(tensor.dtype)"
      ],
      "metadata": {
        "colab": {
          "base_uri": "https://localhost:8080/"
        },
        "id": "WkLxXpY8uOR6",
        "outputId": "6171b2ef-19b8-4a26-e7a5-6dc8f5419af8"
      },
      "execution_count": null,
      "outputs": [
        {
          "output_type": "stream",
          "name": "stdout",
          "text": [
            "tf.Tensor(\n",
            "[[[ 0  1  2  4]\n",
            "  [ 5  6  7  6]]\n",
            "\n",
            " [[10 11 12 13]\n",
            "  [15 16 17 18]]\n",
            "\n",
            " [[20 21 22 23]\n",
            "  [25 26 27 28]]], shape=(3, 2, 4), dtype=int32)\n",
            "(3, 2, 4)\n",
            "<dtype: 'int32'>\n"
          ]
        }
      ]
    },
    {
      "cell_type": "markdown",
      "source": [
        "2. Find the shape, rank and size of the tensors you created in 1."
      ],
      "metadata": {
        "id": "MNrTSt0gyUQw"
      }
    },
    {
      "cell_type": "code",
      "source": [
        "print(tensor.shape)\n",
        "tf.size(tensor)\n",
        "tf.rank(tensor)"
      ],
      "metadata": {
        "colab": {
          "base_uri": "https://localhost:8080/"
        },
        "id": "1zSsmTPtycz7",
        "outputId": "a2bf32ac-57ea-4aa6-d13c-d7c3765638f3"
      },
      "execution_count": null,
      "outputs": [
        {
          "output_type": "stream",
          "name": "stdout",
          "text": [
            "(3, 2, 4)\n"
          ]
        },
        {
          "output_type": "execute_result",
          "data": {
            "text/plain": [
              "<tf.Tensor: shape=(), dtype=int32, numpy=3>"
            ]
          },
          "metadata": {},
          "execution_count": 24
        }
      ]
    },
    {
      "cell_type": "code",
      "source": [
        "print(matrix.shape)\n",
        "tf.rank(matrix)\n",
        "tf.size(matrix)"
      ],
      "metadata": {
        "colab": {
          "base_uri": "https://localhost:8080/"
        },
        "id": "OzjfkfgTzasE",
        "outputId": "2563428a-9182-448d-aecc-f7346684ac1c"
      },
      "execution_count": null,
      "outputs": [
        {
          "output_type": "stream",
          "name": "stdout",
          "text": [
            "(3, 2)\n"
          ]
        },
        {
          "output_type": "execute_result",
          "data": {
            "text/plain": [
              "<tf.Tensor: shape=(), dtype=int32, numpy=6>"
            ]
          },
          "metadata": {},
          "execution_count": 25
        }
      ]
    },
    {
      "cell_type": "code",
      "source": [
        "print(vector.shape)\n",
        "tf.rank(vector)\n",
        "tf.size(vector)"
      ],
      "metadata": {
        "colab": {
          "base_uri": "https://localhost:8080/"
        },
        "id": "N6-L_05dzia2",
        "outputId": "743b01dc-8986-433b-a85a-2ba0fcc00743"
      },
      "execution_count": null,
      "outputs": [
        {
          "output_type": "stream",
          "name": "stdout",
          "text": [
            "(2,)\n"
          ]
        },
        {
          "output_type": "execute_result",
          "data": {
            "text/plain": [
              "<tf.Tensor: shape=(), dtype=int32, numpy=2>"
            ]
          },
          "metadata": {},
          "execution_count": 26
        }
      ]
    },
    {
      "cell_type": "code",
      "source": [
        "print(scalar.shape)\n",
        "tf.rank(scalar)\n",
        "tf.size(scalar)"
      ],
      "metadata": {
        "colab": {
          "base_uri": "https://localhost:8080/"
        },
        "id": "Kk2RLBUk0k2w",
        "outputId": "ff2dffb8-7a16-40de-a763-ddf270b4a613"
      },
      "execution_count": null,
      "outputs": [
        {
          "output_type": "stream",
          "name": "stdout",
          "text": [
            "(1,)\n"
          ]
        },
        {
          "output_type": "execute_result",
          "data": {
            "text/plain": [
              "<tf.Tensor: shape=(), dtype=int32, numpy=1>"
            ]
          },
          "metadata": {},
          "execution_count": 27
        }
      ]
    },
    {
      "cell_type": "markdown",
      "source": [
        "\n",
        "**Broadcasting**"
      ],
      "metadata": {
        "id": "e5LPAJfI19Yi"
      }
    },
    {
      "cell_type": "code",
      "source": [
        "a = tf.constant([1,2,3,4])\n",
        "b = tf.constant([2,2,2,2])\n",
        "a*b"
      ],
      "metadata": {
        "colab": {
          "base_uri": "https://localhost:8080/"
        },
        "id": "XHpQUdLi2B_F",
        "outputId": "62aeaa1e-72e6-493b-91bb-83f8ef586367"
      },
      "execution_count": null,
      "outputs": [
        {
          "output_type": "execute_result",
          "data": {
            "text/plain": [
              "<tf.Tensor: shape=(4,), dtype=int32, numpy=array([2, 4, 6, 8], dtype=int32)>"
            ]
          },
          "metadata": {},
          "execution_count": 28
        }
      ]
    },
    {
      "cell_type": "code",
      "source": [
        "a = tf.constant([1,2,3,4])\n",
        "b = 2\n",
        "a*b"
      ],
      "metadata": {
        "colab": {
          "base_uri": "https://localhost:8080/"
        },
        "id": "QtkRmMks2SwP",
        "outputId": "50a4f12d-0a20-4b23-c34b-cff6ccbfaab2"
      },
      "execution_count": null,
      "outputs": [
        {
          "output_type": "execute_result",
          "data": {
            "text/plain": [
              "<tf.Tensor: shape=(4,), dtype=int32, numpy=array([2, 4, 6, 8], dtype=int32)>"
            ]
          },
          "metadata": {},
          "execution_count": 29
        }
      ]
    },
    {
      "cell_type": "code",
      "source": [
        "x = tf.constant([[1, 2,], [4, 5]])\n",
        "y = tf.constant([1, 2])\n",
        "print(y.shape)\n",
        "print(x * y)\n",
        "\n",
        "y = tf.constant([[1, 2]])\n",
        "print(y.shape)\n",
        "print(x * y)\n",
        "\n",
        "y = tf.constant([[[1, 2]]])\n",
        "print(y.shape)\n",
        "print(x * y)\n",
        "\n",
        "y = tf.constant([[[[1, 2]]]])\n",
        "print(y.shape)\n",
        "print(x * y)"
      ],
      "metadata": {
        "colab": {
          "base_uri": "https://localhost:8080/"
        },
        "id": "JUM9uR9c21z7",
        "outputId": "0f213b73-8534-415d-c89e-a5d8a4eceff7"
      },
      "execution_count": null,
      "outputs": [
        {
          "output_type": "stream",
          "name": "stdout",
          "text": [
            "(2,)\n",
            "tf.Tensor(\n",
            "[[ 1  4]\n",
            " [ 4 10]], shape=(2, 2), dtype=int32)\n",
            "(1, 2)\n",
            "tf.Tensor(\n",
            "[[ 1  4]\n",
            " [ 4 10]], shape=(2, 2), dtype=int32)\n",
            "(1, 1, 2)\n",
            "tf.Tensor(\n",
            "[[[ 1  4]\n",
            "  [ 4 10]]], shape=(1, 2, 2), dtype=int32)\n",
            "(1, 1, 1, 2)\n",
            "tf.Tensor(\n",
            "[[[[ 1  4]\n",
            "   [ 4 10]]]], shape=(1, 1, 2, 2), dtype=int32)\n"
          ]
        }
      ]
    },
    {
      "cell_type": "code",
      "source": [],
      "metadata": {
        "id": "8fQdWrM822Dm"
      },
      "execution_count": null,
      "outputs": []
    },
    {
      "cell_type": "markdown",
      "source": [
        "3. Create two tensors containing random values between 0 and 1 with shape [5, 300]."
      ],
      "metadata": {
        "id": "k0k04Ye30-8H"
      }
    },
    {
      "cell_type": "code",
      "source": [
        "y = tf.random.uniform(\n",
        "    shape = [5, 300],\n",
        "    minval=0,\n",
        "    maxval=1,\n",
        "    dtype=tf.dtypes.float32,\n",
        "    seed=None,\n",
        "    name=None)\n",
        "y"
      ],
      "metadata": {
        "colab": {
          "base_uri": "https://localhost:8080/"
        },
        "id": "lAq8ErCU1As6",
        "outputId": "7e46057c-c5f9-4fc0-cbf9-2b74e47338db"
      },
      "execution_count": null,
      "outputs": [
        {
          "output_type": "execute_result",
          "data": {
            "text/plain": [
              "<tf.Tensor: shape=(5, 300), dtype=float32, numpy=\n",
              "array([[0.38539553, 0.6626899 , 0.91450465, ..., 0.8423493 , 0.8839116 ,\n",
              "        0.51462686],\n",
              "       [0.5079447 , 0.29897606, 0.97816503, ..., 0.0819602 , 0.38602793,\n",
              "        0.8596821 ],\n",
              "       [0.86971235, 0.6989223 , 0.50595033, ..., 0.46205068, 0.6010846 ,\n",
              "        0.6895267 ],\n",
              "       [0.5609429 , 0.06136549, 0.3198266 , ..., 0.570806  , 0.75128007,\n",
              "        0.29475057],\n",
              "       [0.33790314, 0.8175359 , 0.6089933 , ..., 0.7967926 , 0.38774598,\n",
              "        0.5676291 ]], dtype=float32)>"
            ]
          },
          "metadata": {},
          "execution_count": 31
        }
      ]
    },
    {
      "cell_type": "code",
      "source": [
        "z = tf.random.uniform(\n",
        "    shape = [5, 300],\n",
        "    minval=0,\n",
        "    maxval=1,\n",
        "    dtype=tf.dtypes.float32,\n",
        "    seed=None,\n",
        "    name=None)\n",
        "z"
      ],
      "metadata": {
        "colab": {
          "base_uri": "https://localhost:8080/"
        },
        "id": "Kmj0Tf1j1Awu",
        "outputId": "b61648fd-fdd5-495a-f1fe-147f831e248b"
      },
      "execution_count": null,
      "outputs": [
        {
          "output_type": "execute_result",
          "data": {
            "text/plain": [
              "<tf.Tensor: shape=(5, 300), dtype=float32, numpy=\n",
              "array([[0.18231547, 0.684204  , 0.70155275, ..., 0.16689682, 0.4946941 ,\n",
              "        0.99811435],\n",
              "       [0.84432673, 0.5930232 , 0.832662  , ..., 0.5586314 , 0.21731734,\n",
              "        0.95581985],\n",
              "       [0.55854595, 0.375422  , 0.80517316, ..., 0.41443527, 0.7328558 ,\n",
              "        0.00409222],\n",
              "       [0.16902101, 0.04616416, 0.05292547, ..., 0.45150924, 0.09708345,\n",
              "        0.00453627],\n",
              "       [0.8199762 , 0.9646319 , 0.52465284, ..., 0.66197145, 0.01729846,\n",
              "        0.03100455]], dtype=float32)>"
            ]
          },
          "metadata": {},
          "execution_count": 32
        }
      ]
    },
    {
      "cell_type": "code",
      "source": [],
      "metadata": {
        "id": "TqK8DFOb6gw1"
      },
      "execution_count": null,
      "outputs": []
    },
    {
      "cell_type": "markdown",
      "source": [
        "4. Multiply the two tensors you created in 3 using matrix multiplication."
      ],
      "metadata": {
        "id": "OSKV46cB5rcT"
      }
    },
    {
      "cell_type": "code",
      "source": [
        "tf.linalg.matmul(z, tf.transpose(y), name=None)"
      ],
      "metadata": {
        "colab": {
          "base_uri": "https://localhost:8080/"
        },
        "id": "oWX3O8Q954mZ",
        "outputId": "ffb0e777-17e6-4821-dadc-b3151da4fc3e"
      },
      "execution_count": null,
      "outputs": [
        {
          "output_type": "execute_result",
          "data": {
            "text/plain": [
              "<tf.Tensor: shape=(5, 5), dtype=float32, numpy=\n",
              "array([[75.36386 , 75.67645 , 75.51323 , 76.00726 , 75.19455 ],\n",
              "       [83.01138 , 78.62268 , 85.532715, 81.30933 , 80.843956],\n",
              "       [74.20953 , 73.545296, 76.023315, 70.647285, 72.37317 ],\n",
              "       [71.540115, 67.40239 , 73.26392 , 71.40874 , 73.13165 ],\n",
              "       [77.33795 , 75.258194, 79.39847 , 74.849304, 77.45682 ]],\n",
              "      dtype=float32)>"
            ]
          },
          "metadata": {},
          "execution_count": 33
        }
      ]
    },
    {
      "cell_type": "code",
      "source": [
        "tf.math.multiply(z, y, name=None) #Returns an element-wise x * y."
      ],
      "metadata": {
        "colab": {
          "base_uri": "https://localhost:8080/"
        },
        "id": "zXu6plL67YYE",
        "outputId": "9d767f45-970a-45c9-e7d2-bd4d1318e84b"
      },
      "execution_count": null,
      "outputs": [
        {
          "output_type": "execute_result",
          "data": {
            "text/plain": [
              "<tf.Tensor: shape=(5, 300), dtype=float32, numpy=\n",
              "array([[0.07026356, 0.4534151 , 0.64157325, ..., 0.14058542, 0.43726587,\n",
              "        0.51365644],\n",
              "       [0.4288713 , 0.17729974, 0.81448084, ..., 0.04578554, 0.08389056,\n",
              "        0.82170117],\n",
              "       [0.4857743 , 0.2623908 , 0.40737763, ..., 0.1914901 , 0.44050834,\n",
              "        0.00282169],\n",
              "       [0.09481113, 0.00283289, 0.01692697, ..., 0.2577242 , 0.07293686,\n",
              "        0.00133707],\n",
              "       [0.27707255, 0.7886212 , 0.31951007, ..., 0.52745396, 0.00670741,\n",
              "        0.01759908]], dtype=float32)>"
            ]
          },
          "metadata": {},
          "execution_count": 34
        }
      ]
    },
    {
      "cell_type": "markdown",
      "source": [
        "5. Multiply the two tensors you created in 3 using dot product"
      ],
      "metadata": {
        "id": "_0V7AE1zAzfx"
      }
    },
    {
      "cell_type": "code",
      "source": [
        "vect1 = [1, 3, -5]\n",
        "vect2 = [4, -2, -1]"
      ],
      "metadata": {
        "id": "ORH3ZsReBaEU"
      },
      "execution_count": null,
      "outputs": []
    },
    {
      "cell_type": "code",
      "source": [
        "tf.tensordot(vect1, vect2, axes = 0, name=None)"
      ],
      "metadata": {
        "colab": {
          "base_uri": "https://localhost:8080/"
        },
        "id": "jk8jeFMaBqXq",
        "outputId": "015a1ce9-3f7b-41a7-d9b9-901004fbec2f"
      },
      "execution_count": null,
      "outputs": [
        {
          "output_type": "execute_result",
          "data": {
            "text/plain": [
              "<tf.Tensor: shape=(3, 3), dtype=int32, numpy=\n",
              "array([[  4,  -2,  -1],\n",
              "       [ 12,  -6,  -3],\n",
              "       [-20,  10,   5]], dtype=int32)>"
            ]
          },
          "metadata": {},
          "execution_count": 36
        }
      ]
    },
    {
      "cell_type": "code",
      "source": [
        "tf.tensordot(vect1, vect2, axes = 1 , name=None)"
      ],
      "metadata": {
        "colab": {
          "base_uri": "https://localhost:8080/"
        },
        "id": "j7lMhDciDEsF",
        "outputId": "6ec4850e-6129-4728-f703-7705997178e2"
      },
      "execution_count": null,
      "outputs": [
        {
          "output_type": "execute_result",
          "data": {
            "text/plain": [
              "<tf.Tensor: shape=(), dtype=int32, numpy=3>"
            ]
          },
          "metadata": {},
          "execution_count": 37
        }
      ]
    },
    {
      "cell_type": "code",
      "source": [
        "tf.tensordot(y, z, axes = 2 , name=None)"
      ],
      "metadata": {
        "colab": {
          "base_uri": "https://localhost:8080/"
        },
        "id": "ILWNTLk6DlEQ",
        "outputId": "41489b6a-8a67-4b58-fbb8-4e7ed60f3728"
      },
      "execution_count": null,
      "outputs": [
        {
          "output_type": "execute_result",
          "data": {
            "text/plain": [
              "<tf.Tensor: shape=(), dtype=float32, numpy=378.87564>"
            ]
          },
          "metadata": {},
          "execution_count": 38
        }
      ]
    },
    {
      "cell_type": "code",
      "source": [
        "tens_1 =tf.constant([[1,2],\n",
        "                     [3,4]])\n",
        "tens_2 =tf.constant([[4,3],\n",
        "                     [2,1]])"
      ],
      "metadata": {
        "id": "H3h2Kz9aDlNH"
      },
      "execution_count": null,
      "outputs": []
    },
    {
      "cell_type": "code",
      "source": [
        "tf.tensordot(tens_1, tens_2, axes=0) #produsul cartezian"
      ],
      "metadata": {
        "colab": {
          "base_uri": "https://localhost:8080/"
        },
        "id": "Ss7lO48KFqN_",
        "outputId": "b8fb50c6-9cb3-4c01-faee-8def19af86f1"
      },
      "execution_count": null,
      "outputs": [
        {
          "output_type": "execute_result",
          "data": {
            "text/plain": [
              "<tf.Tensor: shape=(2, 2, 2, 2), dtype=int32, numpy=\n",
              "array([[[[ 4,  3],\n",
              "         [ 2,  1]],\n",
              "\n",
              "        [[ 8,  6],\n",
              "         [ 4,  2]]],\n",
              "\n",
              "\n",
              "       [[[12,  9],\n",
              "         [ 6,  3]],\n",
              "\n",
              "        [[16, 12],\n",
              "         [ 8,  4]]]], dtype=int32)>"
            ]
          },
          "metadata": {},
          "execution_count": 40
        }
      ]
    },
    {
      "cell_type": "code",
      "source": [
        "tf.tensordot(tens_1, tens_2, axes=1)"
      ],
      "metadata": {
        "colab": {
          "base_uri": "https://localhost:8080/"
        },
        "id": "IWHNhOkoEnoz",
        "outputId": "9ce69694-7ccf-4df2-9e78-1a790745bc3c"
      },
      "execution_count": null,
      "outputs": [
        {
          "output_type": "execute_result",
          "data": {
            "text/plain": [
              "<tf.Tensor: shape=(2, 2), dtype=int32, numpy=\n",
              "array([[ 8,  5],\n",
              "       [20, 13]], dtype=int32)>"
            ]
          },
          "metadata": {},
          "execution_count": 41
        }
      ]
    },
    {
      "cell_type": "markdown",
      "source": [
        "6. Create a tensor with random values between 0 and 1 with shape [224, 224, 3].\n"
      ],
      "metadata": {
        "id": "2e4CHo8-GBLv"
      }
    },
    {
      "cell_type": "code",
      "source": [
        "tens_3 = tf.random.uniform(shape = [224, 224, 3], minval=0, maxval=1)\n",
        "print(tens_3.shape)"
      ],
      "metadata": {
        "colab": {
          "base_uri": "https://localhost:8080/"
        },
        "id": "Ycroy34XGCbK",
        "outputId": "fd99b213-6b02-48f1-c639-27af95d2b775"
      },
      "execution_count": null,
      "outputs": [
        {
          "output_type": "stream",
          "name": "stdout",
          "text": [
            "(224, 224, 3)\n"
          ]
        }
      ]
    },
    {
      "cell_type": "code",
      "source": [
        "tens_3"
      ],
      "metadata": {
        "colab": {
          "base_uri": "https://localhost:8080/"
        },
        "id": "j38FNhDmGbFv",
        "outputId": "d284a823-c16e-441c-f9b2-d2e3632acae8"
      },
      "execution_count": null,
      "outputs": [
        {
          "output_type": "execute_result",
          "data": {
            "text/plain": [
              "<tf.Tensor: shape=(224, 224, 3), dtype=float32, numpy=\n",
              "array([[[0.60084116, 0.06916499, 0.8405026 ],\n",
              "        [0.936352  , 0.42984235, 0.01740158],\n",
              "        [0.07033479, 0.24125528, 0.06741881],\n",
              "        ...,\n",
              "        [0.23205554, 0.98209846, 0.01791966],\n",
              "        [0.11217213, 0.41280723, 0.7706516 ],\n",
              "        [0.98211694, 0.10485089, 0.15930367]],\n",
              "\n",
              "       [[0.761539  , 0.03003109, 0.7865118 ],\n",
              "        [0.57328665, 0.7656796 , 0.6106714 ],\n",
              "        [0.05480742, 0.14167857, 0.75097966],\n",
              "        ...,\n",
              "        [0.333467  , 0.35611212, 0.92821085],\n",
              "        [0.21412265, 0.37499487, 0.5323415 ],\n",
              "        [0.64510775, 0.9999393 , 0.6782261 ]],\n",
              "\n",
              "       [[0.03785932, 0.77876043, 0.36642742],\n",
              "        [0.03964448, 0.57825637, 0.2864356 ],\n",
              "        [0.89726734, 0.284173  , 0.5017853 ],\n",
              "        ...,\n",
              "        [0.8453783 , 0.6999881 , 0.3011434 ],\n",
              "        [0.9262397 , 0.80928826, 0.21198809],\n",
              "        [0.6338898 , 0.22689152, 0.1430353 ]],\n",
              "\n",
              "       ...,\n",
              "\n",
              "       [[0.8979238 , 0.1307652 , 0.31665742],\n",
              "        [0.47057307, 0.9183986 , 0.65767837],\n",
              "        [0.14823711, 0.9584625 , 0.8731667 ],\n",
              "        ...,\n",
              "        [0.8570837 , 0.6206907 , 0.25701237],\n",
              "        [0.8664756 , 0.7479465 , 0.08359528],\n",
              "        [0.61909044, 0.9477743 , 0.41792607]],\n",
              "\n",
              "       [[0.9361237 , 0.32538128, 0.74850726],\n",
              "        [0.57612956, 0.32047832, 0.71590376],\n",
              "        [0.05746388, 0.6679356 , 0.29159033],\n",
              "        ...,\n",
              "        [0.51748526, 0.4799683 , 0.9993248 ],\n",
              "        [0.502566  , 0.573146  , 0.15007794],\n",
              "        [0.14302325, 0.37416148, 0.8997263 ]],\n",
              "\n",
              "       [[0.7198937 , 0.93130815, 0.834262  ],\n",
              "        [0.08122325, 0.06618559, 0.32089233],\n",
              "        [0.6148317 , 0.6920972 , 0.2484771 ],\n",
              "        ...,\n",
              "        [0.9518405 , 0.04591799, 0.6283487 ],\n",
              "        [0.53804266, 0.6910063 , 0.12128818],\n",
              "        [0.16969776, 0.7960342 , 0.4555323 ]]], dtype=float32)>"
            ]
          },
          "metadata": {},
          "execution_count": 43
        }
      ]
    },
    {
      "cell_type": "markdown",
      "source": [
        "7. Find the min and max values of the tensor you created in 6."
      ],
      "metadata": {
        "id": "4mfQ_oKfGfzL"
      }
    },
    {
      "cell_type": "code",
      "source": [
        "tf.reduce_max(tens_3)"
      ],
      "metadata": {
        "colab": {
          "base_uri": "https://localhost:8080/"
        },
        "id": "ttN1sP2lGhKa",
        "outputId": "f82e55d7-391a-41ad-ca28-72a443999736"
      },
      "execution_count": null,
      "outputs": [
        {
          "output_type": "execute_result",
          "data": {
            "text/plain": [
              "<tf.Tensor: shape=(), dtype=float32, numpy=0.9999969>"
            ]
          },
          "metadata": {},
          "execution_count": 44
        }
      ]
    },
    {
      "cell_type": "code",
      "source": [
        "tf.reduce_min(tens_3)"
      ],
      "metadata": {
        "colab": {
          "base_uri": "https://localhost:8080/"
        },
        "id": "YWduKO0kHIW3",
        "outputId": "2c1135ad-8a2a-4c8c-e67d-25c5480fb233"
      },
      "execution_count": null,
      "outputs": [
        {
          "output_type": "execute_result",
          "data": {
            "text/plain": [
              "<tf.Tensor: shape=(), dtype=float32, numpy=2.4199486e-05>"
            ]
          },
          "metadata": {},
          "execution_count": 45
        }
      ]
    },
    {
      "cell_type": "code",
      "source": [],
      "metadata": {
        "id": "OM4VYaqUIt2t"
      },
      "execution_count": null,
      "outputs": []
    },
    {
      "cell_type": "markdown",
      "source": [
        "8. Created a tensor with random values of shape [1, 224, 224, 3] then squeeze it to change the shape to [224, 224, 3].\n"
      ],
      "metadata": {
        "id": "wrTE4OsZIvr_"
      }
    },
    {
      "cell_type": "code",
      "source": [
        "tens_4 = tf.random.uniform(shape = [1, 224, 224, 3], minval=1, maxval=9)\n",
        "print(tens_4.shape)"
      ],
      "metadata": {
        "colab": {
          "base_uri": "https://localhost:8080/"
        },
        "id": "T0cGfWwGIJCp",
        "outputId": "a6bdf962-c632-4e02-f50a-11da6db4e372"
      },
      "execution_count": null,
      "outputs": [
        {
          "output_type": "stream",
          "name": "stdout",
          "text": [
            "(1, 224, 224, 3)\n"
          ]
        }
      ]
    },
    {
      "cell_type": "code",
      "source": [
        "tens_5 =  tf.reshape(tens_4,  [224, 224, 3])\n",
        "print(tens_5.shape)"
      ],
      "metadata": {
        "colab": {
          "base_uri": "https://localhost:8080/"
        },
        "id": "lf9Iz_AAHIaI",
        "outputId": "55609170-b535-42c7-e386-5f9c82a7d76e"
      },
      "execution_count": null,
      "outputs": [
        {
          "output_type": "stream",
          "name": "stdout",
          "text": [
            "(224, 224, 3)\n"
          ]
        }
      ]
    },
    {
      "cell_type": "code",
      "source": [
        "tens_6 =  tf.reshape(tens_5, [1, 224, 1, 224, 1, 3])\n",
        "print(tens_6.shape)"
      ],
      "metadata": {
        "colab": {
          "base_uri": "https://localhost:8080/"
        },
        "id": "FMljcNMhJlzg",
        "outputId": "fb36e878-c360-4413-c8f5-3a2884eae2c6"
      },
      "execution_count": null,
      "outputs": [
        {
          "output_type": "stream",
          "name": "stdout",
          "text": [
            "(1, 224, 1, 224, 1, 3)\n"
          ]
        }
      ]
    },
    {
      "cell_type": "code",
      "source": [
        "tens_7 = tf.squeeze(tens_6) # elimina dim. de 1\n",
        "print(tens_7.shape)"
      ],
      "metadata": {
        "colab": {
          "base_uri": "https://localhost:8080/"
        },
        "id": "XGNfdv44KE3E",
        "outputId": "993180ef-c14b-43c5-8a1b-80bc51253f6b"
      },
      "execution_count": null,
      "outputs": [
        {
          "output_type": "stream",
          "name": "stdout",
          "text": [
            "(224, 224, 3)\n"
          ]
        }
      ]
    },
    {
      "cell_type": "markdown",
      "source": [
        "9. Create a tensor with shape [10] using your own choice of values, then find the index which has the maximum value."
      ],
      "metadata": {
        "id": "ryVFHJUTKwUg"
      }
    },
    {
      "cell_type": "code",
      "source": [
        "tens_8 = tf.random.uniform(shape = [10], minval=1, maxval=9, dtype=tf.dtypes.int32)\n",
        "print(tens_8.shape)"
      ],
      "metadata": {
        "colab": {
          "base_uri": "https://localhost:8080/"
        },
        "id": "pnE3eoowKxlv",
        "outputId": "bfa0597e-d47e-4a38-e872-01d570cb7f7d"
      },
      "execution_count": null,
      "outputs": [
        {
          "output_type": "stream",
          "name": "stdout",
          "text": [
            "(10,)\n"
          ]
        }
      ]
    },
    {
      "cell_type": "code",
      "source": [
        "tens_8"
      ],
      "metadata": {
        "colab": {
          "base_uri": "https://localhost:8080/"
        },
        "id": "Dpki891_K9Mn",
        "outputId": "23c5aabf-ea39-479c-c8f3-6987bdef1c90"
      },
      "execution_count": null,
      "outputs": [
        {
          "output_type": "execute_result",
          "data": {
            "text/plain": [
              "<tf.Tensor: shape=(10,), dtype=int32, numpy=array([5, 1, 8, 7, 6, 8, 3, 2, 2, 8], dtype=int32)>"
            ]
          },
          "metadata": {},
          "execution_count": 51
        }
      ]
    },
    {
      "cell_type": "code",
      "source": [
        "tf.argmax(tens_8) "
      ],
      "metadata": {
        "colab": {
          "base_uri": "https://localhost:8080/"
        },
        "id": "2h2ssoPXLDMk",
        "outputId": "5eacb3bf-4e8b-46f6-e33e-3e7f7c9ab6a5"
      },
      "execution_count": null,
      "outputs": [
        {
          "output_type": "execute_result",
          "data": {
            "text/plain": [
              "<tf.Tensor: shape=(), dtype=int64, numpy=2>"
            ]
          },
          "metadata": {},
          "execution_count": 52
        }
      ]
    },
    {
      "cell_type": "markdown",
      "source": [
        "10. One-hot encode the tensor you created in 9."
      ],
      "metadata": {
        "id": "n2oWcOenuHMU"
      }
    },
    {
      "cell_type": "code",
      "source": [
        "ohe = tf.one_hot(tens_8, 10)\n",
        "ohe "
      ],
      "metadata": {
        "colab": {
          "base_uri": "https://localhost:8080/"
        },
        "id": "iToM9iJjtiad",
        "outputId": "2d0c8d15-ff0f-403a-8828-7e7d4e4e6bd1"
      },
      "execution_count": null,
      "outputs": [
        {
          "output_type": "execute_result",
          "data": {
            "text/plain": [
              "<tf.Tensor: shape=(10, 10), dtype=float32, numpy=\n",
              "array([[0., 0., 0., 0., 0., 1., 0., 0., 0., 0.],\n",
              "       [0., 1., 0., 0., 0., 0., 0., 0., 0., 0.],\n",
              "       [0., 0., 0., 0., 0., 0., 0., 0., 1., 0.],\n",
              "       [0., 0., 0., 0., 0., 0., 0., 1., 0., 0.],\n",
              "       [0., 0., 0., 0., 0., 0., 1., 0., 0., 0.],\n",
              "       [0., 0., 0., 0., 0., 0., 0., 0., 1., 0.],\n",
              "       [0., 0., 0., 1., 0., 0., 0., 0., 0., 0.],\n",
              "       [0., 0., 1., 0., 0., 0., 0., 0., 0., 0.],\n",
              "       [0., 0., 1., 0., 0., 0., 0., 0., 0., 0.],\n",
              "       [0., 0., 0., 0., 0., 0., 0., 0., 1., 0.]], dtype=float32)>"
            ]
          },
          "metadata": {},
          "execution_count": 58
        }
      ]
    },
    {
      "cell_type": "code",
      "source": [],
      "metadata": {
        "id": "sjGGkyOttieO"
      },
      "execution_count": null,
      "outputs": []
    },
    {
      "cell_type": "code",
      "source": [],
      "metadata": {
        "id": "HFZBwQTQuqOM"
      },
      "execution_count": null,
      "outputs": []
    },
    {
      "cell_type": "code",
      "source": [],
      "metadata": {
        "id": "wL8NOdFatihr"
      },
      "execution_count": null,
      "outputs": []
    },
    {
      "cell_type": "code",
      "source": [],
      "metadata": {
        "id": "wjCO7okqtikx"
      },
      "execution_count": null,
      "outputs": []
    },
    {
      "cell_type": "code",
      "source": [],
      "metadata": {
        "id": "2dvKxGcotioQ"
      },
      "execution_count": null,
      "outputs": []
    },
    {
      "cell_type": "code",
      "source": [],
      "metadata": {
        "id": "W31jlOb4tiri"
      },
      "execution_count": null,
      "outputs": []
    },
    {
      "cell_type": "code",
      "source": [],
      "metadata": {
        "id": "yYz4xU1dtiu9"
      },
      "execution_count": null,
      "outputs": []
    },
    {
      "cell_type": "code",
      "source": [],
      "metadata": {
        "id": "YyEXkZ4Btiy6"
      },
      "execution_count": null,
      "outputs": []
    },
    {
      "cell_type": "code",
      "source": [],
      "metadata": {
        "id": "KBXdiwcvti2Z"
      },
      "execution_count": null,
      "outputs": []
    }
  ]
}