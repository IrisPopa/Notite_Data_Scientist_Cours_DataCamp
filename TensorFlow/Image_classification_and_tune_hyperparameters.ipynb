{
 "cells": [
  {
   "cell_type": "markdown",
   "metadata": {
    "id": "gnV2h88RmKY0"
   },
   "source": [
    "## 1. Basic classification: Classify images of clothing\n",
    "https://www.tensorflow.org/tutorials/keras/classification"
   ]
  },
  {
   "cell_type": "markdown",
   "metadata": {
    "id": "H6Qdl0odmf1W"
   },
   "source": [
    "This guide trains a neural network model to classify images of clothing, like sneakers and shirts. \n"
   ]
  },
  {
   "cell_type": "code",
   "execution_count": 1,
   "metadata": {},
   "outputs": [
    {
     "name": "stdout",
     "output_type": "stream",
     "text": [
      "Requirement already satisfied: tensorflow in c:\\users\\valen\\appdata\\local\\programs\\python\\python310\\lib\\site-packages (2.11.0)\n",
      "Requirement already satisfied: tensorflow-intel==2.11.0 in c:\\users\\valen\\appdata\\local\\programs\\python\\python310\\lib\\site-packages (from tensorflow) (2.11.0)\n",
      "Requirement already satisfied: packaging in c:\\users\\valen\\appdata\\local\\programs\\python\\python310\\lib\\site-packages (from tensorflow-intel==2.11.0->tensorflow) (21.3)\n",
      "Requirement already satisfied: tensorflow-io-gcs-filesystem>=0.23.1 in c:\\users\\valen\\appdata\\local\\programs\\python\\python310\\lib\\site-packages (from tensorflow-intel==2.11.0->tensorflow) (0.30.0)\n",
      "Requirement already satisfied: flatbuffers>=2.0 in c:\\users\\valen\\appdata\\local\\programs\\python\\python310\\lib\\site-packages (from tensorflow-intel==2.11.0->tensorflow) (23.1.21)\n",
      "Requirement already satisfied: h5py>=2.9.0 in c:\\users\\valen\\appdata\\local\\programs\\python\\python310\\lib\\site-packages (from tensorflow-intel==2.11.0->tensorflow) (3.8.0)\n",
      "Requirement already satisfied: six>=1.12.0 in c:\\users\\valen\\appdata\\local\\programs\\python\\python310\\lib\\site-packages (from tensorflow-intel==2.11.0->tensorflow) (1.16.0)\n",
      "Requirement already satisfied: astunparse>=1.6.0 in c:\\users\\valen\\appdata\\local\\programs\\python\\python310\\lib\\site-packages (from tensorflow-intel==2.11.0->tensorflow) (1.6.3)\n",
      "Requirement already satisfied: tensorflow-estimator<2.12,>=2.11.0 in c:\\users\\valen\\appdata\\local\\programs\\python\\python310\\lib\\site-packages (from tensorflow-intel==2.11.0->tensorflow) (2.11.0)\n",
      "Requirement already satisfied: protobuf<3.20,>=3.9.2 in c:\\users\\valen\\appdata\\local\\programs\\python\\python310\\lib\\site-packages (from tensorflow-intel==2.11.0->tensorflow) (3.19.6)\n",
      "Requirement already satisfied: absl-py>=1.0.0 in c:\\users\\valen\\appdata\\local\\programs\\python\\python310\\lib\\site-packages (from tensorflow-intel==2.11.0->tensorflow) (1.4.0)\n",
      "Requirement already satisfied: libclang>=13.0.0 in c:\\users\\valen\\appdata\\local\\programs\\python\\python310\\lib\\site-packages (from tensorflow-intel==2.11.0->tensorflow) (15.0.6.1)\n",
      "Requirement already satisfied: tensorboard<2.12,>=2.11 in c:\\users\\valen\\appdata\\local\\programs\\python\\python310\\lib\\site-packages (from tensorflow-intel==2.11.0->tensorflow) (2.11.2)\n",
      "Requirement already satisfied: keras<2.12,>=2.11.0 in c:\\users\\valen\\appdata\\local\\programs\\python\\python310\\lib\\site-packages (from tensorflow-intel==2.11.0->tensorflow) (2.11.0)\n",
      "Requirement already satisfied: google-pasta>=0.1.1 in c:\\users\\valen\\appdata\\local\\programs\\python\\python310\\lib\\site-packages (from tensorflow-intel==2.11.0->tensorflow) (0.2.0)\n",
      "Requirement already satisfied: termcolor>=1.1.0 in c:\\users\\valen\\appdata\\local\\programs\\python\\python310\\lib\\site-packages (from tensorflow-intel==2.11.0->tensorflow) (2.2.0)\n",
      "Requirement already satisfied: numpy>=1.20 in c:\\users\\valen\\appdata\\local\\programs\\python\\python310\\lib\\site-packages (from tensorflow-intel==2.11.0->tensorflow) (1.23.1)\n",
      "Requirement already satisfied: wrapt>=1.11.0 in c:\\users\\valen\\appdata\\local\\programs\\python\\python310\\lib\\site-packages (from tensorflow-intel==2.11.0->tensorflow) (1.14.1)\n",
      "Requirement already satisfied: setuptools in c:\\users\\valen\\appdata\\local\\programs\\python\\python310\\lib\\site-packages (from tensorflow-intel==2.11.0->tensorflow) (58.1.0)\n",
      "Requirement already satisfied: typing-extensions>=3.6.6 in c:\\users\\valen\\appdata\\local\\programs\\python\\python310\\lib\\site-packages (from tensorflow-intel==2.11.0->tensorflow) (4.3.0)\n",
      "Requirement already satisfied: grpcio<2.0,>=1.24.3 in c:\\users\\valen\\appdata\\local\\programs\\python\\python310\\lib\\site-packages (from tensorflow-intel==2.11.0->tensorflow) (1.51.1)\n",
      "Requirement already satisfied: gast<=0.4.0,>=0.2.1 in c:\\users\\valen\\appdata\\local\\programs\\python\\python310\\lib\\site-packages (from tensorflow-intel==2.11.0->tensorflow) (0.4.0)\n",
      "Requirement already satisfied: opt-einsum>=2.3.2 in c:\\users\\valen\\appdata\\local\\programs\\python\\python310\\lib\\site-packages (from tensorflow-intel==2.11.0->tensorflow) (3.3.0)\n",
      "Requirement already satisfied: wheel<1.0,>=0.23.0 in c:\\users\\valen\\appdata\\local\\programs\\python\\python310\\lib\\site-packages (from astunparse>=1.6.0->tensorflow-intel==2.11.0->tensorflow) (0.38.4)\n",
      "Requirement already satisfied: markdown>=2.6.8 in c:\\users\\valen\\appdata\\local\\programs\\python\\python310\\lib\\site-packages (from tensorboard<2.12,>=2.11->tensorflow-intel==2.11.0->tensorflow) (3.4.1)\n",
      "Requirement already satisfied: tensorboard-data-server<0.7.0,>=0.6.0 in c:\\users\\valen\\appdata\\local\\programs\\python\\python310\\lib\\site-packages (from tensorboard<2.12,>=2.11->tensorflow-intel==2.11.0->tensorflow) (0.6.1)\n",
      "Requirement already satisfied: google-auth-oauthlib<0.5,>=0.4.1 in c:\\users\\valen\\appdata\\local\\programs\\python\\python310\\lib\\site-packages (from tensorboard<2.12,>=2.11->tensorflow-intel==2.11.0->tensorflow) (0.4.6)\n",
      "Requirement already satisfied: tensorboard-plugin-wit>=1.6.0 in c:\\users\\valen\\appdata\\local\\programs\\python\\python310\\lib\\site-packages (from tensorboard<2.12,>=2.11->tensorflow-intel==2.11.0->tensorflow) (1.8.1)\n",
      "Requirement already satisfied: requests<3,>=2.21.0 in c:\\users\\valen\\appdata\\local\\programs\\python\\python310\\lib\\site-packages (from tensorboard<2.12,>=2.11->tensorflow-intel==2.11.0->tensorflow) (2.28.1)\n",
      "Requirement already satisfied: werkzeug>=1.0.1 in c:\\users\\valen\\appdata\\local\\programs\\python\\python310\\lib\\site-packages (from tensorboard<2.12,>=2.11->tensorflow-intel==2.11.0->tensorflow) (2.2.2)\n",
      "Requirement already satisfied: google-auth<3,>=1.6.3 in c:\\users\\valen\\appdata\\local\\programs\\python\\python310\\lib\\site-packages (from tensorboard<2.12,>=2.11->tensorflow-intel==2.11.0->tensorflow) (2.16.0)\n",
      "Requirement already satisfied: pyparsing!=3.0.5,>=2.0.2 in c:\\users\\valen\\appdata\\local\\programs\\python\\python310\\lib\\site-packages (from packaging->tensorflow-intel==2.11.0->tensorflow) (3.0.9)\n",
      "Requirement already satisfied: rsa<5,>=3.1.4 in c:\\users\\valen\\appdata\\local\\programs\\python\\python310\\lib\\site-packages (from google-auth<3,>=1.6.3->tensorboard<2.12,>=2.11->tensorflow-intel==2.11.0->tensorflow) (4.9)\n",
      "Requirement already satisfied: pyasn1-modules>=0.2.1 in c:\\users\\valen\\appdata\\local\\programs\\python\\python310\\lib\\site-packages (from google-auth<3,>=1.6.3->tensorboard<2.12,>=2.11->tensorflow-intel==2.11.0->tensorflow) (0.2.8)\n",
      "Requirement already satisfied: cachetools<6.0,>=2.0.0 in c:\\users\\valen\\appdata\\local\\programs\\python\\python310\\lib\\site-packages (from google-auth<3,>=1.6.3->tensorboard<2.12,>=2.11->tensorflow-intel==2.11.0->tensorflow) (5.2.0)\n",
      "Requirement already satisfied: requests-oauthlib>=0.7.0 in c:\\users\\valen\\appdata\\local\\programs\\python\\python310\\lib\\site-packages (from google-auth-oauthlib<0.5,>=0.4.1->tensorboard<2.12,>=2.11->tensorflow-intel==2.11.0->tensorflow) (1.3.1)\n",
      "Requirement already satisfied: charset-normalizer<3,>=2 in c:\\users\\valen\\appdata\\local\\programs\\python\\python310\\lib\\site-packages (from requests<3,>=2.21.0->tensorboard<2.12,>=2.11->tensorflow-intel==2.11.0->tensorflow) (2.1.0)\n",
      "Requirement already satisfied: certifi>=2017.4.17 in c:\\users\\valen\\appdata\\local\\programs\\python\\python310\\lib\\site-packages (from requests<3,>=2.21.0->tensorboard<2.12,>=2.11->tensorflow-intel==2.11.0->tensorflow) (2022.6.15)\n",
      "Requirement already satisfied: idna<4,>=2.5 in c:\\users\\valen\\appdata\\local\\programs\\python\\python310\\lib\\site-packages (from requests<3,>=2.21.0->tensorboard<2.12,>=2.11->tensorflow-intel==2.11.0->tensorflow) (3.3)\n",
      "Requirement already satisfied: urllib3<1.27,>=1.21.1 in c:\\users\\valen\\appdata\\local\\programs\\python\\python310\\lib\\site-packages (from requests<3,>=2.21.0->tensorboard<2.12,>=2.11->tensorflow-intel==2.11.0->tensorflow) (1.26.11)\n",
      "Requirement already satisfied: MarkupSafe>=2.1.1 in c:\\users\\valen\\appdata\\local\\programs\\python\\python310\\lib\\site-packages (from werkzeug>=1.0.1->tensorboard<2.12,>=2.11->tensorflow-intel==2.11.0->tensorflow) (2.1.1)\n",
      "Requirement already satisfied: pyasn1<0.5.0,>=0.4.6 in c:\\users\\valen\\appdata\\local\\programs\\python\\python310\\lib\\site-packages (from pyasn1-modules>=0.2.1->google-auth<3,>=1.6.3->tensorboard<2.12,>=2.11->tensorflow-intel==2.11.0->tensorflow) (0.4.8)\n",
      "Requirement already satisfied: oauthlib>=3.0.0 in c:\\users\\valen\\appdata\\local\\programs\\python\\python310\\lib\\site-packages (from requests-oauthlib>=0.7.0->google-auth-oauthlib<0.5,>=0.4.1->tensorboard<2.12,>=2.11->tensorflow-intel==2.11.0->tensorflow) (3.2.2)\n"
     ]
    },
    {
     "name": "stderr",
     "output_type": "stream",
     "text": [
      "WARNING: Ignoring invalid distribution -ip (c:\\users\\valen\\appdata\\local\\programs\\python\\python310\\lib\\site-packages)\n",
      "WARNING: Ignoring invalid distribution -ip (c:\\users\\valen\\appdata\\local\\programs\\python\\python310\\lib\\site-packages)\n",
      "WARNING: Ignoring invalid distribution -ip (c:\\users\\valen\\appdata\\local\\programs\\python\\python310\\lib\\site-packages)\n",
      "WARNING: Ignoring invalid distribution -ip (c:\\users\\valen\\appdata\\local\\programs\\python\\python310\\lib\\site-packages)\n",
      "WARNING: Ignoring invalid distribution -ip (c:\\users\\valen\\appdata\\local\\programs\\python\\python310\\lib\\site-packages)\n",
      "WARNING: Ignoring invalid distribution -ip (c:\\users\\valen\\appdata\\local\\programs\\python\\python310\\lib\\site-packages)\n"
     ]
    }
   ],
   "source": [
    "import sys\n",
    "!{sys.executable} -m pip install tensorflow"
   ]
  },
  {
   "cell_type": "code",
   "execution_count": 2,
   "metadata": {
    "colab": {
     "base_uri": "https://localhost:8080/"
    },
    "id": "xBP251wnniWQ",
    "outputId": "93aa6d21-d3f2-4179-9511-0d585c31f2ac"
   },
   "outputs": [
    {
     "name": "stdout",
     "output_type": "stream",
     "text": [
      "2.11.0\n"
     ]
    }
   ],
   "source": [
    "import tensorflow as tf, keras\n",
    "import numpy as np\n",
    "import matplotlib.pyplot as plt\n",
    "print(tf.__version__)"
   ]
  },
  {
   "cell_type": "markdown",
   "metadata": {
    "id": "p1aK3-lbnmMM"
   },
   "source": [
    "\n",
    "Basic classification: Classify images of clothing\n",
    "This guide uses the Fashion MNIST dataset which contains 70,000 grayscale images in 10 categories. The images show individual articles of clothing at low resolution (28 by 28 pixels). Fashion MNIST is intended as a drop-in replacement for the classic MNIST dataset—often used as the \"Hello, World\" of machine learning programs for computer vision. The MNIST dataset contains images of handwritten digits (0, 1, 2, etc.) in a format identical to that of the articles of clothing you'll use here. This guide uses Fashion MNIST for variety, and because it's a slightly more challenging problem than regular MNIST. Both datasets are relatively small and are used to verify that an algorithm works as expected. They're good starting points to test and debug code.\n",
    "Here, 60,000 images are used to train the network and 10,000 images to evaluate how accurately the network learned to classify images. You can access the Fashion MNIST directly from TensorFlow. Import and load the Fashion MNIST data directly from TensorFlow."
   ]
  },
  {
   "cell_type": "code",
   "execution_count": 3,
   "metadata": {
    "colab": {
     "base_uri": "https://localhost:8080/"
    },
    "id": "i5Ktzf3CnM2V",
    "outputId": "d7161ed3-eb19-4255-e114-a424dd8256aa"
   },
   "outputs": [],
   "source": [
    "# Import the Fashion MNIST data set\n",
    "fashion_mnist = tf.keras.datasets.fashion_mnist\n",
    "\n",
    "(train_images, train_labels), (test_images, test_labels) = fashion_mnist.load_data()"
   ]
  },
  {
   "cell_type": "markdown",
   "metadata": {
    "id": "Jn6mN7QTpNXd"
   },
   "source": [
    "The images are 28x28 NumPy arrays, with pixel values ranging from 0 to 255. The labels are an array of integers, ranging from 0 to 9. These correspond to the class of clothing the image represents. Each image is mapped to a single label. Since the class names are not included with the dataset, we store them here to use later when plotting the images."
   ]
  },
  {
   "cell_type": "code",
   "execution_count": 4,
   "metadata": {
    "id": "IXCS9hFzloC4"
   },
   "outputs": [],
   "source": [
    "class_names = ['T-shirt/top', 'Trouser', 'Pullover', 'Dress', 'Coat',\n",
    "               'Sandal', 'Shirt', 'Sneaker', 'Bag', 'Ankle boot']"
   ]
  },
  {
   "cell_type": "markdown",
   "metadata": {
    "id": "gLiZZZlMrEJv"
   },
   "source": [
    "# Explore the data. \n"
   ]
  },
  {
   "cell_type": "code",
   "execution_count": 5,
   "metadata": {
    "colab": {
     "base_uri": "https://localhost:8080/"
    },
    "id": "5AYG6b6AloGj",
    "outputId": "c659ad72-cbb5-4466-84ae-a0266009fe3f"
   },
   "outputs": [
    {
     "data": {
      "text/plain": [
       "((60000, 28, 28), 60000)"
      ]
     },
     "execution_count": 5,
     "metadata": {},
     "output_type": "execute_result"
    }
   ],
   "source": [
    "# The following shows there are 60,000 images in the training set, with each image represented as 28 x 28 pixels. \n",
    "# Likewise , there a re 60.000 labels in the trainig set.\n",
    "train_images.shape, len(train_labels)"
   ]
  },
  {
   "cell_type": "code",
   "execution_count": 6,
   "metadata": {
    "colab": {
     "base_uri": "https://localhost:8080/"
    },
    "id": "e3C6KVS0qDnc",
    "outputId": "89d4fa60-23aa-44c3-e599-cdde0cb2ffe6"
   },
   "outputs": [
    {
     "data": {
      "text/plain": [
       "array([0, 1, 2, 3, 4, 5, 6, 7, 8, 9], dtype=uint8)"
      ]
     },
     "execution_count": 6,
     "metadata": {},
     "output_type": "execute_result"
    }
   ],
   "source": [
    "np.unique(train_labels)"
   ]
  },
  {
   "cell_type": "code",
   "execution_count": 7,
   "metadata": {
    "colab": {
     "base_uri": "https://localhost:8080/"
    },
    "id": "zpq3nzbDqr9j",
    "outputId": "2e230bb2-b9e6-41a2-af1b-17c59d1a6c45"
   },
   "outputs": [
    {
     "data": {
      "text/plain": [
       "((10000, 28, 28), 10000)"
      ]
     },
     "execution_count": 7,
     "metadata": {},
     "output_type": "execute_result"
    }
   ],
   "source": [
    "test_images.shape, len(test_labels)"
   ]
  },
  {
   "cell_type": "markdown",
   "metadata": {
    "id": "UYS2eorZq-bl"
   },
   "source": [
    "# Preprocesing the data"
   ]
  },
  {
   "cell_type": "code",
   "execution_count": 8,
   "metadata": {
    "colab": {
     "base_uri": "https://localhost:8080/",
     "height": 265
    },
    "id": "was63EIWq8BZ",
    "outputId": "b12fcf7a-0b06-4e9d-c1e4-090a319edb71"
   },
   "outputs": [
    {
     "data": {
      "image/png": "[encoded data removed]",
      "text/plain": [
       "<Figure size 432x288 with 2 Axes>"
      ]
     },
     "metadata": {
      "needs_background": "light"
     },
     "output_type": "display_data"
    }
   ],
   "source": [
    "#  If you inspect the first image in the training set, you will see that the pixel values fall in the range of 0 to 255.\n",
    "plt.figure()\n",
    "plt.imshow(train_images[0])\n",
    "plt.colorbar()\n",
    "plt.grid(False)\n",
    "plt.show()"
   ]
  },
  {
   "cell_type": "code",
   "execution_count": 9,
   "metadata": {
    "id": "Wu8ceY7Kq0zy"
   },
   "outputs": [],
   "source": [
    "# Scale these values to a range of 0 to 1 before feeding them to the neural network model. \n",
    "# To do so, divide the values by 255.\n",
    "#  It's important that the training set and the testing set be preprocessed in the same way.\n",
    "train_images = train_images/255.0\n",
    "test_images = test_images /255.0"
   ]
  },
  {
   "cell_type": "code",
   "execution_count": 10,
   "metadata": {
    "colab": {
     "base_uri": "https://localhost:8080/",
     "height": 1000
    },
    "id": "yWFXX7BRsY7J",
    "outputId": "216be5e5-932c-45b6-bad4-ed0187ac578d"
   },
   "outputs": [
    {
     "data": {
      "image/png": "[encoded data removed]",
      "text/plain": [
       "<Figure size 720x720 with 1 Axes>"
      ]
     },
     "metadata": {},
     "output_type": "display_data"
    },
    {
     "data": {
      "image/png": "[encoded data removed]",
      "text/plain": [
       "<Figure size 432x288 with 1 Axes>"
      ]
     },
     "metadata": {},
     "output_type": "display_data"
    },
    {
     "data": {
      "image/png": "[encoded data removed]",
      "text/plain": [
       "<Figure size 432x288 with 1 Axes>"
      ]
     },
     "metadata": {},
     "output_type": "display_data"
    },
    {
     "data": {
      "image/png": "[encoded data removed]",
      "text/plain": [
       "<Figure size 432x288 with 1 Axes>"
      ]
     },
     "metadata": {},
     "output_type": "display_data"
    },
    {
     "data": {
      "image/png": "[encoded data removed]",
      "text/plain": [
       "<Figure size 432x288 with 1 Axes>"
      ]
     },
     "metadata": {},
     "output_type": "display_data"
    },
    {
     "data": {
      "image/png": "[encoded data removed]",
      "text/plain": [
       "<Figure size 432x288 with 1 Axes>"
      ]
     },
     "metadata": {},
     "output_type": "display_data"
    },
    {
     "data": {
      "image/png": "[encoded data removed]",
      "text/plain": [
       "<Figure size 432x288 with 1 Axes>"
      ]
     },
     "metadata": {},
     "output_type": "display_data"
    },
    {
     "data": {
      "image/png": "[encoded data removed]",
      "text/plain": [
       "<Figure size 432x288 with 1 Axes>"
      ]
     },
     "metadata": {},
     "output_type": "display_data"
    },
    {
     "data": {
      "image/png": "[encoded data removed]",
      "text/plain": [
       "<Figure size 432x288 with 1 Axes>"
      ]
     },
     "metadata": {},
     "output_type": "display_data"
    },
    {
     "data": {
      "image/png": "[encoded data removed]",
      "text/plain": [
       "<Figure size 432x288 with 1 Axes>"
      ]
     },
     "metadata": {},
     "output_type": "display_data"
    },
    {
     "data": {
      "image/png": "[encoded data removed]",
      "text/plain": [
       "<Figure size 432x288 with 1 Axes>"
      ]
     },
     "metadata": {},
     "output_type": "display_data"
    },
    {
     "data": {
      "image/png": "[encoded data removed]",
      "text/plain": [
       "<Figure size 432x288 with 1 Axes>"
      ]
     },
     "metadata": {},
     "output_type": "display_data"
    },
    {
     "data": {
      "image/png": "[encoded data removed]",
      "text/plain": [
       "<Figure size 432x288 with 1 Axes>"
      ]
     },
     "metadata": {},
     "output_type": "display_data"
    },
    {
     "data": {
      "image/png": "[encoded data removed]",
      "text/plain": [
       "<Figure size 432x288 with 1 Axes>"
      ]
     },
     "metadata": {},
     "output_type": "display_data"
    },
    {
     "data": {
      "image/png": "[encoded data removed]",
      "text/plain": [
       "<Figure size 432x288 with 1 Axes>"
      ]
     },
     "metadata": {},
     "output_type": "display_data"
    },
    {
     "data": {
      "image/png": "[encoded data removed]",
      "text/plain": [
       "<Figure size 432x288 with 1 Axes>"
      ]
     },
     "metadata": {},
     "output_type": "display_data"
    },
    {
     "data": {
      "image/png": "[encoded data removed]",
      "text/plain": [
       "<Figure size 432x288 with 1 Axes>"
      ]
     },
     "metadata": {},
     "output_type": "display_data"
    },
    {
     "data": {
      "image/png": "[encoded data removed]",
      "text/plain": [
       "<Figure size 432x288 with 1 Axes>"
      ]
     },
     "metadata": {},
     "output_type": "display_data"
    },
    {
     "data": {
      "image/png": "[encoded data removed]",
      "text/plain": [
       "<Figure size 432x288 with 1 Axes>"
      ]
     },
     "metadata": {},
     "output_type": "display_data"
    },
    {
     "data": {
      "image/png": "[encoded data removed]",
      "text/plain": [
       "<Figure size 432x288 with 1 Axes>"
      ]
     },
     "metadata": {},
     "output_type": "display_data"
    },
    {
     "data": {
      "image/png": "[encoded data removed]",
      "text/plain": [
       "<Figure size 432x288 with 1 Axes>"
      ]
     },
     "metadata": {},
     "output_type": "display_data"
    },
    {
     "data": {
      "image/png": "[encoded data removed]",
      "text/plain": [
       "<Figure size 432x288 with 1 Axes>"
      ]
     },
     "metadata": {},
     "output_type": "display_data"
    },
    {
     "data": {
      "image/png": "[encoded data removed]",
      "text/plain": [
       "<Figure size 432x288 with 1 Axes>"
      ]
     },
     "metadata": {},
     "output_type": "display_data"
    },
    {
     "data": {
      "image/png": "[encoded data removed]",
      "text/plain": [
       "<Figure size 432x288 with 1 Axes>"
      ]
     },
     "metadata": {},
     "output_type": "display_data"
    },
    {
     "data": {
      "image/png": "[encoded data removed]",
      "text/plain": [
       "<Figure size 432x288 with 1 Axes>"
      ]
     },
     "metadata": {},
     "output_type": "display_data"
    }
   ],
   "source": [
    "#To verify that the data is in the correct format and that  we're ready to build and train the network, \n",
    "# let's display the first 25 images from the training set and display the class name below each image.\n",
    "plt.figure(figsize=(10,10))\n",
    "for i in range(25):\n",
    "  plt.subplot(5,5,i+1)\n",
    "  plt.xticks([])\n",
    "  plt.yticks([])\n",
    "  plt.grid(False)\n",
    "  plt.imshow(train_images[i], cmap = plt.cm.binary)\n",
    "  plt.xlabel(class_names[train_labels[i]])\n",
    "  plt.show()"
   ]
  },
  {
   "cell_type": "markdown",
   "metadata": {
    "id": "QPgjRVVZvwMG"
   },
   "source": [
    "# Build the model"
   ]
  },
  {
   "cell_type": "code",
   "execution_count": 11,
   "metadata": {
    "id": "XrMYcdFPvzJO"
   },
   "outputs": [],
   "source": [
    "# Set up the layers\n",
    "model = tf.keras.Sequential([\n",
    "    tf.keras.layers.Flatten(input_shape =(28,28)),\n",
    "    tf.keras.layers.Dense(128, activation = 'relu'),\n",
    "    tf.keras.layers.Dense(10)\n",
    "])"
   ]
  },
  {
   "cell_type": "markdown",
   "metadata": {
    "id": "V6OYBkMgw_wD"
   },
   "source": [
    "**tf.keras.layers.Flatten** - transform the format of the images from a two_dimensional array to a one_dimensional array, has no parameters to leran\n",
    "\n",
    "**tf.keras.layers.Dense**  layers - the first **Dense ** has 128 nodes (or neurons), the second returns a logits array wirth length of 10. Each node contains a score that indicates the current image belongs to one of the 10 classes."
   ]
  },
  {
   "cell_type": "markdown",
   "metadata": {
    "id": "g8BjkrdhyzsJ"
   },
   "source": [
    "# Complie the model\n",
    "Before the model is ready for training, it needs a few more settings. These are added during the model's compile step:\n",
    "\n",
    "    **Loss function** —This measures how accurate the model is during training. You want to minimize this function to \"steer\" the model in the right direction.\n",
    "    **Optimizer** —This is how the model is updated based on the data it sees and its loss function.\n",
    "    **Metrics** —Used to monitor the training and testing steps. The following example uses accuracy, the fraction of the images that are correctly classified.\n"
   ]
  },
  {
   "cell_type": "code",
   "execution_count": 12,
   "metadata": {
    "id": "bXaiXGNYxaDN"
   },
   "outputs": [],
   "source": [
    "model.compile(optimizer='adam',\n",
    "              loss=tf.keras.losses.SparseCategoricalCrossentropy(from_logits=True),\n",
    "              metrics=['accuracy'])"
   ]
  },
  {
   "cell_type": "markdown",
   "metadata": {
    "id": "ux5AtuGEzyxE"
   },
   "source": [
    "# Train the model\n",
    "Training the neural network model requires the following steps:\n",
    "\n",
    "    Feed the training data to the model. In this example, the training data is in the train_images and train_labels arrays.\n",
    "    The model learns to associate images and labels.\n",
    "    You ask the model to make predictions about a test set—in this example, the test_images array.\n",
    "    Verify that the predictions match the labels from the test_labels array"
   ]
  },
  {
   "cell_type": "code",
   "execution_count": 13,
   "metadata": {
    "colab": {
     "base_uri": "https://localhost:8080/"
    },
    "id": "egWV6S7cz_w6",
    "outputId": "be16d4c9-78f1-4c84-909f-2ece5abf2ff0"
   },
   "outputs": [
    {
     "name": "stdout",
     "output_type": "stream",
     "text": [
      "Epoch 1/10\n",
      "1875/1875 [==============================] - 2s 919us/step - loss: 0.4927 - accuracy: 0.8260\n",
      "Epoch 2/10\n",
      "1875/1875 [==============================] - 2s 907us/step - loss: 0.3712 - accuracy: 0.8659\n",
      "Epoch 3/10\n",
      "1875/1875 [==============================] - 2s 952us/step - loss: 0.3332 - accuracy: 0.8792\n",
      "Epoch 4/10\n",
      "1875/1875 [==============================] - 2s 935us/step - loss: 0.3112 - accuracy: 0.8864\n",
      "Epoch 5/10\n",
      "1875/1875 [==============================] - 2s 968us/step - loss: 0.2933 - accuracy: 0.8911\n",
      "Epoch 6/10\n",
      "1875/1875 [==============================] - 3s 2ms/step - loss: 0.2785 - accuracy: 0.8963\n",
      "Epoch 7/10\n",
      "1875/1875 [==============================] - 2s 1ms/step - loss: 0.2672 - accuracy: 0.9004\n",
      "Epoch 8/10\n",
      "1875/1875 [==============================] - 2s 1ms/step - loss: 0.2580 - accuracy: 0.9041\n",
      "Epoch 9/10\n",
      "1875/1875 [==============================] - 2s 971us/step - loss: 0.2469 - accuracy: 0.9083\n",
      "Epoch 10/10\n",
      "1875/1875 [==============================] - 2s 989us/step - loss: 0.2368 - accuracy: 0.9115\n"
     ]
    },
    {
     "data": {
      "text/plain": [
       "<keras.callbacks.History at 0x2a55ed631c0>"
      ]
     },
     "execution_count": 13,
     "metadata": {},
     "output_type": "execute_result"
    }
   ],
   "source": [
    "#Feed the model\n",
    "model.fit(train_images, train_labels, epochs=10)"
   ]
  },
  {
   "cell_type": "code",
   "execution_count": 14,
   "metadata": {
    "colab": {
     "base_uri": "https://localhost:8080/"
    },
    "id": "mNGeCfPw0sKL",
    "outputId": "25835d49-b14e-4a81-ee80-4c8040fc827b"
   },
   "outputs": [
    {
     "name": "stdout",
     "output_type": "stream",
     "text": [
      "313/313 - 0s - loss: 0.3276 - accuracy: 0.8898 - 317ms/epoch - 1ms/step\n",
      "\n",
      "Test accuracy: 0.8898000121116638\n"
     ]
    }
   ],
   "source": [
    "# evaluate accuracy\n",
    "test_loss, test_acc = model.evaluate(test_images, test_labels, verbose=2)\n",
    "print('\\nTest accuracy:', test_acc)"
   ]
  },
  {
   "cell_type": "markdown",
   "metadata": {
    "id": "gbZKbkH_1ie_"
   },
   "source": [
    "It turns out that the accuracy on the test dataset is a little less than the accuracy on the training dataset. This gap between training accuracy and test accuracy represents overfitting. Overfitting happens when a machine learning model performs worse on new, previously unseen inputs than it does on the training data. An overfitted model \"memorizes\" the noise and details in the training dataset to a point where it negatively impacts the performance of the model on the new data."
   ]
  },
  {
   "cell_type": "markdown",
   "metadata": {
    "id": "yYr1Glk71wAj"
   },
   "source": [
    "# Make predictions"
   ]
  },
  {
   "cell_type": "code",
   "execution_count": 15,
   "metadata": {
    "id": "050ORZRt1mhV"
   },
   "outputs": [],
   "source": [
    "# Attach a softmax layer to convert the model's linear outputs—logits—to probabilities, which should be easier to interpret.\n",
    "probability_model = tf.keras.Sequential([model, tf.keras.layers.Softmax()])"
   ]
  },
  {
   "cell_type": "code",
   "execution_count": 16,
   "metadata": {
    "colab": {
     "base_uri": "https://localhost:8080/"
    },
    "id": "Yvyz1ldV1hvs",
    "outputId": "51f31756-8c88-43a1-a2ae-8ffcc50f5222"
   },
   "outputs": [
    {
     "name": "stdout",
     "output_type": "stream",
     "text": [
      "313/313 [==============================] - 0s 610us/step\n"
     ]
    }
   ],
   "source": [
    "predictions = probability_model.predict(test_images)"
   ]
  },
  {
   "cell_type": "code",
   "execution_count": 17,
   "metadata": {
    "colab": {
     "base_uri": "https://localhost:8080/"
    },
    "id": "Z5uUpKLq2j1D",
    "outputId": "f69c4624-937d-4b1c-de35-08d569b63692"
   },
   "outputs": [
    {
     "data": {
      "text/plain": [
       "array([1.07788611e-09, 1.77575645e-11, 1.87129184e-11, 1.09446055e-11,\n",
       "       7.47017392e-10, 4.70149025e-05, 3.61054582e-08, 3.10652214e-03,\n",
       "       4.14130996e-09, 9.96846378e-01], dtype=float32)"
      ]
     },
     "execution_count": 17,
     "metadata": {},
     "output_type": "execute_result"
    }
   ],
   "source": [
    "predictions[0]"
   ]
  },
  {
   "cell_type": "markdown",
   "metadata": {
    "id": "y_OXlaXP2sjZ"
   },
   "source": [
    "A prediction is an array of 10 numbers. They represent the model's \"confidence\" that the image corresponds to each of the 10 different articles of clothing. You can see which label has the highest confidence value:"
   ]
  },
  {
   "cell_type": "code",
   "execution_count": 18,
   "metadata": {
    "colab": {
     "base_uri": "https://localhost:8080/"
    },
    "id": "sfuHty922tRz",
    "outputId": "dc3bfbd0-05cc-45cc-b9fe-7e8fcdf48f29"
   },
   "outputs": [
    {
     "data": {
      "text/plain": [
       "9"
      ]
     },
     "execution_count": 18,
     "metadata": {},
     "output_type": "execute_result"
    }
   ],
   "source": [
    "np.argmax(predictions[0])"
   ]
  },
  {
   "cell_type": "code",
   "execution_count": 19,
   "metadata": {
    "colab": {
     "base_uri": "https://localhost:8080/",
     "height": 36
    },
    "id": "StM_0Jal3AXh",
    "outputId": "002008d2-c348-4efb-e4aa-5a3e44256d1d"
   },
   "outputs": [
    {
     "data": {
      "text/plain": [
       "'Ankle boot'"
      ]
     },
     "execution_count": 19,
     "metadata": {},
     "output_type": "execute_result"
    }
   ],
   "source": [
    "# the model is most confident that this image is an ankle boot\n",
    "class_names[9]"
   ]
  },
  {
   "cell_type": "code",
   "execution_count": 20,
   "metadata": {
    "colab": {
     "base_uri": "https://localhost:8080/"
    },
    "id": "XdF2jygG3F5U",
    "outputId": "a3d9e74b-f952-414c-fe99-bda3b8fb056f"
   },
   "outputs": [
    {
     "data": {
      "text/plain": [
       "9"
      ]
     },
     "execution_count": 20,
     "metadata": {},
     "output_type": "execute_result"
    }
   ],
   "source": [
    "test_labels[0]"
   ]
  },
  {
   "cell_type": "code",
   "execution_count": 21,
   "metadata": {
    "id": "8CxbdMz53MHr"
   },
   "outputs": [],
   "source": [
    "#Graph this to look at the full set of 10 class predictions\n",
    "def plot_image(i, predictions_array, true_label, img):\n",
    "  true_label, img = true_label[i], img[i]\n",
    "  plt.grid(False)\n",
    "  plt.xticks([])\n",
    "  plt.yticks([])\n",
    "\n",
    "  plt.imshow(img, cmap=plt.cm.binary)\n",
    "\n",
    "  predicted_label = np.argmax(predictions_array)\n",
    "  if predicted_label == true_label:\n",
    "    color = 'blue'\n",
    "  else:\n",
    "    color = 'red'\n",
    "\n",
    "  plt.xlabel(\"{} {:2.0f}% ({})\".format(class_names[predicted_label],\n",
    "                                100*np.max(predictions_array),\n",
    "                                class_names[true_label]),\n",
    "                                color=color)\n"
   ]
  },
  {
   "cell_type": "code",
   "execution_count": 22,
   "metadata": {
    "id": "brPw5bCb3pRN"
   },
   "outputs": [],
   "source": [
    "def plot_value_array(i, predictions_array, true_label):\n",
    "  true_label = true_label[i]\n",
    "  plt.grid(False)\n",
    "  plt.xticks(range(10))\n",
    "  plt.yticks([])\n",
    "  thisplot = plt.bar(range(10), predictions_array, color=\"#777777\")\n",
    "  plt.ylim([0, 1])\n",
    "  predicted_label = np.argmax(predictions_array)\n",
    "\n",
    "  thisplot[predicted_label].set_color('red')\n",
    "  thisplot[true_label].set_color('blue')"
   ]
  },
  {
   "cell_type": "markdown",
   "metadata": {
    "id": "rx0RmBXo4QVg"
   },
   "source": [
    "# Verify predictions"
   ]
  },
  {
   "cell_type": "markdown",
   "metadata": {
    "id": "3pfQZTTo4hQE"
   },
   "source": [
    "Let's look at the 0th image, predictions, and prediction array. Correct prediction labels are blue and incorrect prediction labels are red. The number gives the percentage (out of 100) for the predicted label."
   ]
  },
  {
   "cell_type": "code",
   "execution_count": 23,
   "metadata": {
    "colab": {
     "base_uri": "https://localhost:8080/",
     "height": 211
    },
    "id": "97iGC-CC4Ito",
    "outputId": "42a91cad-9328-4dcd-9457-2992e53851a1"
   },
   "outputs": [
    {
     "data": {
      "image/png": "[encoded data removed]",
      "text/plain": [
       "<Figure size 432x216 with 2 Axes>"
      ]
     },
     "metadata": {
      "needs_background": "light"
     },
     "output_type": "display_data"
    }
   ],
   "source": [
    "i = 0\n",
    "plt.figure(figsize=(6,3))\n",
    "plt.subplot(1,2,1)\n",
    "plot_image(i, predictions[i], test_labels, test_images)\n",
    "plt.subplot(1,2,2)\n",
    "plot_value_array(i, predictions[i], test_labels)\n",
    "plt.show()\n"
   ]
  },
  {
   "cell_type": "code",
   "execution_count": 24,
   "metadata": {
    "colab": {
     "base_uri": "https://localhost:8080/",
     "height": 211
    },
    "id": "wQooFVUi5MVt",
    "outputId": "e5aa3a48-343a-4916-9fb0-cc4b7e71e0d5"
   },
   "outputs": [
    {
     "data": {
      "image/png": "[encoded data removed]",
      "text/plain": [
       "<Figure size 432x216 with 2 Axes>"
      ]
     },
     "metadata": {
      "needs_background": "light"
     },
     "output_type": "display_data"
    }
   ],
   "source": [
    "i = 12\n",
    "plt.figure(figsize=(6,3))\n",
    "plt.subplot(1,2,1)\n",
    "plot_image(i, predictions[i], test_labels, test_images)\n",
    "plt.subplot(1,2,2)\n",
    "plot_value_array(i, predictions[i], test_labels)\n",
    "plt.show()"
   ]
  },
  {
   "cell_type": "code",
   "execution_count": 25,
   "metadata": {
    "colab": {
     "base_uri": "https://localhost:8080/",
     "height": 729
    },
    "id": "Qtsi4XrU5vsk",
    "outputId": "0090ab8a-bfe5-4ed8-bec4-3627e4e1153a"
   },
   "outputs": [
    {
     "data": {
      "image/png": "[encoded data removed]",
      "text/plain": [
       "<Figure size 864x720 with 30 Axes>"
      ]
     },
     "metadata": {
      "needs_background": "light"
     },
     "output_type": "display_data"
    }
   ],
   "source": [
    "# Plot the first X test images, their predicted labels, and the true labels.\n",
    "# Color correct predictions in blue and incorrect predictions in red.\n",
    "num_rows = 5\n",
    "num_cols = 3\n",
    "num_images = num_rows*num_cols\n",
    "plt.figure(figsize=(2*2*num_cols, 2*num_rows))\n",
    "for i in range(num_images):\n",
    "  plt.subplot(num_rows, 2*num_cols, 2*i+1)\n",
    "  plot_image(i, predictions[i], test_labels, test_images)\n",
    "  plt.subplot(num_rows, 2*num_cols, 2*i+2)\n",
    "  plot_value_array(i, predictions[i], test_labels)\n",
    "plt.tight_layout()\n",
    "plt.show()\n"
   ]
  },
  {
   "cell_type": "markdown",
   "metadata": {
    "id": "ri-wG4c96ZOl"
   },
   "source": [
    "# Use the trained model"
   ]
  },
  {
   "cell_type": "code",
   "execution_count": 26,
   "metadata": {
    "colab": {
     "base_uri": "https://localhost:8080/"
    },
    "id": "iYQ7LA1Q6cae",
    "outputId": "e7675a63-9e0a-498d-dc92-e71519ebe4e1"
   },
   "outputs": [
    {
     "data": {
      "text/plain": [
       "(28, 28)"
      ]
     },
     "execution_count": 26,
     "metadata": {},
     "output_type": "execute_result"
    }
   ],
   "source": [
    "# grab an image from the test dataset\n",
    "img = test_images[1]\n",
    "img.shape"
   ]
  },
  {
   "cell_type": "markdown",
   "metadata": {
    "id": "P2Nsmela6-M8"
   },
   "source": [
    " tf.keras models are optimized to make predictions on a batch, or collection. Accordingly, even though you're using a single image, you need to add it to a list"
   ]
  },
  {
   "cell_type": "code",
   "execution_count": 27,
   "metadata": {
    "colab": {
     "base_uri": "https://localhost:8080/"
    },
    "id": "0EDQbDjN6Wz3",
    "outputId": "dacef81a-4712-4a0e-db80-d290b2546059"
   },
   "outputs": [
    {
     "data": {
      "text/plain": [
       "(1, 28, 28)"
      ]
     },
     "execution_count": 27,
     "metadata": {},
     "output_type": "execute_result"
    }
   ],
   "source": [
    "# Add the image to a batch where it's the only member\n",
    "img = (np.expand_dims(img, 0))\n",
    "img.shape"
   ]
  },
  {
   "cell_type": "code",
   "execution_count": 28,
   "metadata": {
    "colab": {
     "base_uri": "https://localhost:8080/"
    },
    "id": "CssnrKBi7UOx",
    "outputId": "59d4b6fa-0ae6-49fb-c61d-a294f14a47e3"
   },
   "outputs": [
    {
     "name": "stdout",
     "output_type": "stream",
     "text": [
      "1/1 [==============================] - 0s 16ms/step\n"
     ]
    },
    {
     "data": {
      "text/plain": [
       "array([[3.7660188e-06, 4.3693486e-14, 9.9968946e-01, 7.6101446e-15,\n",
       "        2.9691795e-04, 9.9875316e-13, 9.9433955e-06, 2.2657172e-17,\n",
       "        2.2854987e-11, 3.2649966e-18]], dtype=float32)"
      ]
     },
     "execution_count": 28,
     "metadata": {},
     "output_type": "execute_result"
    }
   ],
   "source": [
    "# predict the correct label from this image\n",
    "predictions_single= probability_model.predict(img)\n",
    "predictions_single"
   ]
  },
  {
   "cell_type": "code",
   "execution_count": 29,
   "metadata": {
    "colab": {
     "base_uri": "https://localhost:8080/",
     "height": 354
    },
    "id": "goNQBxxw7v9V",
    "outputId": "99ccb20b-7ce3-4872-d101-a8480a37036b"
   },
   "outputs": [
    {
     "data": {
      "image/png": "[encoded data removed]",
      "text/plain": [
       "<Figure size 720x360 with 2 Axes>"
      ]
     },
     "metadata": {
      "needs_background": "light"
     },
     "output_type": "display_data"
    }
   ],
   "source": [
    "plt.figure(figsize=(10,5))\n",
    "plt.subplot(1,2,1)\n",
    "plot_image(i, predictions_single[0], test_labels, test_images)\n",
    "plt.subplot(1,2,2)\n",
    "plot_value_array(1, predictions_single[0], test_labels)\n",
    "plt.xticks(range(10), class_names, rotation=45)\n",
    "plt.show()"
   ]
  },
  {
   "cell_type": "code",
   "execution_count": 30,
   "metadata": {
    "colab": {
     "base_uri": "https://localhost:8080/"
    },
    "id": "pfb3_zlR80KK",
    "outputId": "e2552e23-060b-4c4b-8814-f27e5b24f45a"
   },
   "outputs": [
    {
     "data": {
      "text/plain": [
       "2"
      ]
     },
     "execution_count": 30,
     "metadata": {},
     "output_type": "execute_result"
    }
   ],
   "source": [
    "np.argmax(predictions_single[0])"
   ]
  },
  {
   "cell_type": "markdown",
   "metadata": {
    "id": "n2OzzX6AA7da"
   },
   "source": [
    "## 2. Hyperparameter tuning or hypertuning\n",
    "https://www.tensorflow.org/tutorials/keras/keras_tuner"
   ]
  },
  {
   "cell_type": "markdown",
   "metadata": {
    "id": "ljEYD60tBgZ4"
   },
   "source": [
    "Hyperparameters are of two types:\n",
    "\n",
    "**Model hyperparameters** which influence model selection such as the number and width of hidden layers\n",
    "\n",
    "**Algorithm hyperparameters** which influence the speed and quality of the learning algorithm such as the learning rate for Stochastic Gradient Descent (SGD) and the number of nearest neighbors for a k Nearest Neighbors (KNN) classifier\n"
   ]
  },
  {
   "cell_type": "code",
   "execution_count": 31,
   "metadata": {
    "colab": {
     "base_uri": "https://localhost:8080/"
    },
    "id": "fS2UvPmvA-bb",
    "outputId": "2408c693-25e6-44be-fddb-a27423a33663"
   },
   "outputs": [
    {
     "name": "stdout",
     "output_type": "stream",
     "text": [
      "Requirement already satisfied: keras-tuner in c:\\users\\valen\\appdata\\local\\programs\\python\\python310\\lib\\site-packages (1.2.1)\n",
      "Requirement already satisfied: ipython in c:\\users\\valen\\appdata\\local\\programs\\python\\python310\\lib\\site-packages (from keras-tuner) (8.4.0)\n",
      "Requirement already satisfied: tensorflow>=2.0 in c:\\users\\valen\\appdata\\local\\programs\\python\\python310\\lib\\site-packages (from keras-tuner) (2.11.0)\n",
      "Requirement already satisfied: requests in c:\\users\\valen\\appdata\\local\\programs\\python\\python310\\lib\\site-packages (from keras-tuner) (2.28.1)\n",
      "Requirement already satisfied: packaging in c:\\users\\valen\\appdata\\local\\programs\\python\\python310\\lib\\site-packages (from keras-tuner) (21.3)\n",
      "Requirement already satisfied: kt-legacy in c:\\users\\valen\\appdata\\local\\programs\\python\\python310\\lib\\site-packages (from keras-tuner) (1.0.4)\n",
      "Requirement already satisfied: tensorflow-intel==2.11.0 in c:\\users\\valen\\appdata\\local\\programs\\python\\python310\\lib\\site-packages (from tensorflow>=2.0->keras-tuner) (2.11.0)\n",
      "Requirement already satisfied: h5py>=2.9.0 in c:\\users\\valen\\appdata\\local\\programs\\python\\python310\\lib\\site-packages (from tensorflow-intel==2.11.0->tensorflow>=2.0->keras-tuner) (3.8.0)\n",
      "Requirement already satisfied: six>=1.12.0 in c:\\users\\valen\\appdata\\local\\programs\\python\\python310\\lib\\site-packages (from tensorflow-intel==2.11.0->tensorflow>=2.0->keras-tuner) (1.16.0)\n",
      "Requirement already satisfied: gast<=0.4.0,>=0.2.1 in c:\\users\\valen\\appdata\\local\\programs\\python\\python310\\lib\\site-packages (from tensorflow-intel==2.11.0->tensorflow>=2.0->keras-tuner) (0.4.0)\n",
      "Requirement already satisfied: setuptools in c:\\users\\valen\\appdata\\local\\programs\\python\\python310\\lib\\site-packages (from tensorflow-intel==2.11.0->tensorflow>=2.0->keras-tuner) (58.1.0)\n",
      "Requirement already satisfied: astunparse>=1.6.0 in c:\\users\\valen\\appdata\\local\\programs\\python\\python310\\lib\\site-packages (from tensorflow-intel==2.11.0->tensorflow>=2.0->keras-tuner) (1.6.3)\n",
      "Requirement already satisfied: tensorboard<2.12,>=2.11 in c:\\users\\valen\\appdata\\local\\programs\\python\\python310\\lib\\site-packages (from tensorflow-intel==2.11.0->tensorflow>=2.0->keras-tuner) (2.11.2)\n",
      "Requirement already satisfied: google-pasta>=0.1.1 in c:\\users\\valen\\appdata\\local\\programs\\python\\python310\\lib\\site-packages (from tensorflow-intel==2.11.0->tensorflow>=2.0->keras-tuner) (0.2.0)\n",
      "Requirement already satisfied: grpcio<2.0,>=1.24.3 in c:\\users\\valen\\appdata\\local\\programs\\python\\python310\\lib\\site-packages (from tensorflow-intel==2.11.0->tensorflow>=2.0->keras-tuner) (1.51.1)\n",
      "Requirement already satisfied: opt-einsum>=2.3.2 in c:\\users\\valen\\appdata\\local\\programs\\python\\python310\\lib\\site-packages (from tensorflow-intel==2.11.0->tensorflow>=2.0->keras-tuner) (3.3.0)\n",
      "Requirement already satisfied: termcolor>=1.1.0 in c:\\users\\valen\\appdata\\local\\programs\\python\\python310\\lib\\site-packages (from tensorflow-intel==2.11.0->tensorflow>=2.0->keras-tuner) (2.2.0)\n",
      "Requirement already satisfied: tensorflow-estimator<2.12,>=2.11.0 in c:\\users\\valen\\appdata\\local\\programs\\python\\python310\\lib\\site-packages (from tensorflow-intel==2.11.0->tensorflow>=2.0->keras-tuner) (2.11.0)\n",
      "Requirement already satisfied: tensorflow-io-gcs-filesystem>=0.23.1 in c:\\users\\valen\\appdata\\local\\programs\\python\\python310\\lib\\site-packages (from tensorflow-intel==2.11.0->tensorflow>=2.0->keras-tuner) (0.30.0)\n",
      "Requirement already satisfied: flatbuffers>=2.0 in c:\\users\\valen\\appdata\\local\\programs\\python\\python310\\lib\\site-packages (from tensorflow-intel==2.11.0->tensorflow>=2.0->keras-tuner) (23.1.21)\n",
      "Requirement already satisfied: libclang>=13.0.0 in c:\\users\\valen\\appdata\\local\\programs\\python\\python310\\lib\\site-packages (from tensorflow-intel==2.11.0->tensorflow>=2.0->keras-tuner) (15.0.6.1)\n",
      "Requirement already satisfied: keras<2.12,>=2.11.0 in c:\\users\\valen\\appdata\\local\\programs\\python\\python310\\lib\\site-packages (from tensorflow-intel==2.11.0->tensorflow>=2.0->keras-tuner) (2.11.0)\n",
      "Requirement already satisfied: numpy>=1.20 in c:\\users\\valen\\appdata\\local\\programs\\python\\python310\\lib\\site-packages (from tensorflow-intel==2.11.0->tensorflow>=2.0->keras-tuner) (1.23.1)\n",
      "Requirement already satisfied: protobuf<3.20,>=3.9.2 in c:\\users\\valen\\appdata\\local\\programs\\python\\python310\\lib\\site-packages (from tensorflow-intel==2.11.0->tensorflow>=2.0->keras-tuner) (3.19.6)\n",
      "Requirement already satisfied: typing-extensions>=3.6.6 in c:\\users\\valen\\appdata\\local\\programs\\python\\python310\\lib\\site-packages (from tensorflow-intel==2.11.0->tensorflow>=2.0->keras-tuner) (4.3.0)\n",
      "Requirement already satisfied: wrapt>=1.11.0 in c:\\users\\valen\\appdata\\local\\programs\\python\\python310\\lib\\site-packages (from tensorflow-intel==2.11.0->tensorflow>=2.0->keras-tuner) (1.14.1)\n",
      "Requirement already satisfied: absl-py>=1.0.0 in c:\\users\\valen\\appdata\\local\\programs\\python\\python310\\lib\\site-packages (from tensorflow-intel==2.11.0->tensorflow>=2.0->keras-tuner) (1.4.0)\n",
      "Requirement already satisfied: jedi>=0.16 in c:\\users\\valen\\appdata\\local\\programs\\python\\python310\\lib\\site-packages (from ipython->keras-tuner) (0.18.1)\n",
      "Requirement already satisfied: stack-data in c:\\users\\valen\\appdata\\local\\programs\\python\\python310\\lib\\site-packages (from ipython->keras-tuner) (0.3.0)\n",
      "Requirement already satisfied: colorama in c:\\users\\valen\\appdata\\local\\programs\\python\\python310\\lib\\site-packages (from ipython->keras-tuner) (0.4.5)\n",
      "Requirement already satisfied: pygments>=2.4.0 in c:\\users\\valen\\appdata\\local\\programs\\python\\python310\\lib\\site-packages (from ipython->keras-tuner) (2.12.0)\n",
      "Requirement already satisfied: prompt-toolkit!=3.0.0,!=3.0.1,<3.1.0,>=2.0.0 in c:\\users\\valen\\appdata\\local\\programs\\python\\python310\\lib\\site-packages (from ipython->keras-tuner) (3.0.30)\n",
      "Requirement already satisfied: matplotlib-inline in c:\\users\\valen\\appdata\\local\\programs\\python\\python310\\lib\\site-packages (from ipython->keras-tuner) (0.1.3)\n",
      "Requirement already satisfied: decorator in c:\\users\\valen\\appdata\\local\\programs\\python\\python310\\lib\\site-packages (from ipython->keras-tuner) (5.1.1)\n",
      "Requirement already satisfied: backcall in c:\\users\\valen\\appdata\\local\\programs\\python\\python310\\lib\\site-packages (from ipython->keras-tuner) (0.2.0)\n",
      "Requirement already satisfied: traitlets>=5 in c:\\users\\valen\\appdata\\local\\programs\\python\\python310\\lib\\site-packages (from ipython->keras-tuner) (5.3.0)\n",
      "Requirement already satisfied: pickleshare in c:\\users\\valen\\appdata\\local\\programs\\python\\python310\\lib\\site-packages (from ipython->keras-tuner) (0.7.5)\n",
      "Requirement already satisfied: pyparsing!=3.0.5,>=2.0.2 in c:\\users\\valen\\appdata\\local\\programs\\python\\python310\\lib\\site-packages (from packaging->keras-tuner) (3.0.9)\n",
      "Requirement already satisfied: urllib3<1.27,>=1.21.1 in c:\\users\\valen\\appdata\\local\\programs\\python\\python310\\lib\\site-packages (from requests->keras-tuner) (1.26.11)\n",
      "Requirement already satisfied: certifi>=2017.4.17 in c:\\users\\valen\\appdata\\local\\programs\\python\\python310\\lib\\site-packages (from requests->keras-tuner) (2022.6.15)\n",
      "Requirement already satisfied: idna<4,>=2.5 in c:\\users\\valen\\appdata\\local\\programs\\python\\python310\\lib\\site-packages (from requests->keras-tuner) (3.3)\n",
      "Requirement already satisfied: charset-normalizer<3,>=2 in c:\\users\\valen\\appdata\\local\\programs\\python\\python310\\lib\\site-packages (from requests->keras-tuner) (2.1.0)\n",
      "Requirement already satisfied: parso<0.9.0,>=0.8.0 in c:\\users\\valen\\appdata\\local\\programs\\python\\python310\\lib\\site-packages (from jedi>=0.16->ipython->keras-tuner) (0.8.3)\n",
      "Requirement already satisfied: wcwidth in c:\\users\\valen\\appdata\\local\\programs\\python\\python310\\lib\\site-packages (from prompt-toolkit!=3.0.0,!=3.0.1,<3.1.0,>=2.0.0->ipython->keras-tuner) (0.2.5)\n",
      "Requirement already satisfied: executing in c:\\users\\valen\\appdata\\local\\programs\\python\\python310\\lib\\site-packages (from stack-data->ipython->keras-tuner) (0.9.0)\n",
      "Requirement already satisfied: pure-eval in c:\\users\\valen\\appdata\\local\\programs\\python\\python310\\lib\\site-packages (from stack-data->ipython->keras-tuner) (0.2.2)\n",
      "Requirement already satisfied: asttokens in c:\\users\\valen\\appdata\\local\\programs\\python\\python310\\lib\\site-packages (from stack-data->ipython->keras-tuner) (2.0.5)\n",
      "Requirement already satisfied: wheel<1.0,>=0.23.0 in c:\\users\\valen\\appdata\\local\\programs\\python\\python310\\lib\\site-packages (from astunparse>=1.6.0->tensorflow-intel==2.11.0->tensorflow>=2.0->keras-tuner) (0.38.4)\n",
      "Requirement already satisfied: werkzeug>=1.0.1 in c:\\users\\valen\\appdata\\local\\programs\\python\\python310\\lib\\site-packages (from tensorboard<2.12,>=2.11->tensorflow-intel==2.11.0->tensorflow>=2.0->keras-tuner) (2.2.2)\n",
      "Requirement already satisfied: tensorboard-data-server<0.7.0,>=0.6.0 in c:\\users\\valen\\appdata\\local\\programs\\python\\python310\\lib\\site-packages (from tensorboard<2.12,>=2.11->tensorflow-intel==2.11.0->tensorflow>=2.0->keras-tuner) (0.6.1)\n",
      "Requirement already satisfied: markdown>=2.6.8 in c:\\users\\valen\\appdata\\local\\programs\\python\\python310\\lib\\site-packages (from tensorboard<2.12,>=2.11->tensorflow-intel==2.11.0->tensorflow>=2.0->keras-tuner) (3.4.1)\n",
      "Requirement already satisfied: google-auth-oauthlib<0.5,>=0.4.1 in c:\\users\\valen\\appdata\\local\\programs\\python\\python310\\lib\\site-packages (from tensorboard<2.12,>=2.11->tensorflow-intel==2.11.0->tensorflow>=2.0->keras-tuner) (0.4.6)\n",
      "Requirement already satisfied: tensorboard-plugin-wit>=1.6.0 in c:\\users\\valen\\appdata\\local\\programs\\python\\python310\\lib\\site-packages (from tensorboard<2.12,>=2.11->tensorflow-intel==2.11.0->tensorflow>=2.0->keras-tuner) (1.8.1)\n",
      "Requirement already satisfied: google-auth<3,>=1.6.3 in c:\\users\\valen\\appdata\\local\\programs\\python\\python310\\lib\\site-packages (from tensorboard<2.12,>=2.11->tensorflow-intel==2.11.0->tensorflow>=2.0->keras-tuner) (2.16.0)\n",
      "Requirement already satisfied: pyasn1-modules>=0.2.1 in c:\\users\\valen\\appdata\\local\\programs\\python\\python310\\lib\\site-packages (from google-auth<3,>=1.6.3->tensorboard<2.12,>=2.11->tensorflow-intel==2.11.0->tensorflow>=2.0->keras-tuner) (0.2.8)\n",
      "Requirement already satisfied: rsa<5,>=3.1.4 in c:\\users\\valen\\appdata\\local\\programs\\python\\python310\\lib\\site-packages (from google-auth<3,>=1.6.3->tensorboard<2.12,>=2.11->tensorflow-intel==2.11.0->tensorflow>=2.0->keras-tuner) (4.9)\n",
      "Requirement already satisfied: cachetools<6.0,>=2.0.0 in c:\\users\\valen\\appdata\\local\\programs\\python\\python310\\lib\\site-packages (from google-auth<3,>=1.6.3->tensorboard<2.12,>=2.11->tensorflow-intel==2.11.0->tensorflow>=2.0->keras-tuner) (5.2.0)\n",
      "Requirement already satisfied: requests-oauthlib>=0.7.0 in c:\\users\\valen\\appdata\\local\\programs\\python\\python310\\lib\\site-packages (from google-auth-oauthlib<0.5,>=0.4.1->tensorboard<2.12,>=2.11->tensorflow-intel==2.11.0->tensorflow>=2.0->keras-tuner) (1.3.1)\n",
      "Requirement already satisfied: MarkupSafe>=2.1.1 in c:\\users\\valen\\appdata\\local\\programs\\python\\python310\\lib\\site-packages (from werkzeug>=1.0.1->tensorboard<2.12,>=2.11->tensorflow-intel==2.11.0->tensorflow>=2.0->keras-tuner) (2.1.1)\n",
      "Requirement already satisfied: pyasn1<0.5.0,>=0.4.6 in c:\\users\\valen\\appdata\\local\\programs\\python\\python310\\lib\\site-packages (from pyasn1-modules>=0.2.1->google-auth<3,>=1.6.3->tensorboard<2.12,>=2.11->tensorflow-intel==2.11.0->tensorflow>=2.0->keras-tuner) (0.4.8)\n",
      "Requirement already satisfied: oauthlib>=3.0.0 in c:\\users\\valen\\appdata\\local\\programs\\python\\python310\\lib\\site-packages (from requests-oauthlib>=0.7.0->google-auth-oauthlib<0.5,>=0.4.1->tensorboard<2.12,>=2.11->tensorflow-intel==2.11.0->tensorflow>=2.0->keras-tuner) (3.2.2)\n"
     ]
    },
    {
     "name": "stderr",
     "output_type": "stream",
     "text": [
      "WARNING: Ignoring invalid distribution -ip (c:\\users\\valen\\appdata\\local\\programs\\python\\python310\\lib\\site-packages)\n",
      "WARNING: Ignoring invalid distribution -ip (c:\\users\\valen\\appdata\\local\\programs\\python\\python310\\lib\\site-packages)\n",
      "WARNING: Ignoring invalid distribution -ip (c:\\users\\valen\\appdata\\local\\programs\\python\\python310\\lib\\site-packages)\n",
      "WARNING: Ignoring invalid distribution -ip (c:\\users\\valen\\appdata\\local\\programs\\python\\python310\\lib\\site-packages)\n",
      "WARNING: Ignoring invalid distribution -ip (c:\\users\\valen\\appdata\\local\\programs\\python\\python310\\lib\\site-packages)\n",
      "WARNING: Ignoring invalid distribution -ip (c:\\users\\valen\\appdata\\local\\programs\\python\\python310\\lib\\site-packages)\n"
     ]
    }
   ],
   "source": [
    "# import and install the keras tuner\n",
    "import sys\n",
    "!{sys.executable} -m pip install keras-tuner"
   ]
  },
  {
   "cell_type": "code",
   "execution_count": 32,
   "metadata": {
    "id": "ekEIu2WwCRzt"
   },
   "outputs": [],
   "source": [
    "import keras_tuner as kt"
   ]
  },
  {
   "cell_type": "code",
   "execution_count": 33,
   "metadata": {
    "id": "a1Xu_G9_CoYB"
   },
   "outputs": [],
   "source": [
    "# load the data\n",
    "(img_train, label_train), (img_test, label_test) = keras.datasets.fashion_mnist.load_data()"
   ]
  },
  {
   "cell_type": "code",
   "execution_count": 34,
   "metadata": {
    "id": "DxVnHY61Czkn"
   },
   "outputs": [],
   "source": [
    "# Normalize pixel values between 0 and 1\n",
    "img_train = img_train.astype('float32') / 255.0\n",
    "img_test = img_test.astype('float32') / 255.0"
   ]
  },
  {
   "cell_type": "code",
   "execution_count": 35,
   "metadata": {
    "id": "lVCrFpEvCzts"
   },
   "outputs": [],
   "source": [
    "# define the model\n",
    "def model_builder(hp):\n",
    "  model = keras.Sequential()\n",
    "  model.add(keras.layers.Flatten(input_shape=(28 ,28)))\n",
    "  #Tune the number of unit in the first Dense layer, \n",
    "  #choose an optimal value between 32-512\n",
    "  hp_units = hp.Int('units', min_value=32, max_value=512, step =32)\n",
    "  model.add(keras.layers.Dense(units=hp_units, activation ='relu'))\n",
    "  model.add(keras.layers.Dense(10))\n",
    "\n",
    "  #Tune the learning rate for the optimizer\n",
    "  #choose an optimal value from 0.01, 0.001, 0r 0.0001\n",
    "  hp_learning_rate = hp.Choice('learning_rate', values = [1e-2, 1e-3, 1e-4])\n",
    "\n",
    "  model.compile(optimizer = keras.optimizers.Adam(learning_rate=hp_learning_rate),\n",
    "                loss=keras.losses.SparseCategoricalCrossentropy(from_logits=True),\n",
    "                metrics=['accuracy'])\n",
    "  return model\n"
   ]
  },
  {
   "cell_type": "markdown",
   "metadata": {
    "id": "G5nnaz_tNJ_Z"
   },
   "source": [
    "The Keras Tuner has four tuners available - RandomSearch, Hyperband, BayesianOptimization, and Sklearn. In this tutorial, you use the Hyperband tuner.\n",
    "\n",
    "We will use Hyperband. To instantiate the Hyperband tuner, you must specify the hypermodel, the objective to optimize and the maximum number of epochs to train (max_epochs)"
   ]
  },
  {
   "cell_type": "code",
   "execution_count": 36,
   "metadata": {
    "id": "IO9T3sqxF_eL"
   },
   "outputs": [],
   "source": [
    "# instantiate the tuner and perform hypertuning\n",
    "tuner = kt.Hyperband(model_builder, \n",
    "                     objective ='val_accuracy',\n",
    "                     max_epochs=10,\n",
    "                     factor=3,\n",
    "                     directory ='my_dir',\n",
    "                     project_name='intro_to_kt')"
   ]
  },
  {
   "cell_type": "code",
   "execution_count": 37,
   "metadata": {
    "id": "IM1h51spOhDT"
   },
   "outputs": [],
   "source": [
    "#Create a callback to stop training early after reaching a certain value for the validation loss\n",
    "stop_early =tf.keras.callbacks.EarlyStopping(monitor='val_loss', patience =5)"
   ]
  },
  {
   "cell_type": "code",
   "execution_count": 38,
   "metadata": {
    "colab": {
     "base_uri": "https://localhost:8080/"
    },
    "id": "fPonOPmJOyVo",
    "outputId": "5fd0b52c-1f98-4a46-a87f-5a8441667e09"
   },
   "outputs": [
    {
     "name": "stdout",
     "output_type": "stream",
     "text": [
      "Trial 30 Complete [00h 00m 26s]\n",
      "val_accuracy: 0.8835833072662354\n",
      "\n",
      "Best val_accuracy So Far: 0.8924999833106995\n",
      "Total elapsed time: 00h 04m 20s\n",
      "INFO:tensorflow:Oracle triggered exit\n"
     ]
    }
   ],
   "source": [
    "#run the hyperparameter search, the arguments for the search method are the same as those used for tf.keras.model.fit in addition to the callback above.\n",
    "tuner.search(img_train, label_train, epochs=50, validation_split=0.2, callbacks=[stop_early])"
   ]
  },
  {
   "cell_type": "code",
   "execution_count": 39,
   "metadata": {
    "colab": {
     "base_uri": "https://localhost:8080/"
    },
    "id": "xEK0LnTjVRWn",
    "outputId": "10697f8a-1f00-4f59-f591-5b5bd75fdc99"
   },
   "outputs": [
    {
     "data": {
      "text/plain": [
       "448"
      ]
     },
     "execution_count": 39,
     "metadata": {},
     "output_type": "execute_result"
    }
   ],
   "source": [
    "# Get the optimal hyperparameters\n",
    "best_hps=tuner.get_best_hyperparameters(num_trials=1)[0]\n",
    "\n",
    "best_hps.get('units')"
   ]
  },
  {
   "cell_type": "code",
   "execution_count": 40,
   "metadata": {
    "colab": {
     "base_uri": "https://localhost:8080/"
    },
    "id": "OKAzcjJ7bu-m",
    "outputId": "5da7b0b8-8c8d-4da2-cf99-4f179c66fd33"
   },
   "outputs": [
    {
     "data": {
      "text/plain": [
       "0.001"
      ]
     },
     "execution_count": 40,
     "metadata": {},
     "output_type": "execute_result"
    }
   ],
   "source": [
    "best_hps.get('learning_rate')"
   ]
  },
  {
   "cell_type": "code",
   "execution_count": 41,
   "metadata": {
    "colab": {
     "base_uri": "https://localhost:8080/"
    },
    "id": "hNvgH2zycXob",
    "outputId": "63c4a9d5-bf54-4d91-8081-57317ab8ada7"
   },
   "outputs": [
    {
     "name": "stdout",
     "output_type": "stream",
     "text": [
      "Epoch 1/50\n",
      "1500/1500 [==============================] - 3s 2ms/step - loss: 0.4912 - accuracy: 0.8265 - val_loss: 0.4043 - val_accuracy: 0.8560\n",
      "Epoch 2/50\n",
      "1500/1500 [==============================] - 3s 2ms/step - loss: 0.3681 - accuracy: 0.8649 - val_loss: 0.3818 - val_accuracy: 0.8597\n",
      "Epoch 3/50\n",
      "1500/1500 [==============================] - 2s 2ms/step - loss: 0.3335 - accuracy: 0.8767 - val_loss: 0.3509 - val_accuracy: 0.8733\n",
      "Epoch 4/50\n",
      "1500/1500 [==============================] - 2s 2ms/step - loss: 0.3048 - accuracy: 0.8874 - val_loss: 0.3271 - val_accuracy: 0.8782\n",
      "Epoch 5/50\n",
      "1500/1500 [==============================] - 2s 2ms/step - loss: 0.2855 - accuracy: 0.8941 - val_loss: 0.3269 - val_accuracy: 0.8845\n",
      "Epoch 6/50\n",
      "1500/1500 [==============================] - 2s 2ms/step - loss: 0.2747 - accuracy: 0.8990 - val_loss: 0.3384 - val_accuracy: 0.8767\n",
      "Epoch 7/50\n",
      "1500/1500 [==============================] - 2s 2ms/step - loss: 0.2580 - accuracy: 0.9038 - val_loss: 0.3303 - val_accuracy: 0.8842\n",
      "Epoch 8/50\n",
      "1500/1500 [==============================] - 2s 2ms/step - loss: 0.2447 - accuracy: 0.9078 - val_loss: 0.3112 - val_accuracy: 0.8909\n",
      "Epoch 9/50\n",
      "1500/1500 [==============================] - 2s 2ms/step - loss: 0.2328 - accuracy: 0.9134 - val_loss: 0.3278 - val_accuracy: 0.8882\n",
      "Epoch 10/50\n",
      "1500/1500 [==============================] - 2s 2ms/step - loss: 0.2276 - accuracy: 0.9156 - val_loss: 0.3058 - val_accuracy: 0.8913\n",
      "Epoch 11/50\n",
      "1500/1500 [==============================] - 2s 2ms/step - loss: 0.2167 - accuracy: 0.9184 - val_loss: 0.3142 - val_accuracy: 0.8902\n",
      "Epoch 12/50\n",
      "1500/1500 [==============================] - 2s 2ms/step - loss: 0.2071 - accuracy: 0.9225 - val_loss: 0.3175 - val_accuracy: 0.8953\n",
      "Epoch 13/50\n",
      "1500/1500 [==============================] - 2s 2ms/step - loss: 0.2005 - accuracy: 0.9238 - val_loss: 0.3262 - val_accuracy: 0.8937\n",
      "Epoch 14/50\n",
      "1500/1500 [==============================] - 2s 2ms/step - loss: 0.1921 - accuracy: 0.9275 - val_loss: 0.3181 - val_accuracy: 0.8921\n",
      "Epoch 15/50\n",
      "1500/1500 [==============================] - 2s 2ms/step - loss: 0.1879 - accuracy: 0.9294 - val_loss: 0.3373 - val_accuracy: 0.8915\n",
      "Epoch 16/50\n",
      "1500/1500 [==============================] - 2s 2ms/step - loss: 0.1808 - accuracy: 0.9322 - val_loss: 0.3479 - val_accuracy: 0.8865\n",
      "Epoch 17/50\n",
      "1500/1500 [==============================] - 2s 2ms/step - loss: 0.1728 - accuracy: 0.9361 - val_loss: 0.3433 - val_accuracy: 0.8921\n",
      "Epoch 18/50\n",
      "1500/1500 [==============================] - 2s 2ms/step - loss: 0.1670 - accuracy: 0.9362 - val_loss: 0.3436 - val_accuracy: 0.8936\n",
      "Epoch 19/50\n",
      "1500/1500 [==============================] - 2s 2ms/step - loss: 0.1619 - accuracy: 0.9392 - val_loss: 0.3287 - val_accuracy: 0.8966\n",
      "Epoch 20/50\n",
      "1500/1500 [==============================] - 2s 2ms/step - loss: 0.1551 - accuracy: 0.9421 - val_loss: 0.3536 - val_accuracy: 0.8926\n",
      "Epoch 21/50\n",
      "1500/1500 [==============================] - 2s 2ms/step - loss: 0.1522 - accuracy: 0.9426 - val_loss: 0.3692 - val_accuracy: 0.8913\n",
      "Epoch 22/50\n",
      "1500/1500 [==============================] - 2s 2ms/step - loss: 0.1494 - accuracy: 0.9433 - val_loss: 0.3726 - val_accuracy: 0.8878\n",
      "Epoch 23/50\n",
      "1500/1500 [==============================] - 2s 2ms/step - loss: 0.1420 - accuracy: 0.9476 - val_loss: 0.3999 - val_accuracy: 0.8864\n",
      "Epoch 24/50\n",
      "1500/1500 [==============================] - 2s 2ms/step - loss: 0.1383 - accuracy: 0.9494 - val_loss: 0.3629 - val_accuracy: 0.8972\n",
      "Epoch 25/50\n",
      "1500/1500 [==============================] - 2s 2ms/step - loss: 0.1360 - accuracy: 0.9484 - val_loss: 0.3573 - val_accuracy: 0.8963\n",
      "Epoch 26/50\n",
      "1500/1500 [==============================] - 2s 2ms/step - loss: 0.1310 - accuracy: 0.9503 - val_loss: 0.3957 - val_accuracy: 0.8890\n",
      "Epoch 27/50\n",
      "1500/1500 [==============================] - 2s 2ms/step - loss: 0.1265 - accuracy: 0.9518 - val_loss: 0.4047 - val_accuracy: 0.8921\n",
      "Epoch 28/50\n",
      "1500/1500 [==============================] - 2s 2ms/step - loss: 0.1201 - accuracy: 0.9549 - val_loss: 0.4212 - val_accuracy: 0.8932\n",
      "Epoch 29/50\n",
      "1500/1500 [==============================] - 3s 2ms/step - loss: 0.1201 - accuracy: 0.9539 - val_loss: 0.4046 - val_accuracy: 0.8935\n",
      "Epoch 30/50\n",
      "1500/1500 [==============================] - 3s 2ms/step - loss: 0.1168 - accuracy: 0.9558 - val_loss: 0.3811 - val_accuracy: 0.8966\n",
      "Epoch 31/50\n",
      "1500/1500 [==============================] - 2s 2ms/step - loss: 0.1152 - accuracy: 0.9563 - val_loss: 0.4082 - val_accuracy: 0.8937\n",
      "Epoch 32/50\n",
      "1500/1500 [==============================] - 2s 2ms/step - loss: 0.1094 - accuracy: 0.9579 - val_loss: 0.4292 - val_accuracy: 0.8902\n",
      "Epoch 33/50\n",
      "1500/1500 [==============================] - 3s 2ms/step - loss: 0.1111 - accuracy: 0.9580 - val_loss: 0.4322 - val_accuracy: 0.8926\n",
      "Epoch 34/50\n",
      "1500/1500 [==============================] - 3s 2ms/step - loss: 0.1056 - accuracy: 0.9606 - val_loss: 0.4337 - val_accuracy: 0.8952\n",
      "Epoch 35/50\n",
      "1500/1500 [==============================] - 2s 2ms/step - loss: 0.1028 - accuracy: 0.9607 - val_loss: 0.4506 - val_accuracy: 0.8901\n",
      "Epoch 36/50\n",
      "1500/1500 [==============================] - 3s 2ms/step - loss: 0.0970 - accuracy: 0.9645 - val_loss: 0.4726 - val_accuracy: 0.8963\n",
      "Epoch 37/50\n",
      "1500/1500 [==============================] - 3s 2ms/step - loss: 0.1012 - accuracy: 0.9624 - val_loss: 0.4757 - val_accuracy: 0.8872\n",
      "Epoch 38/50\n",
      "1500/1500 [==============================] - 2s 2ms/step - loss: 0.0940 - accuracy: 0.9660 - val_loss: 0.4504 - val_accuracy: 0.8933\n",
      "Epoch 39/50\n",
      "1500/1500 [==============================] - 2s 2ms/step - loss: 0.0946 - accuracy: 0.9644 - val_loss: 0.4719 - val_accuracy: 0.8929\n",
      "Epoch 40/50\n",
      "1500/1500 [==============================] - 2s 2ms/step - loss: 0.0922 - accuracy: 0.9650 - val_loss: 0.4702 - val_accuracy: 0.8944\n",
      "Epoch 41/50\n",
      "1500/1500 [==============================] - 3s 2ms/step - loss: 0.0929 - accuracy: 0.9648 - val_loss: 0.4880 - val_accuracy: 0.8956\n",
      "Epoch 42/50\n",
      "1500/1500 [==============================] - 3s 2ms/step - loss: 0.0875 - accuracy: 0.9665 - val_loss: 0.4872 - val_accuracy: 0.8924\n",
      "Epoch 43/50\n",
      "1500/1500 [==============================] - 3s 2ms/step - loss: 0.0844 - accuracy: 0.9684 - val_loss: 0.4922 - val_accuracy: 0.8976\n",
      "Epoch 44/50\n",
      "1500/1500 [==============================] - 3s 2ms/step - loss: 0.0869 - accuracy: 0.9673 - val_loss: 0.4837 - val_accuracy: 0.8945\n",
      "Epoch 45/50\n",
      "1500/1500 [==============================] - 3s 2ms/step - loss: 0.0846 - accuracy: 0.9682 - val_loss: 0.4954 - val_accuracy: 0.8931\n",
      "Epoch 46/50\n",
      "1500/1500 [==============================] - 3s 2ms/step - loss: 0.0776 - accuracy: 0.9715 - val_loss: 0.5170 - val_accuracy: 0.8938\n",
      "Epoch 47/50\n",
      "1500/1500 [==============================] - 3s 2ms/step - loss: 0.0821 - accuracy: 0.9690 - val_loss: 0.5227 - val_accuracy: 0.8907\n",
      "Epoch 48/50\n",
      "1500/1500 [==============================] - 3s 2ms/step - loss: 0.0798 - accuracy: 0.9699 - val_loss: 0.5421 - val_accuracy: 0.8921\n",
      "Epoch 49/50\n",
      "1500/1500 [==============================] - 3s 2ms/step - loss: 0.0723 - accuracy: 0.9724 - val_loss: 0.5700 - val_accuracy: 0.8918\n",
      "Epoch 50/50\n",
      "1500/1500 [==============================] - 3s 2ms/step - loss: 0.0743 - accuracy: 0.9727 - val_loss: 0.5398 - val_accuracy: 0.8911\n",
      "Best epoch: 43\n"
     ]
    }
   ],
   "source": [
    "# Build the model with the optimal hyperparameters and train it on the data for 50 epochs\n",
    "model = tuner.hypermodel.build(best_hps)\n",
    "history = model.fit(img_train, label_train, epochs=50, validation_split=0.2)\n",
    "\n",
    "val_acc_per_epoch = history.history['val_accuracy']\n",
    "best_epoch = val_acc_per_epoch.index(max(val_acc_per_epoch)) + 1\n",
    "print('Best epoch: %d' % (best_epoch,))\n"
   ]
  },
  {
   "cell_type": "code",
   "execution_count": 42,
   "metadata": {
    "colab": {
     "base_uri": "https://localhost:8080/"
    },
    "id": "Ot1XMRbRCP6x",
    "outputId": "54d15efe-4eb8-48cf-9840-1ab0b38193dd"
   },
   "outputs": [
    {
     "name": "stdout",
     "output_type": "stream",
     "text": [
      "Epoch 1/43\n",
      "1500/1500 [==============================] - 3s 2ms/step - loss: 0.4971 - accuracy: 0.8216 - val_loss: 0.4060 - val_accuracy: 0.8548\n",
      "Epoch 2/43\n",
      "1500/1500 [==============================] - 2s 2ms/step - loss: 0.3706 - accuracy: 0.8634 - val_loss: 0.3481 - val_accuracy: 0.8754\n",
      "Epoch 3/43\n",
      "1500/1500 [==============================] - 2s 2ms/step - loss: 0.3299 - accuracy: 0.8783 - val_loss: 0.3383 - val_accuracy: 0.8750\n",
      "Epoch 4/43\n",
      "1500/1500 [==============================] - 2s 2ms/step - loss: 0.3073 - accuracy: 0.8856 - val_loss: 0.3451 - val_accuracy: 0.8736\n",
      "Epoch 5/43\n",
      "1500/1500 [==============================] - 2s 2ms/step - loss: 0.2856 - accuracy: 0.8947 - val_loss: 0.3364 - val_accuracy: 0.8771\n",
      "Epoch 6/43\n",
      "1500/1500 [==============================] - 2s 2ms/step - loss: 0.2702 - accuracy: 0.8981 - val_loss: 0.3102 - val_accuracy: 0.8892\n",
      "Epoch 7/43\n",
      "1500/1500 [==============================] - 2s 2ms/step - loss: 0.2566 - accuracy: 0.9031 - val_loss: 0.3226 - val_accuracy: 0.8838\n",
      "Epoch 8/43\n",
      "1500/1500 [==============================] - 2s 2ms/step - loss: 0.2433 - accuracy: 0.9078 - val_loss: 0.3144 - val_accuracy: 0.8884\n",
      "Epoch 9/43\n",
      "1500/1500 [==============================] - 2s 2ms/step - loss: 0.2346 - accuracy: 0.9116 - val_loss: 0.3137 - val_accuracy: 0.8871\n",
      "Epoch 10/43\n",
      "1500/1500 [==============================] - 2s 2ms/step - loss: 0.2233 - accuracy: 0.9161 - val_loss: 0.3044 - val_accuracy: 0.8918\n",
      "Epoch 11/43\n",
      "1500/1500 [==============================] - 2s 2ms/step - loss: 0.2156 - accuracy: 0.9178 - val_loss: 0.3179 - val_accuracy: 0.8875\n",
      "Epoch 12/43\n",
      "1500/1500 [==============================] - 2s 2ms/step - loss: 0.2083 - accuracy: 0.9223 - val_loss: 0.3260 - val_accuracy: 0.8882\n",
      "Epoch 13/43\n",
      "1500/1500 [==============================] - 2s 2ms/step - loss: 0.2011 - accuracy: 0.9246 - val_loss: 0.3158 - val_accuracy: 0.8957\n",
      "Epoch 14/43\n",
      "1500/1500 [==============================] - 2s 2ms/step - loss: 0.1916 - accuracy: 0.9279 - val_loss: 0.3268 - val_accuracy: 0.8921\n",
      "Epoch 15/43\n",
      "1500/1500 [==============================] - 2s 2ms/step - loss: 0.1852 - accuracy: 0.9297 - val_loss: 0.3355 - val_accuracy: 0.8923\n",
      "Epoch 16/43\n",
      "1500/1500 [==============================] - 3s 2ms/step - loss: 0.1783 - accuracy: 0.9326 - val_loss: 0.3296 - val_accuracy: 0.8938\n",
      "Epoch 17/43\n",
      "1500/1500 [==============================] - 3s 2ms/step - loss: 0.1735 - accuracy: 0.9344 - val_loss: 0.3431 - val_accuracy: 0.8913\n",
      "Epoch 18/43\n",
      "1500/1500 [==============================] - 3s 2ms/step - loss: 0.1680 - accuracy: 0.9356 - val_loss: 0.3378 - val_accuracy: 0.8928\n",
      "Epoch 19/43\n",
      "1500/1500 [==============================] - 3s 2ms/step - loss: 0.1630 - accuracy: 0.9386 - val_loss: 0.3578 - val_accuracy: 0.8887\n",
      "Epoch 20/43\n",
      "1500/1500 [==============================] - 3s 2ms/step - loss: 0.1567 - accuracy: 0.9426 - val_loss: 0.3495 - val_accuracy: 0.8946\n",
      "Epoch 21/43\n",
      "1500/1500 [==============================] - 2s 2ms/step - loss: 0.1507 - accuracy: 0.9431 - val_loss: 0.3666 - val_accuracy: 0.8927\n",
      "Epoch 22/43\n",
      "1500/1500 [==============================] - 3s 2ms/step - loss: 0.1499 - accuracy: 0.9447 - val_loss: 0.3782 - val_accuracy: 0.8924\n",
      "Epoch 23/43\n",
      "1500/1500 [==============================] - 3s 2ms/step - loss: 0.1437 - accuracy: 0.9460 - val_loss: 0.3561 - val_accuracy: 0.8917\n",
      "Epoch 24/43\n",
      "1500/1500 [==============================] - 3s 2ms/step - loss: 0.1402 - accuracy: 0.9453 - val_loss: 0.3680 - val_accuracy: 0.8959\n",
      "Epoch 25/43\n",
      "1500/1500 [==============================] - 2s 2ms/step - loss: 0.1358 - accuracy: 0.9488 - val_loss: 0.3797 - val_accuracy: 0.8927\n",
      "Epoch 26/43\n",
      "1500/1500 [==============================] - 2s 2ms/step - loss: 0.1327 - accuracy: 0.9500 - val_loss: 0.3960 - val_accuracy: 0.8870\n",
      "Epoch 27/43\n",
      "1500/1500 [==============================] - 3s 2ms/step - loss: 0.1297 - accuracy: 0.9513 - val_loss: 0.3839 - val_accuracy: 0.8928\n",
      "Epoch 28/43\n",
      "1500/1500 [==============================] - 2s 2ms/step - loss: 0.1251 - accuracy: 0.9524 - val_loss: 0.3762 - val_accuracy: 0.8963\n",
      "Epoch 29/43\n",
      "1500/1500 [==============================] - 2s 2ms/step - loss: 0.1182 - accuracy: 0.9563 - val_loss: 0.4062 - val_accuracy: 0.8940\n",
      "Epoch 30/43\n",
      "1500/1500 [==============================] - 2s 2ms/step - loss: 0.1184 - accuracy: 0.9541 - val_loss: 0.4226 - val_accuracy: 0.8917\n",
      "Epoch 31/43\n",
      "1500/1500 [==============================] - 2s 2ms/step - loss: 0.1125 - accuracy: 0.9577 - val_loss: 0.4178 - val_accuracy: 0.8892\n",
      "Epoch 32/43\n",
      "1500/1500 [==============================] - 3s 2ms/step - loss: 0.1120 - accuracy: 0.9570 - val_loss: 0.4336 - val_accuracy: 0.8929\n",
      "Epoch 33/43\n",
      "1500/1500 [==============================] - 3s 2ms/step - loss: 0.1090 - accuracy: 0.9582 - val_loss: 0.4308 - val_accuracy: 0.8900\n",
      "Epoch 34/43\n",
      "1500/1500 [==============================] - 2s 2ms/step - loss: 0.1079 - accuracy: 0.9594 - val_loss: 0.4314 - val_accuracy: 0.8931\n",
      "Epoch 35/43\n",
      "1500/1500 [==============================] - 2s 2ms/step - loss: 0.1063 - accuracy: 0.9601 - val_loss: 0.4247 - val_accuracy: 0.8970\n",
      "Epoch 36/43\n",
      "1500/1500 [==============================] - 2s 2ms/step - loss: 0.1022 - accuracy: 0.9619 - val_loss: 0.4524 - val_accuracy: 0.8916\n",
      "Epoch 37/43\n",
      "1500/1500 [==============================] - 2s 2ms/step - loss: 0.0970 - accuracy: 0.9642 - val_loss: 0.4503 - val_accuracy: 0.8931\n",
      "Epoch 38/43\n",
      "1500/1500 [==============================] - 2s 2ms/step - loss: 0.1001 - accuracy: 0.9626 - val_loss: 0.4760 - val_accuracy: 0.8902\n",
      "Epoch 39/43\n",
      "1500/1500 [==============================] - 2s 2ms/step - loss: 0.0917 - accuracy: 0.9655 - val_loss: 0.4528 - val_accuracy: 0.8980\n",
      "Epoch 40/43\n",
      "1500/1500 [==============================] - 2s 2ms/step - loss: 0.0923 - accuracy: 0.9647 - val_loss: 0.4576 - val_accuracy: 0.8942\n",
      "Epoch 41/43\n",
      "1500/1500 [==============================] - 2s 2ms/step - loss: 0.0935 - accuracy: 0.9647 - val_loss: 0.4637 - val_accuracy: 0.8942\n",
      "Epoch 42/43\n",
      "1500/1500 [==============================] - 2s 2ms/step - loss: 0.0872 - accuracy: 0.9673 - val_loss: 0.5094 - val_accuracy: 0.8871\n",
      "Epoch 43/43\n",
      "1500/1500 [==============================] - 2s 2ms/step - loss: 0.0873 - accuracy: 0.9667 - val_loss: 0.5206 - val_accuracy: 0.8909\n"
     ]
    },
    {
     "data": {
      "text/plain": [
       "<keras.callbacks.History at 0x2a55ec24e80>"
      ]
     },
     "execution_count": 42,
     "metadata": {},
     "output_type": "execute_result"
    }
   ],
   "source": [
    "# Re-instantiate the hypermodel and train it with the optimal number of epochs from above.\n",
    "hypermodel = tuner.hypermodel.build(best_hps)\n",
    "hypermodel.fit(img_train, label_train, epochs=best_epoch, validation_split=0.2)"
   ]
  },
  {
   "cell_type": "code",
   "execution_count": 43,
   "metadata": {
    "colab": {
     "base_uri": "https://localhost:8080/"
    },
    "id": "0U8guRLxE3KJ",
    "outputId": "69b5abac-bff0-4fa3-9f72-f18c7faa4c75"
   },
   "outputs": [
    {
     "name": "stdout",
     "output_type": "stream",
     "text": [
      "313/313 [==============================] - 0s 840us/step - loss: 0.5828 - accuracy: 0.8826\n",
      "[test loss, test accuracy]: [0.5827930569648743, 0.8826000094413757]\n"
     ]
    }
   ],
   "source": [
    "# evaluate the hypermodel on the test data\n",
    "eval_result = hypermodel.evaluate(img_test, label_test)\n",
    "print(\"[test loss, test accuracy]:\", eval_result)"
   ]
  }
 ],
 "metadata": {
  "colab": {
   "provenance": []
  },
  "kernelspec": {
   "display_name": "Python 3 (ipykernel)",
   "language": "python",
   "name": "python3"
  },
  "language_info": {
   "codemirror_mode": {
    "name": "ipython",
    "version": 3
   },
   "file_extension": ".py",
   "mimetype": "text/x-python",
   "name": "python",
   "nbconvert_exporter": "python",
   "pygments_lexer": "ipython3",
   "version": "3.10.5"
  }
 },
 "nbformat": 4,
 "nbformat_minor": 4
}
