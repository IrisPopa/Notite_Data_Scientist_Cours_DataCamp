{
 "cells": [
  {
   "cell_type": "markdown",
   "id": "da6650da-d7a1-4842-81fb-2ccc2f9873a6",
   "metadata": {},
   "source": [
    "# Cleaning Data in SQL\n",
    "Data from your queries may often contain missing values, duplicate rows, or data in the wrong format. It is crucial to be able to clean the data you retrieve through your queries. This template runs through the basics of handling missing data, duplicate rows, and string cleaning.\n",
    "\n",
    "This template connects to a database containing different course datasets by default. However, you can use any integration you want, so long as you have access to a table with text data. You can learn more about integrations [here](https://workspace-docs.datacamp.com/integrations/what-is-an-integration).\n",
    "\n",
    "💡&nbsp;&nbsp;_The data we will use is contained various schemas of the Course Databases database. To edit the queries, you must add the schema name when referencing tables in this database (e.g., `world.currencies`)._"
   ]
  },
  {
   "cell_type": "markdown",
   "id": "37bc08c7-0f6f-4134-b252-ad51740def40",
   "metadata": {},
   "source": [
    "## Missing values\n",
    "Missing or null values are common in data and can often present a problem for future analyses. You can inspect the number of missing values in a column by filtering the data for null values and performing an aggregation. \n",
    "\n",
    "In the example below, we filter for records where the `unemployment_rate` is `NULL` and then `COUNT()` the number of rows."
   ]
  },
  {
   "cell_type": "code",
   "execution_count": null,
   "id": "21598225-4b3c-4195-9919-823263ef516b",
   "metadata": {
    "customType": "sql",
    "dataFrameVariableName": "df",
    "initial": false,
    "integrationId": "c632441c-e1dc-4637-a56d-10b85efd89be"
   },
   "outputs": [],
   "source": [
    "SELECT COUNT(*) AS number_missing_unemployment_rates\n",
    "FROM world.economies\n",
    "WHERE unemployment_rate IS NULL"
   ]
  },
  {
   "cell_type": "markdown",
   "id": "354d632b-ee22-4b9d-b04d-5eb147499015",
   "metadata": {},
   "source": [
    "### Filling missing values\n",
    "Once you have identified the missing values, you can handle them in several ways. \n",
    "\n",
    "Here, we use `COALESCE()` to replace NULL values with the average unemployment rate (which is accessed via a subquery). `COALESCE()` works by returning the first argument if it is not null. If it is null, it returns the second argument, and so forth. If the `unemployment_rate` column is `NULL`, it returns the second argument, which is the average unemployment we calculate with a subquery."
   ]
  },
  {
   "cell_type": "code",
   "execution_count": null,
   "id": "94bb3992-3277-472c-913a-29330661049b",
   "metadata": {
    "customType": "sql",
    "dataFrameVariableName": "df",
    "initial": false,
    "integrationId": "c632441c-e1dc-4637-a56d-10b85efd89be"
   },
   "outputs": [],
   "source": [
    "SELECT\n",
    "\tcode,\n",
    "    unemployment_rate,\n",
    "\tCOALESCE(unemployment_rate, \n",
    "             (SELECT AVG(unemployment_rate) FROM world.economies)) AS filled_unemployment_rate\n",
    "FROM world.economies"
   ]
  },
  {
   "cell_type": "markdown",
   "id": "dacf5c18-9b32-429b-8df1-75259cfa7632",
   "metadata": {},
   "source": [
    "## Duplicate rows\n",
    "Another data issue you may come across is duplicate rows. To identify them, you can use `ROW_NUMBER()` to assign numbers to rows based on identical combinations. By choosing the `PARTITION` of the window function, you can specify over which columns you want to look for duplicates.\n",
    "\n",
    "In the example below, we use `PARTITION BY` to assign row numbers based on the combination of country code and unemployment rate. As you can see from the query results, duplicate rows have a value of 2 or greater."
   ]
  },
  {
   "cell_type": "code",
   "execution_count": null,
   "id": "d335094f-59e5-4095-8e9f-881e3ee53ce3",
   "metadata": {
    "customType": "sql",
    "dataFrameVariableName": "df",
    "initial": false,
    "integrationId": "c632441c-e1dc-4637-a56d-10b85efd89be"
   },
   "outputs": [],
   "source": [
    "SELECT *\n",
    "FROM (\n",
    "    SELECT \n",
    "        code, \n",
    "        unemployment_rate,\n",
    "        ROW_NUMBER() OVER(PARTITION BY code, unemployment_rate) AS row_number\n",
    "    FROM world.economies\n",
    ") AS sub"
   ]
  },
  {
   "cell_type": "markdown",
   "id": "8ce10f47-1cc7-414a-a8d9-be21fdc006e8",
   "metadata": {},
   "source": [
    "### Discarding duplicate rows\n",
    "Removing duplicate rows is just as simple as identifying them. To do so, you simply need to change your filter to select `row_number`s with a value of 1."
   ]
  },
  {
   "cell_type": "code",
   "execution_count": null,
   "id": "c4367d78-a4fc-4e63-bb83-d19911bd2d5e",
   "metadata": {
    "customType": "sql",
    "dataFrameVariableName": "df",
    "initial": false,
    "integrationId": "c632441c-e1dc-4637-a56d-10b85efd89be"
   },
   "outputs": [],
   "source": [
    "SELECT *\n",
    "FROM (\n",
    "    SELECT \n",
    "        code, \n",
    "        unemployment_rate,\n",
    "        ROW_NUMBER() OVER(PARTITION BY code, unemployment_rate) AS row_number\n",
    "    FROM world.economies\n",
    ") AS sub\n",
    "WHERE row_number = 1"
   ]
  },
  {
   "cell_type": "markdown",
   "id": "ff3da889-f14e-478a-9930-eeffdc54c809",
   "metadata": {},
   "source": [
    "## Invalid data\n",
    "If you are aware of invalid data, you can find (and remove) it using pattern-matching.\n",
    "\n",
    "In the example below, we search for rows where the `indep_year` contains a negative value. To do so, we convert the column to text using `::TEXT`, and then use `LIKE` and our pattern. The pattern we use searches for a minus sign (`-`), followed by any other characters (using the wildcard `%`)."
   ]
  },
  {
   "cell_type": "code",
   "execution_count": null,
   "id": "da16dff5-af36-40dd-99db-2dd94a5908a9",
   "metadata": {
    "customType": "sql",
    "dataFrameVariableName": "df",
    "initial": false,
    "integrationId": "c632441c-e1dc-4637-a56d-10b85efd89be"
   },
   "outputs": [],
   "source": [
    "SELECT indep_year\n",
    "FROM world.countries\n",
    "WHERE indep_year::TEXT LIKE '-%'"
   ]
  },
  {
   "cell_type": "markdown",
   "id": "a43d4432-6349-433d-b428-6dc987591785",
   "metadata": {},
   "source": [
    "You can also use pattern matching to find rows with similar variants. In the example below, we use a pattern to identify all rows with `Monarchy` in the `gov_form` column.\n",
    "\n",
    "Our pattern searches for any row with \"Monarchy\". We use the `%` wildcard characters to allow for words/whitespace on either side of the word we are searching for."
   ]
  },
  {
   "cell_type": "code",
   "execution_count": null,
   "id": "99df670b-30cf-4f16-8375-3abc98f91d06",
   "metadata": {
    "customType": "sql",
    "dataFrameVariableName": "df",
    "initial": false,
    "integrationId": "c632441c-e1dc-4637-a56d-10b85efd89be"
   },
   "outputs": [],
   "source": [
    "SELECT DISTINCT name, gov_form\n",
    "FROM world.countries\n",
    "WHERE gov_form LIKE '%Monarchy%'"
   ]
  },
  {
   "cell_type": "markdown",
   "id": "58e1a27b-d258-4d6b-992f-6ca930bae820",
   "metadata": {},
   "source": [
    "### Fixing invalid data\n",
    "There are a variety of ways you can fix invalid data. One way is to use a `CASE` statement to recategorize the data. In the example below, we convert all `gov_form` rows that contain \"Monarchy\" to \"Monarchy\". The remaining entries are left as they are."
   ]
  },
  {
   "cell_type": "code",
   "execution_count": null,
   "id": "e34c6935-20ac-45fe-b4a0-8e62a3fc558c",
   "metadata": {
    "customType": "sql",
    "dataFrameVariableName": "df",
    "initial": false,
    "integrationId": "c632441c-e1dc-4637-a56d-10b85efd89be"
   },
   "outputs": [],
   "source": [
    "SELECT DISTINCT \n",
    "\tname, \n",
    "    gov_form,\n",
    "    CASE WHEN gov_form LIKE '%Monarchy%' THEN 'Monarchy' \n",
    "    ELSE gov_form END AS fixed_gov_form\n",
    "FROM world.countries\n",
    "WHERE gov_form LIKE '%Monarchy%'"
   ]
  },
  {
   "cell_type": "markdown",
   "id": "4ea0c3de-36f2-42bd-a9b3-80eee14cbe8d",
   "metadata": {},
   "source": [
    "## Data types\n",
    "You can query the `columns` table of the `information_schema` database to learn more about the data types of the table you will be working with.\n",
    "\n",
    "In the query below, we retrieve each column and the data type for the `rental` table in the `dvdrentals` schema."
   ]
  },
  {
   "cell_type": "code",
   "execution_count": null,
   "id": "11922af6-ad27-4dab-8620-bc1c9af81458",
   "metadata": {
    "customType": "sql",
    "dataFrameVariableName": "df",
    "initial": false,
    "integrationId": "c632441c-e1dc-4637-a56d-10b85efd89be"
   },
   "outputs": [],
   "source": [
    "SELECT \n",
    "\tcolumn_name,\n",
    "    data_type\n",
    "FROM information_schema.columns\n",
    "WHERE table_name = 'rental'"
   ]
  },
  {
   "cell_type": "markdown",
   "id": "eb6da499-d176-49a1-927c-e788bdf4c4bf",
   "metadata": {},
   "source": [
    "### Converting data types\n",
    "Sometimes, a column may not be the correct data type. You can use `CAST()` or `::` to convert a column to a specified type.\n",
    "\n",
    "In the example below, we convert two strings and two integers to different data types. The latter two columns produce identical results. The column `integer_to_text` converts the integer 16 to text using `CAST()`. The column `integer_to_text_with_operator` does the same with the cast operator `::`."
   ]
  },
  {
   "cell_type": "code",
   "execution_count": null,
   "id": "79c62f93-9542-47a3-9814-72a4f01bf824",
   "metadata": {
    "customType": "sql",
    "dataFrameVariableName": "df",
    "initial": false,
    "integrationId": "c632441c-e1dc-4637-a56d-10b85efd89be"
   },
   "outputs": [],
   "source": [
    "SELECT\n",
    "\tCAST('42' AS INTEGER) AS string_to_integer,\n",
    "    CAST('2022-06-01' AS DATE) AS string_to_date,\n",
    "    CAST(16 AS TEXT) AS integer_to_text,\n",
    "    16::TEXT AS integer_to_text_with_operator"
   ]
  },
  {
   "cell_type": "markdown",
   "id": "27e3aef0-38b9-4969-b330-762f2eb93b9e",
   "metadata": {},
   "source": [
    "### Converting date formats\n",
    "Sometimes you may want to convert a date into a new format. You can use `TO_CHAR()` to convert a given date to a provided format.\n",
    "\n",
    "In the example below, we use the short name of the month and the last two digits of the year to convert the precise rental date to a month_year column.\n",
    "\n",
    "_Note: In Workspace, SQL queries are converted to pandas DataFrames. As a result, some formatting strings may result in Python automatically interpreting the result as a datetime and converting the date back to the original format._"
   ]
  },
  {
   "cell_type": "code",
   "execution_count": null,
   "id": "ca2f1be7-6f17-4006-a57e-2afa2ad3100d",
   "metadata": {
    "customType": "sql",
    "dataFrameVariableName": "df",
    "initial": false,
    "integrationId": "c632441c-e1dc-4637-a56d-10b85efd89be"
   },
   "outputs": [],
   "source": [
    "SELECT \n",
    "\trental_id, \n",
    "    rental_date, \n",
    "    TO_CHAR(rental_date, 'Mon-YY') AS month_year\n",
    "FROM dvdrentals.rental\n",
    "LIMIT 5"
   ]
  },
  {
   "cell_type": "markdown",
   "id": "2db44e5f-92cc-48c5-b2f3-47dad5f1efa6",
   "metadata": {},
   "source": [
    "## Next steps\n",
    "Want to learn more techniques for cleaning data in PostgreSQL? Check out [Cleaning Data in PostgreSQL Databases](https://app.datacamp.com/learn/courses/cleaning-data-in-postgresql-databases)!\n",
    "\n",
    "Alternatively, if you are interested in applying these skills to other SQL databases, check out our [sample integrations](https://app.datacamp.com/workspace/datasets?selectedLabels=%5B%22sql%22%5D) here!"
   ]
  }
 ],
 "metadata": {
  "editor": "DataCamp Workspace",
  "kernelspec": {
   "display_name": "Python 3 (ipykernel)",
   "language": "python",
   "name": "python3"
  },
  "language_info": {
   "codemirror_mode": {
    "name": "ipython",
    "version": 3
   },
   "file_extension": ".py",
   "mimetype": "text/x-python",
   "name": "python",
   "nbconvert_exporter": "python",
   "pygments_lexer": "ipython3",
   "version": "3.10.5"
  }
 },
 "nbformat": 4,
 "nbformat_minor": 5
}
