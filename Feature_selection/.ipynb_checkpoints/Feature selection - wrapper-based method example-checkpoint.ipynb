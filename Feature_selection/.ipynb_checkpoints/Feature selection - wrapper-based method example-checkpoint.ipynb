{
 "cells": [
  {
   "cell_type": "code",
   "execution_count": 1,
   "metadata": {
    "id": "6ZbL7ykMq9Az"
   },
   "outputs": [
    {
     "name": "stdout",
     "output_type": "stream",
     "text": [
      "Collecting scikit-learn==0.22.2.post1\n",
      "  Using cached scikit-learn-0.22.2.post1.tar.gz (6.9 MB)\n",
      "  Preparing metadata (setup.py): started\n",
      "  Preparing metadata (setup.py): finished with status 'done'\n",
      "Requirement already satisfied: numpy>=1.11.0 in c:\\users\\valen\\appdata\\local\\programs\\python\\python310\\lib\\site-packages (from scikit-learn==0.22.2.post1) (1.23.1)\n",
      "Requirement already satisfied: scipy>=0.17.0 in c:\\users\\valen\\appdata\\local\\programs\\python\\python310\\lib\\site-packages (from scikit-learn==0.22.2.post1) (1.8.1)\n",
      "Requirement already satisfied: joblib>=0.11 in c:\\users\\valen\\appdata\\local\\programs\\python\\python310\\lib\\site-packages (from scikit-learn==0.22.2.post1) (1.1.0)\n",
      "Building wheels for collected packages: scikit-learn\n",
      "  Building wheel for scikit-learn (setup.py): started\n",
      "  Building wheel for scikit-learn (setup.py): finished with status 'error'\n",
      "  Running setup.py clean for scikit-learn\n",
      "Failed to build scikit-learn\n",
      "Installing collected packages: scikit-learn\n",
      "  Attempting uninstall: scikit-learn\n",
      "    Found existing installation: scikit-learn 1.1.1\n",
      "    Uninstalling scikit-learn-1.1.1:\n",
      "      Successfully uninstalled scikit-learn-1.1.1\n",
      "  Running setup.py install for scikit-learn: started\n",
      "  Running setup.py install for scikit-learn: finished with status 'error'\n",
      "  Rolling back uninstall of scikit-learn\n",
      "  Moving to c:\\users\\valen\\appdata\\local\\programs\\python\\python310\\lib\\site-packages\\scikit_learn-1.1.1.dist-info\\\n",
      "   from C:\\Users\\valen\\AppData\\Local\\Programs\\Python\\Python310\\Lib\\site-packages\\~cikit_learn-1.1.1.dist-info\n",
      "  Moving to c:\\users\\valen\\appdata\\local\\programs\\python\\python310\\lib\\site-packages\\sklearn\\\n",
      "   from C:\\Users\\valen\\AppData\\Local\\Programs\\Python\\Python310\\Lib\\site-packages\\~klearn\n"
     ]
    },
    {
     "name": "stderr",
     "output_type": "stream",
     "text": [
      "WARNING: Ignoring invalid distribution -ip (c:\\users\\valen\\appdata\\local\\programs\\python\\python310\\lib\\site-packages)\n",
      "WARNING: Ignoring invalid distribution -ip (c:\\users\\valen\\appdata\\local\\programs\\python\\python310\\lib\\site-packages)\n",
      "  error: subprocess-exited-with-error\n",
      "  \n",
      "  python setup.py bdist_wheel did not run successfully.\n",
      "  exit code: 1\n",
      "  \n",
      "  [33 lines of output]\n",
      "  Partial import of sklearn during the build process.\n",
      "  C:\\Users\\valen\\AppData\\Local\\Temp\\pip-install-3sboxpr4\\scikit-learn_73d0d3d6b015401a87b67f8cbd88afbc\\setup.py:123: DeprecationWarning:\n",
      "  \n",
      "    `numpy.distutils` is deprecated since NumPy 1.23.0, as a result\n",
      "    of the deprecation of `distutils` itself. It will be removed for\n",
      "    Python >= 3.12. For older Python versions it will remain present.\n",
      "    It is recommended to use `setuptools < 60.0` for those Python versions.\n",
      "    For more details, see:\n",
      "      https://numpy.org/devdocs/reference/distutils_status_migration.html\n",
      "  \n",
      "  \n",
      "    from numpy.distutils.command.build_ext import build_ext  # noqa\n",
      "  Traceback (most recent call last):\n",
      "    File \"C:\\Users\\valen\\AppData\\Local\\Temp\\pip-install-3sboxpr4\\scikit-learn_73d0d3d6b015401a87b67f8cbd88afbc\\sklearn\\_build_utils\\__init__.py\", line 32, in _check_cython_version\n",
      "      import Cython\n",
      "  ModuleNotFoundError: No module named 'Cython'\n",
      "  \n",
      "  During handling of the above exception, another exception occurred:\n",
      "  \n",
      "  Traceback (most recent call last):\n",
      "    File \"<string>\", line 2, in <module>\n",
      "    File \"<pip-setuptools-caller>\", line 34, in <module>\n",
      "    File \"C:\\Users\\valen\\AppData\\Local\\Temp\\pip-install-3sboxpr4\\scikit-learn_73d0d3d6b015401a87b67f8cbd88afbc\\setup.py\", line 303, in <module>\n",
      "      setup_package()\n",
      "    File \"C:\\Users\\valen\\AppData\\Local\\Temp\\pip-install-3sboxpr4\\scikit-learn_73d0d3d6b015401a87b67f8cbd88afbc\\setup.py\", line 299, in setup_package\n",
      "      setup(**metadata)\n",
      "    File \"C:\\Users\\valen\\AppData\\Local\\Programs\\Python\\Python310\\lib\\site-packages\\numpy\\distutils\\core.py\", line 135, in setup\n",
      "      config = configuration()\n",
      "    File \"C:\\Users\\valen\\AppData\\Local\\Temp\\pip-install-3sboxpr4\\scikit-learn_73d0d3d6b015401a87b67f8cbd88afbc\\setup.py\", line 180, in configuration\n",
      "      _check_cython_version()\n",
      "    File \"C:\\Users\\valen\\AppData\\Local\\Temp\\pip-install-3sboxpr4\\scikit-learn_73d0d3d6b015401a87b67f8cbd88afbc\\sklearn\\_build_utils\\__init__.py\", line 35, in _check_cython_version\n",
      "      raise ModuleNotFoundError(message)\n",
      "  ModuleNotFoundError: Please install Cython with a version >= 0.28.5 in order to build a scikit-learn from source.\n",
      "  [end of output]\n",
      "  \n",
      "  note: This error originates from a subprocess, and is likely not a problem with pip.\n",
      "  ERROR: Failed building wheel for scikit-learn\n",
      "WARNING: Ignoring invalid distribution -ip (c:\\users\\valen\\appdata\\local\\programs\\python\\python310\\lib\\site-packages)\n",
      "    WARNING: Ignoring invalid distribution -ip (c:\\users\\valen\\appdata\\local\\programs\\python\\python310\\lib\\site-packages)\n",
      "  error: subprocess-exited-with-error\n",
      "  \n",
      "  Running setup.py install for scikit-learn did not run successfully.\n",
      "  exit code: 1\n",
      "  \n",
      "  [33 lines of output]\n",
      "  Partial import of sklearn during the build process.\n",
      "  C:\\Users\\valen\\AppData\\Local\\Temp\\pip-install-3sboxpr4\\scikit-learn_73d0d3d6b015401a87b67f8cbd88afbc\\setup.py:123: DeprecationWarning:\n",
      "  \n",
      "    `numpy.distutils` is deprecated since NumPy 1.23.0, as a result\n",
      "    of the deprecation of `distutils` itself. It will be removed for\n",
      "    Python >= 3.12. For older Python versions it will remain present.\n",
      "    It is recommended to use `setuptools < 60.0` for those Python versions.\n",
      "    For more details, see:\n",
      "      https://numpy.org/devdocs/reference/distutils_status_migration.html\n",
      "  \n",
      "  \n",
      "    from numpy.distutils.command.build_ext import build_ext  # noqa\n",
      "  Traceback (most recent call last):\n",
      "    File \"C:\\Users\\valen\\AppData\\Local\\Temp\\pip-install-3sboxpr4\\scikit-learn_73d0d3d6b015401a87b67f8cbd88afbc\\sklearn\\_build_utils\\__init__.py\", line 32, in _check_cython_version\n",
      "      import Cython\n",
      "  ModuleNotFoundError: No module named 'Cython'\n",
      "  \n",
      "  During handling of the above exception, another exception occurred:\n",
      "  \n",
      "  Traceback (most recent call last):\n",
      "    File \"<string>\", line 2, in <module>\n",
      "    File \"<pip-setuptools-caller>\", line 34, in <module>\n",
      "    File \"C:\\Users\\valen\\AppData\\Local\\Temp\\pip-install-3sboxpr4\\scikit-learn_73d0d3d6b015401a87b67f8cbd88afbc\\setup.py\", line 303, in <module>\n",
      "      setup_package()\n",
      "    File \"C:\\Users\\valen\\AppData\\Local\\Temp\\pip-install-3sboxpr4\\scikit-learn_73d0d3d6b015401a87b67f8cbd88afbc\\setup.py\", line 299, in setup_package\n",
      "      setup(**metadata)\n",
      "    File \"C:\\Users\\valen\\AppData\\Local\\Programs\\Python\\Python310\\lib\\site-packages\\numpy\\distutils\\core.py\", line 135, in setup\n",
      "      config = configuration()\n",
      "    File \"C:\\Users\\valen\\AppData\\Local\\Temp\\pip-install-3sboxpr4\\scikit-learn_73d0d3d6b015401a87b67f8cbd88afbc\\setup.py\", line 180, in configuration\n",
      "      _check_cython_version()\n",
      "    File \"C:\\Users\\valen\\AppData\\Local\\Temp\\pip-install-3sboxpr4\\scikit-learn_73d0d3d6b015401a87b67f8cbd88afbc\\sklearn\\_build_utils\\__init__.py\", line 35, in _check_cython_version\n",
      "      raise ModuleNotFoundError(message)\n",
      "  ModuleNotFoundError: Please install Cython with a version >= 0.28.5 in order to build a scikit-learn from source.\n",
      "  [end of output]\n",
      "  \n",
      "  note: This error originates from a subprocess, and is likely not a problem with pip.\n",
      "error: legacy-install-failure\n",
      "\n",
      "Encountered error while trying to install package.\n",
      "\n",
      "scikit-learn\n",
      "\n",
      "note: This is an issue with the package mentioned above, not pip.\n",
      "hint: See above for output from the failure.\n",
      "WARNING: Ignoring invalid distribution -ip (c:\\users\\valen\\appdata\\local\\programs\\python\\python310\\lib\\site-packages)\n",
      "WARNING: Ignoring invalid distribution -ip (c:\\users\\valen\\appdata\\local\\programs\\python\\python310\\lib\\site-packages)\n",
      "WARNING: Ignoring invalid distribution -ip (c:\\users\\valen\\appdata\\local\\programs\\python\\python310\\lib\\site-packages)\n"
     ]
    }
   ],
   "source": [
    "import sys\n",
    "!{sys.executable} -m pip install scikit-learn==0.22.2.post1\n",
    "import warnings \n",
    "warnings.filterwarnings('ignore')"
   ]
  },
  {
   "cell_type": "code",
   "execution_count": 2,
   "metadata": {
    "id": "lfLKuIeCHwqs"
   },
   "outputs": [
    {
     "name": "stdout",
     "output_type": "stream",
     "text": [
      "Requirement already satisfied: sklearn-genetic in c:\\users\\valen\\appdata\\local\\programs\\python\\python310\\lib\\site-packages (0.5.1)\n",
      "Requirement already satisfied: deap>=1.0.2 in c:\\users\\valen\\appdata\\local\\programs\\python\\python310\\lib\\site-packages (from sklearn-genetic) (1.3.3)\n",
      "Requirement already satisfied: multiprocess in c:\\users\\valen\\appdata\\local\\programs\\python\\python310\\lib\\site-packages (from sklearn-genetic) (0.70.14)\n",
      "Requirement already satisfied: numpy in c:\\users\\valen\\appdata\\local\\programs\\python\\python310\\lib\\site-packages (from sklearn-genetic) (1.23.1)\n",
      "Requirement already satisfied: scikit-learn>=0.23 in c:\\users\\valen\\appdata\\local\\programs\\python\\python310\\lib\\site-packages (from sklearn-genetic) (1.1.1)\n",
      "Requirement already satisfied: scipy>=1.3.2 in c:\\users\\valen\\appdata\\local\\programs\\python\\python310\\lib\\site-packages (from scikit-learn>=0.23->sklearn-genetic) (1.8.1)\n",
      "Requirement already satisfied: threadpoolctl>=2.0.0 in c:\\users\\valen\\appdata\\local\\programs\\python\\python310\\lib\\site-packages (from scikit-learn>=0.23->sklearn-genetic) (3.1.0)\n",
      "Requirement already satisfied: joblib>=1.0.0 in c:\\users\\valen\\appdata\\local\\programs\\python\\python310\\lib\\site-packages (from scikit-learn>=0.23->sklearn-genetic) (1.1.0)\n",
      "Requirement already satisfied: dill>=0.3.6 in c:\\users\\valen\\appdata\\local\\programs\\python\\python310\\lib\\site-packages (from multiprocess->sklearn-genetic) (0.3.6)\n"
     ]
    },
    {
     "name": "stderr",
     "output_type": "stream",
     "text": [
      "WARNING: Ignoring invalid distribution -ip (c:\\users\\valen\\appdata\\local\\programs\\python\\python310\\lib\\site-packages)\n",
      "WARNING: Ignoring invalid distribution -ip (c:\\users\\valen\\appdata\\local\\programs\\python\\python310\\lib\\site-packages)\n",
      "WARNING: Ignoring invalid distribution -ip (c:\\users\\valen\\appdata\\local\\programs\\python\\python310\\lib\\site-packages)\n",
      "WARNING: Ignoring invalid distribution -ip (c:\\users\\valen\\appdata\\local\\programs\\python\\python310\\lib\\site-packages)\n",
      "WARNING: Ignoring invalid distribution -ip (c:\\users\\valen\\appdata\\local\\programs\\python\\python310\\lib\\site-packages)\n",
      "WARNING: Ignoring invalid distribution -ip (c:\\users\\valen\\appdata\\local\\programs\\python\\python310\\lib\\site-packages)\n"
     ]
    }
   ],
   "source": [
    "!{sys.executable} -m pip install sklearn-genetic"
   ]
  },
  {
   "cell_type": "code",
   "execution_count": 3,
   "metadata": {},
   "outputs": [
    {
     "name": "stdout",
     "output_type": "stream",
     "text": [
      "Requirement already satisfied: mlxtend in c:\\users\\valen\\appdata\\local\\programs\\python\\python310\\lib\\site-packages (0.21.0)\n",
      "Requirement already satisfied: setuptools in c:\\users\\valen\\appdata\\local\\programs\\python\\python310\\lib\\site-packages (from mlxtend) (58.1.0)\n",
      "Requirement already satisfied: pandas>=0.24.2 in c:\\users\\valen\\appdata\\local\\programs\\python\\python310\\lib\\site-packages (from mlxtend) (1.4.4)\n",
      "Requirement already satisfied: numpy>=1.16.2 in c:\\users\\valen\\appdata\\local\\programs\\python\\python310\\lib\\site-packages (from mlxtend) (1.23.1)\n",
      "Requirement already satisfied: scikit-learn>=1.0.2 in c:\\users\\valen\\appdata\\local\\programs\\python\\python310\\lib\\site-packages (from mlxtend) (1.1.1)\n",
      "Requirement already satisfied: scipy>=1.2.1 in c:\\users\\valen\\appdata\\local\\programs\\python\\python310\\lib\\site-packages (from mlxtend) (1.8.1)\n",
      "Requirement already satisfied: matplotlib>=3.0.0 in c:\\users\\valen\\appdata\\local\\programs\\python\\python310\\lib\\site-packages (from mlxtend) (3.5.3)\n",
      "Requirement already satisfied: joblib>=0.13.2 in c:\\users\\valen\\appdata\\local\\programs\\python\\python310\\lib\\site-packages (from mlxtend) (1.1.0)\n",
      "Requirement already satisfied: kiwisolver>=1.0.1 in c:\\users\\valen\\appdata\\local\\programs\\python\\python310\\lib\\site-packages (from matplotlib>=3.0.0->mlxtend) (1.4.4)\n",
      "Requirement already satisfied: python-dateutil>=2.7 in c:\\users\\valen\\appdata\\local\\programs\\python\\python310\\lib\\site-packages (from matplotlib>=3.0.0->mlxtend) (2.8.2)\n",
      "Requirement already satisfied: packaging>=20.0 in c:\\users\\valen\\appdata\\local\\programs\\python\\python310\\lib\\site-packages (from matplotlib>=3.0.0->mlxtend) (21.3)\n",
      "Requirement already satisfied: pillow>=6.2.0 in c:\\users\\valen\\appdata\\local\\programs\\python\\python310\\lib\\site-packages (from matplotlib>=3.0.0->mlxtend) (9.2.0)\n",
      "Requirement already satisfied: fonttools>=4.22.0 in c:\\users\\valen\\appdata\\local\\programs\\python\\python310\\lib\\site-packages (from matplotlib>=3.0.0->mlxtend) (4.37.1)\n",
      "Requirement already satisfied: pyparsing>=2.2.1 in c:\\users\\valen\\appdata\\local\\programs\\python\\python310\\lib\\site-packages (from matplotlib>=3.0.0->mlxtend) (3.0.9)\n",
      "Requirement already satisfied: cycler>=0.10 in c:\\users\\valen\\appdata\\local\\programs\\python\\python310\\lib\\site-packages (from matplotlib>=3.0.0->mlxtend) (0.11.0)\n",
      "Requirement already satisfied: pytz>=2020.1 in c:\\users\\valen\\appdata\\local\\programs\\python\\python310\\lib\\site-packages (from pandas>=0.24.2->mlxtend) (2022.1)\n",
      "Requirement already satisfied: threadpoolctl>=2.0.0 in c:\\users\\valen\\appdata\\local\\programs\\python\\python310\\lib\\site-packages (from scikit-learn>=1.0.2->mlxtend) (3.1.0)\n",
      "Requirement already satisfied: six>=1.5 in c:\\users\\valen\\appdata\\local\\programs\\python\\python310\\lib\\site-packages (from python-dateutil>=2.7->matplotlib>=3.0.0->mlxtend) (1.16.0)\n"
     ]
    },
    {
     "name": "stderr",
     "output_type": "stream",
     "text": [
      "WARNING: Ignoring invalid distribution -ip (c:\\users\\valen\\appdata\\local\\programs\\python\\python310\\lib\\site-packages)\n",
      "WARNING: Ignoring invalid distribution -ip (c:\\users\\valen\\appdata\\local\\programs\\python\\python310\\lib\\site-packages)\n",
      "WARNING: Ignoring invalid distribution -ip (c:\\users\\valen\\appdata\\local\\programs\\python\\python310\\lib\\site-packages)\n",
      "WARNING: Ignoring invalid distribution -ip (c:\\users\\valen\\appdata\\local\\programs\\python\\python310\\lib\\site-packages)\n",
      "WARNING: Ignoring invalid distribution -ip (c:\\users\\valen\\appdata\\local\\programs\\python\\python310\\lib\\site-packages)\n",
      "WARNING: Ignoring invalid distribution -ip (c:\\users\\valen\\appdata\\local\\programs\\python\\python310\\lib\\site-packages)\n"
     ]
    }
   ],
   "source": [
    "!{sys.executable} -m pip install mlxtend"
   ]
  },
  {
   "cell_type": "code",
   "execution_count": 4,
   "metadata": {
    "id": "bQ9B-Johqbzb"
   },
   "outputs": [],
   "source": [
    "import pandas as pd\n",
    "import numpy as np\n",
    "import joblib\n",
    "import sklearn\n",
    "\n",
    "sklearn.externals.joblib = joblib\n",
    "\n",
    "from mlxtend.feature_selection import SequentialFeatureSelector\n",
    "from sklearn.linear_model import LogisticRegression\n",
    "from sklearn.model_selection import StratifiedKFold, train_test_split\n",
    "from genetic_selection import GeneticSelectionCV\n",
    "from sklearn.metrics import classification_report\n",
    "\n",
    "\n",
    "credit = pd.read_csv('creditcard.csv')\n",
    "X = credit.loc[:, credit.columns != 'Class']\n",
    "y = credit['Class']\n",
    "\n",
    "X_train, X_test, y_train, y_test = train_test_split(X, y, test_size=0.2, stratify=y, random_state=42)"
   ]
  },
  {
   "cell_type": "code",
   "execution_count": 5,
   "metadata": {
    "executionInfo": {
     "elapsed": 10,
     "status": "aborted",
     "timestamp": 1673287452977,
     "user": {
      "displayName": "Dan Dumitru",
      "userId": "04101222068084717659"
     },
     "user_tz": -120
    },
    "id": "2PjLl05Nwu-9"
   },
   "outputs": [
    {
     "data": {
      "text/html": [
       "<div>\n",
       "<style scoped>\n",
       "    .dataframe tbody tr th:only-of-type {\n",
       "        vertical-align: middle;\n",
       "    }\n",
       "\n",
       "    .dataframe tbody tr th {\n",
       "        vertical-align: top;\n",
       "    }\n",
       "\n",
       "    .dataframe thead th {\n",
       "        text-align: right;\n",
       "    }\n",
       "</style>\n",
       "<table border=\"1\" class=\"dataframe\">\n",
       "  <thead>\n",
       "    <tr style=\"text-align: right;\">\n",
       "      <th></th>\n",
       "      <th>Time</th>\n",
       "      <th>V1</th>\n",
       "      <th>V2</th>\n",
       "      <th>V3</th>\n",
       "      <th>V4</th>\n",
       "      <th>V5</th>\n",
       "      <th>V6</th>\n",
       "      <th>V7</th>\n",
       "      <th>V8</th>\n",
       "      <th>V9</th>\n",
       "      <th>...</th>\n",
       "      <th>V21</th>\n",
       "      <th>V22</th>\n",
       "      <th>V23</th>\n",
       "      <th>V24</th>\n",
       "      <th>V25</th>\n",
       "      <th>V26</th>\n",
       "      <th>V27</th>\n",
       "      <th>V28</th>\n",
       "      <th>Amount</th>\n",
       "      <th>Class</th>\n",
       "    </tr>\n",
       "  </thead>\n",
       "  <tbody>\n",
       "    <tr>\n",
       "      <th>0</th>\n",
       "      <td>0.0</td>\n",
       "      <td>-1.359807</td>\n",
       "      <td>-0.072781</td>\n",
       "      <td>2.536347</td>\n",
       "      <td>1.378155</td>\n",
       "      <td>-0.338321</td>\n",
       "      <td>0.462388</td>\n",
       "      <td>0.239599</td>\n",
       "      <td>0.098698</td>\n",
       "      <td>0.363787</td>\n",
       "      <td>...</td>\n",
       "      <td>-0.018307</td>\n",
       "      <td>0.277838</td>\n",
       "      <td>-0.110474</td>\n",
       "      <td>0.066928</td>\n",
       "      <td>0.128539</td>\n",
       "      <td>-0.189115</td>\n",
       "      <td>0.133558</td>\n",
       "      <td>-0.021053</td>\n",
       "      <td>149.62</td>\n",
       "      <td>0</td>\n",
       "    </tr>\n",
       "    <tr>\n",
       "      <th>1</th>\n",
       "      <td>0.0</td>\n",
       "      <td>1.191857</td>\n",
       "      <td>0.266151</td>\n",
       "      <td>0.166480</td>\n",
       "      <td>0.448154</td>\n",
       "      <td>0.060018</td>\n",
       "      <td>-0.082361</td>\n",
       "      <td>-0.078803</td>\n",
       "      <td>0.085102</td>\n",
       "      <td>-0.255425</td>\n",
       "      <td>...</td>\n",
       "      <td>-0.225775</td>\n",
       "      <td>-0.638672</td>\n",
       "      <td>0.101288</td>\n",
       "      <td>-0.339846</td>\n",
       "      <td>0.167170</td>\n",
       "      <td>0.125895</td>\n",
       "      <td>-0.008983</td>\n",
       "      <td>0.014724</td>\n",
       "      <td>2.69</td>\n",
       "      <td>0</td>\n",
       "    </tr>\n",
       "    <tr>\n",
       "      <th>2</th>\n",
       "      <td>1.0</td>\n",
       "      <td>-1.358354</td>\n",
       "      <td>-1.340163</td>\n",
       "      <td>1.773209</td>\n",
       "      <td>0.379780</td>\n",
       "      <td>-0.503198</td>\n",
       "      <td>1.800499</td>\n",
       "      <td>0.791461</td>\n",
       "      <td>0.247676</td>\n",
       "      <td>-1.514654</td>\n",
       "      <td>...</td>\n",
       "      <td>0.247998</td>\n",
       "      <td>0.771679</td>\n",
       "      <td>0.909412</td>\n",
       "      <td>-0.689281</td>\n",
       "      <td>-0.327642</td>\n",
       "      <td>-0.139097</td>\n",
       "      <td>-0.055353</td>\n",
       "      <td>-0.059752</td>\n",
       "      <td>378.66</td>\n",
       "      <td>0</td>\n",
       "    </tr>\n",
       "    <tr>\n",
       "      <th>3</th>\n",
       "      <td>1.0</td>\n",
       "      <td>-0.966272</td>\n",
       "      <td>-0.185226</td>\n",
       "      <td>1.792993</td>\n",
       "      <td>-0.863291</td>\n",
       "      <td>-0.010309</td>\n",
       "      <td>1.247203</td>\n",
       "      <td>0.237609</td>\n",
       "      <td>0.377436</td>\n",
       "      <td>-1.387024</td>\n",
       "      <td>...</td>\n",
       "      <td>-0.108300</td>\n",
       "      <td>0.005274</td>\n",
       "      <td>-0.190321</td>\n",
       "      <td>-1.175575</td>\n",
       "      <td>0.647376</td>\n",
       "      <td>-0.221929</td>\n",
       "      <td>0.062723</td>\n",
       "      <td>0.061458</td>\n",
       "      <td>123.50</td>\n",
       "      <td>0</td>\n",
       "    </tr>\n",
       "    <tr>\n",
       "      <th>4</th>\n",
       "      <td>2.0</td>\n",
       "      <td>-1.158233</td>\n",
       "      <td>0.877737</td>\n",
       "      <td>1.548718</td>\n",
       "      <td>0.403034</td>\n",
       "      <td>-0.407193</td>\n",
       "      <td>0.095921</td>\n",
       "      <td>0.592941</td>\n",
       "      <td>-0.270533</td>\n",
       "      <td>0.817739</td>\n",
       "      <td>...</td>\n",
       "      <td>-0.009431</td>\n",
       "      <td>0.798278</td>\n",
       "      <td>-0.137458</td>\n",
       "      <td>0.141267</td>\n",
       "      <td>-0.206010</td>\n",
       "      <td>0.502292</td>\n",
       "      <td>0.219422</td>\n",
       "      <td>0.215153</td>\n",
       "      <td>69.99</td>\n",
       "      <td>0</td>\n",
       "    </tr>\n",
       "  </tbody>\n",
       "</table>\n",
       "<p>5 rows × 31 columns</p>\n",
       "</div>"
      ],
      "text/plain": [
       "   Time        V1        V2        V3        V4        V5        V6        V7  \\\n",
       "0   0.0 -1.359807 -0.072781  2.536347  1.378155 -0.338321  0.462388  0.239599   \n",
       "1   0.0  1.191857  0.266151  0.166480  0.448154  0.060018 -0.082361 -0.078803   \n",
       "2   1.0 -1.358354 -1.340163  1.773209  0.379780 -0.503198  1.800499  0.791461   \n",
       "3   1.0 -0.966272 -0.185226  1.792993 -0.863291 -0.010309  1.247203  0.237609   \n",
       "4   2.0 -1.158233  0.877737  1.548718  0.403034 -0.407193  0.095921  0.592941   \n",
       "\n",
       "         V8        V9  ...       V21       V22       V23       V24       V25  \\\n",
       "0  0.098698  0.363787  ... -0.018307  0.277838 -0.110474  0.066928  0.128539   \n",
       "1  0.085102 -0.255425  ... -0.225775 -0.638672  0.101288 -0.339846  0.167170   \n",
       "2  0.247676 -1.514654  ...  0.247998  0.771679  0.909412 -0.689281 -0.327642   \n",
       "3  0.377436 -1.387024  ... -0.108300  0.005274 -0.190321 -1.175575  0.647376   \n",
       "4 -0.270533  0.817739  ... -0.009431  0.798278 -0.137458  0.141267 -0.206010   \n",
       "\n",
       "        V26       V27       V28  Amount  Class  \n",
       "0 -0.189115  0.133558 -0.021053  149.62      0  \n",
       "1  0.125895 -0.008983  0.014724    2.69      0  \n",
       "2 -0.139097 -0.055353 -0.059752  378.66      0  \n",
       "3 -0.221929  0.062723  0.061458  123.50      0  \n",
       "4  0.502292  0.219422  0.215153   69.99      0  \n",
       "\n",
       "[5 rows x 31 columns]"
      ]
     },
     "execution_count": 5,
     "metadata": {},
     "output_type": "execute_result"
    }
   ],
   "source": [
    "credit.head(5)"
   ]
  },
  {
   "cell_type": "markdown",
   "metadata": {
    "id": "KDqhSbV-JVBs"
   },
   "source": [
    "## 0. Baseline "
   ]
  },
  {
   "cell_type": "code",
   "execution_count": 6,
   "metadata": {
    "executionInfo": {
     "elapsed": 10,
     "status": "aborted",
     "timestamp": 1673287452977,
     "user": {
      "displayName": "Dan Dumitru",
      "userId": "04101222068084717659"
     },
     "user_tz": -120
    },
    "id": "NFZv6zNvJUeE"
   },
   "outputs": [
    {
     "data": {
      "text/html": [
       "<style>#sk-container-id-1 {color: black;background-color: white;}#sk-container-id-1 pre{padding: 0;}#sk-container-id-1 div.sk-toggleable {background-color: white;}#sk-container-id-1 label.sk-toggleable__label {cursor: pointer;display: block;width: 100%;margin-bottom: 0;padding: 0.3em;box-sizing: border-box;text-align: center;}#sk-container-id-1 label.sk-toggleable__label-arrow:before {content: \"▸\";float: left;margin-right: 0.25em;color: #696969;}#sk-container-id-1 label.sk-toggleable__label-arrow:hover:before {color: black;}#sk-container-id-1 div.sk-estimator:hover label.sk-toggleable__label-arrow:before {color: black;}#sk-container-id-1 div.sk-toggleable__content {max-height: 0;max-width: 0;overflow: hidden;text-align: left;background-color: #f0f8ff;}#sk-container-id-1 div.sk-toggleable__content pre {margin: 0.2em;color: black;border-radius: 0.25em;background-color: #f0f8ff;}#sk-container-id-1 input.sk-toggleable__control:checked~div.sk-toggleable__content {max-height: 200px;max-width: 100%;overflow: auto;}#sk-container-id-1 input.sk-toggleable__control:checked~label.sk-toggleable__label-arrow:before {content: \"▾\";}#sk-container-id-1 div.sk-estimator input.sk-toggleable__control:checked~label.sk-toggleable__label {background-color: #d4ebff;}#sk-container-id-1 div.sk-label input.sk-toggleable__control:checked~label.sk-toggleable__label {background-color: #d4ebff;}#sk-container-id-1 input.sk-hidden--visually {border: 0;clip: rect(1px 1px 1px 1px);clip: rect(1px, 1px, 1px, 1px);height: 1px;margin: -1px;overflow: hidden;padding: 0;position: absolute;width: 1px;}#sk-container-id-1 div.sk-estimator {font-family: monospace;background-color: #f0f8ff;border: 1px dotted black;border-radius: 0.25em;box-sizing: border-box;margin-bottom: 0.5em;}#sk-container-id-1 div.sk-estimator:hover {background-color: #d4ebff;}#sk-container-id-1 div.sk-parallel-item::after {content: \"\";width: 100%;border-bottom: 1px solid gray;flex-grow: 1;}#sk-container-id-1 div.sk-label:hover label.sk-toggleable__label {background-color: #d4ebff;}#sk-container-id-1 div.sk-serial::before {content: \"\";position: absolute;border-left: 1px solid gray;box-sizing: border-box;top: 0;bottom: 0;left: 50%;z-index: 0;}#sk-container-id-1 div.sk-serial {display: flex;flex-direction: column;align-items: center;background-color: white;padding-right: 0.2em;padding-left: 0.2em;position: relative;}#sk-container-id-1 div.sk-item {position: relative;z-index: 1;}#sk-container-id-1 div.sk-parallel {display: flex;align-items: stretch;justify-content: center;background-color: white;position: relative;}#sk-container-id-1 div.sk-item::before, #sk-container-id-1 div.sk-parallel-item::before {content: \"\";position: absolute;border-left: 1px solid gray;box-sizing: border-box;top: 0;bottom: 0;left: 50%;z-index: -1;}#sk-container-id-1 div.sk-parallel-item {display: flex;flex-direction: column;z-index: 1;position: relative;background-color: white;}#sk-container-id-1 div.sk-parallel-item:first-child::after {align-self: flex-end;width: 50%;}#sk-container-id-1 div.sk-parallel-item:last-child::after {align-self: flex-start;width: 50%;}#sk-container-id-1 div.sk-parallel-item:only-child::after {width: 0;}#sk-container-id-1 div.sk-dashed-wrapped {border: 1px dashed gray;margin: 0 0.4em 0.5em 0.4em;box-sizing: border-box;padding-bottom: 0.4em;background-color: white;}#sk-container-id-1 div.sk-label label {font-family: monospace;font-weight: bold;display: inline-block;line-height: 1.2em;}#sk-container-id-1 div.sk-label-container {text-align: center;}#sk-container-id-1 div.sk-container {/* jupyter's `normalize.less` sets `[hidden] { display: none; }` but bootstrap.min.css set `[hidden] { display: none !important; }` so we also need the `!important` here to be able to override the default hidden behavior on the sphinx rendered scikit-learn.org. See: https://github.com/scikit-learn/scikit-learn/issues/21755 */display: inline-block !important;position: relative;}#sk-container-id-1 div.sk-text-repr-fallback {display: none;}</style><div id=\"sk-container-id-1\" class=\"sk-top-container\"><div class=\"sk-text-repr-fallback\"><pre>LogisticRegression(C=10, max_iter=10000)</pre><b>In a Jupyter environment, please rerun this cell to show the HTML representation or trust the notebook. <br />On GitHub, the HTML representation is unable to render, please try loading this page with nbviewer.org.</b></div><div class=\"sk-container\" hidden><div class=\"sk-item\"><div class=\"sk-estimator sk-toggleable\"><input class=\"sk-toggleable__control sk-hidden--visually\" id=\"sk-estimator-id-1\" type=\"checkbox\" checked><label for=\"sk-estimator-id-1\" class=\"sk-toggleable__label sk-toggleable__label-arrow\">LogisticRegression</label><div class=\"sk-toggleable__content\"><pre>LogisticRegression(C=10, max_iter=10000)</pre></div></div></div></div></div>"
      ],
      "text/plain": [
       "LogisticRegression(C=10, max_iter=10000)"
      ]
     },
     "execution_count": 6,
     "metadata": {},
     "output_type": "execute_result"
    }
   ],
   "source": [
    "# Build full model with selected features on the train dataset\n",
    "clf = LogisticRegression(C=10, max_iter=10000)\n",
    "clf.fit(X_train, y_train)"
   ]
  },
  {
   "cell_type": "code",
   "execution_count": 7,
   "metadata": {
    "executionInfo": {
     "elapsed": 9,
     "status": "aborted",
     "timestamp": 1673287452977,
     "user": {
      "displayName": "Dan Dumitru",
      "userId": "04101222068084717659"
     },
     "user_tz": -120
    },
    "id": "ZmAD8F9xJsoY"
   },
   "outputs": [
    {
     "name": "stdout",
     "output_type": "stream",
     "text": [
      "              precision    recall  f1-score   support\n",
      "\n",
      "           0       1.00      1.00      1.00     56864\n",
      "           1       0.83      0.68      0.75        98\n",
      "\n",
      "    accuracy                           1.00     56962\n",
      "   macro avg       0.91      0.84      0.87     56962\n",
      "weighted avg       1.00      1.00      1.00     56962\n",
      "\n"
     ]
    }
   ],
   "source": [
    "# Test the build model on the testing dataset\n",
    "y_test_pred = clf.predict(X_test)\n",
    "print(classification_report(y_test, y_test_pred))"
   ]
  },
  {
   "cell_type": "markdown",
   "metadata": {
    "id": "RV3KDuq80Jtw"
   },
   "source": [
    "## 1. Forward Selection"
   ]
  },
  {
   "cell_type": "code",
   "execution_count": 8,
   "metadata": {
    "executionInfo": {
     "elapsed": 10,
     "status": "aborted",
     "timestamp": 1673287452978,
     "user": {
      "displayName": "Dan Dumitru",
      "userId": "04101222068084717659"
     },
     "user_tz": -120
    },
    "id": "6mM-kGi_qkk1"
   },
   "outputs": [
    {
     "name": "stderr",
     "output_type": "stream",
     "text": [
      "[Parallel(n_jobs=-1)]: Using backend LokyBackend with 12 concurrent workers.\n",
      "[Parallel(n_jobs=-1)]: Done  23 out of  30 | elapsed:    6.9s remaining:    2.0s\n",
      "[Parallel(n_jobs=-1)]: Done  30 out of  30 | elapsed:    8.3s finished\n",
      "\n",
      "[2023-01-09 20:55:00] Features: 1/8 -- score: 0.7865019286689792[Parallel(n_jobs=-1)]: Using backend LokyBackend with 12 concurrent workers.\n",
      "[Parallel(n_jobs=-1)]: Done  21 out of  29 | elapsed:    5.0s remaining:    1.9s\n",
      "[Parallel(n_jobs=-1)]: Done  29 out of  29 | elapsed:    7.7s finished\n",
      "\n",
      "[2023-01-09 20:55:08] Features: 2/8 -- score: 0.8297761567778965[Parallel(n_jobs=-1)]: Using backend LokyBackend with 12 concurrent workers.\n",
      "[Parallel(n_jobs=-1)]: Done  20 out of  28 | elapsed:    5.3s remaining:    2.1s\n",
      "[Parallel(n_jobs=-1)]: Done  28 out of  28 | elapsed:    8.3s finished\n",
      "\n",
      "[2023-01-09 20:55:17] Features: 3/8 -- score: 0.8428746273691121[Parallel(n_jobs=-1)]: Using backend LokyBackend with 12 concurrent workers.\n",
      "[Parallel(n_jobs=-1)]: Done  18 out of  27 | elapsed:    5.7s remaining:    2.8s\n",
      "[Parallel(n_jobs=-1)]: Done  27 out of  27 | elapsed:    9.9s finished\n",
      "\n",
      "[2023-01-09 20:55:27] Features: 4/8 -- score: 0.8471521392084262[Parallel(n_jobs=-1)]: Using backend LokyBackend with 12 concurrent workers.\n",
      "[Parallel(n_jobs=-1)]: Done  17 out of  26 | elapsed:    8.0s remaining:    4.2s\n",
      "[Parallel(n_jobs=-1)]: Done  26 out of  26 | elapsed:   14.0s finished\n",
      "\n",
      "[2023-01-09 20:55:41] Features: 5/8 -- score: 0.8524810445161236[Parallel(n_jobs=-1)]: Using backend LokyBackend with 12 concurrent workers.\n",
      "[Parallel(n_jobs=-1)]: Done  15 out of  25 | elapsed:    9.0s remaining:    6.0s\n",
      "[Parallel(n_jobs=-1)]: Done  25 out of  25 | elapsed:   15.8s finished\n",
      "\n",
      "[2023-01-09 20:55:57] Features: 6/8 -- score: 0.8541055343513637[Parallel(n_jobs=-1)]: Using backend LokyBackend with 12 concurrent workers.\n",
      "[Parallel(n_jobs=-1)]: Done  14 out of  24 | elapsed:   10.7s remaining:    7.6s\n",
      "[Parallel(n_jobs=-1)]: Done  24 out of  24 | elapsed:   19.3s finished\n",
      "\n",
      "[2023-01-09 20:56:16] Features: 7/8 -- score: 0.8552123063017376[Parallel(n_jobs=-1)]: Using backend LokyBackend with 12 concurrent workers.\n",
      "[Parallel(n_jobs=-1)]: Done  12 out of  23 | elapsed:    8.2s remaining:    7.5s\n",
      "[Parallel(n_jobs=-1)]: Done  23 out of  23 | elapsed:   14.8s finished\n"
     ]
    },
    {
     "name": "stdout",
     "output_type": "stream",
     "text": [
      "Index(['V5', 'V8', 'V10', 'V12', 'V14', 'V16', 'V21', 'V23'], dtype='object')\n"
     ]
    },
    {
     "name": "stderr",
     "output_type": "stream",
     "text": [
      "\n",
      "[2023-01-09 20:56:32] Features: 8/8 -- score: 0.8560062048830573"
     ]
    }
   ],
   "source": [
    "scv = StratifiedKFold(n_splits=5)\n",
    "\n",
    "model = LogisticRegression(C=10, max_iter=10000)\n",
    "\n",
    "# create the SequentialFeatureSelector object\n",
    "sfs = SequentialFeatureSelector(model, \n",
    "                 k_features=8, \n",
    "                 forward=True, \n",
    "                 floating=False,\n",
    "                 verbose=2,               \n",
    "                 scoring='f1_macro',\n",
    "                 cv=scv,\n",
    "                 n_jobs=-1)\n",
    "\n",
    "# fit the object to the training data\n",
    "sfs = sfs.fit(X, y)\n",
    "selected_features = credit.columns[list(sfs.k_feature_idx_)]\n",
    "print(selected_features)"
   ]
  },
  {
   "cell_type": "code",
   "execution_count": 9,
   "metadata": {
    "executionInfo": {
     "elapsed": 10,
     "status": "aborted",
     "timestamp": 1673287452978,
     "user": {
      "displayName": "Dan Dumitru",
      "userId": "04101222068084717659"
     },
     "user_tz": -120
    },
    "id": "cz-nPHj01Qrr"
   },
   "outputs": [
    {
     "data": {
      "text/html": [
       "<div>\n",
       "<style scoped>\n",
       "    .dataframe tbody tr th:only-of-type {\n",
       "        vertical-align: middle;\n",
       "    }\n",
       "\n",
       "    .dataframe tbody tr th {\n",
       "        vertical-align: top;\n",
       "    }\n",
       "\n",
       "    .dataframe thead th {\n",
       "        text-align: right;\n",
       "    }\n",
       "</style>\n",
       "<table border=\"1\" class=\"dataframe\">\n",
       "  <thead>\n",
       "    <tr style=\"text-align: right;\">\n",
       "      <th></th>\n",
       "      <th>V5</th>\n",
       "      <th>V8</th>\n",
       "      <th>V10</th>\n",
       "      <th>V12</th>\n",
       "      <th>V14</th>\n",
       "      <th>V16</th>\n",
       "      <th>V21</th>\n",
       "      <th>V23</th>\n",
       "    </tr>\n",
       "  </thead>\n",
       "  <tbody>\n",
       "    <tr>\n",
       "      <th>265518</th>\n",
       "      <td>1.502822</td>\n",
       "      <td>1.139880</td>\n",
       "      <td>-0.157403</td>\n",
       "      <td>0.510277</td>\n",
       "      <td>-0.066555</td>\n",
       "      <td>0.352514</td>\n",
       "      <td>0.076197</td>\n",
       "      <td>0.307915</td>\n",
       "    </tr>\n",
       "    <tr>\n",
       "      <th>180305</th>\n",
       "      <td>2.943487</td>\n",
       "      <td>0.674782</td>\n",
       "      <td>0.284864</td>\n",
       "      <td>0.325560</td>\n",
       "      <td>0.721068</td>\n",
       "      <td>-0.754029</td>\n",
       "      <td>0.038628</td>\n",
       "      <td>0.035542</td>\n",
       "    </tr>\n",
       "    <tr>\n",
       "      <th>42664</th>\n",
       "      <td>-0.825838</td>\n",
       "      <td>-5.037523</td>\n",
       "      <td>-2.009561</td>\n",
       "      <td>1.820161</td>\n",
       "      <td>0.122746</td>\n",
       "      <td>1.123344</td>\n",
       "      <td>-2.798352</td>\n",
       "      <td>-0.436530</td>\n",
       "    </tr>\n",
       "    <tr>\n",
       "      <th>198723</th>\n",
       "      <td>-1.394143</td>\n",
       "      <td>0.010010</td>\n",
       "      <td>1.756121</td>\n",
       "      <td>-0.722450</td>\n",
       "      <td>-0.195288</td>\n",
       "      <td>-0.065888</td>\n",
       "      <td>-0.139670</td>\n",
       "      <td>0.208310</td>\n",
       "    </tr>\n",
       "    <tr>\n",
       "      <th>82325</th>\n",
       "      <td>0.715771</td>\n",
       "      <td>-0.113817</td>\n",
       "      <td>-0.558955</td>\n",
       "      <td>-0.054708</td>\n",
       "      <td>0.134659</td>\n",
       "      <td>-2.096099</td>\n",
       "      <td>-0.243245</td>\n",
       "      <td>-0.006692</td>\n",
       "    </tr>\n",
       "    <tr>\n",
       "      <th>...</th>\n",
       "      <td>...</td>\n",
       "      <td>...</td>\n",
       "      <td>...</td>\n",
       "      <td>...</td>\n",
       "      <td>...</td>\n",
       "      <td>...</td>\n",
       "      <td>...</td>\n",
       "      <td>...</td>\n",
       "    </tr>\n",
       "    <tr>\n",
       "      <th>233802</th>\n",
       "      <td>-0.285128</td>\n",
       "      <td>0.231591</td>\n",
       "      <td>0.212619</td>\n",
       "      <td>0.584204</td>\n",
       "      <td>0.062302</td>\n",
       "      <td>0.684356</td>\n",
       "      <td>0.262526</td>\n",
       "      <td>0.099141</td>\n",
       "    </tr>\n",
       "    <tr>\n",
       "      <th>85418</th>\n",
       "      <td>0.584698</td>\n",
       "      <td>0.135561</td>\n",
       "      <td>0.108640</td>\n",
       "      <td>0.373473</td>\n",
       "      <td>-0.401809</td>\n",
       "      <td>-1.879937</td>\n",
       "      <td>-0.072452</td>\n",
       "      <td>0.110048</td>\n",
       "    </tr>\n",
       "    <tr>\n",
       "      <th>29062</th>\n",
       "      <td>-0.380277</td>\n",
       "      <td>-0.026687</td>\n",
       "      <td>-0.131553</td>\n",
       "      <td>0.445453</td>\n",
       "      <td>0.166727</td>\n",
       "      <td>-0.796913</td>\n",
       "      <td>-0.061991</td>\n",
       "      <td>-0.050485</td>\n",
       "    </tr>\n",
       "    <tr>\n",
       "      <th>13766</th>\n",
       "      <td>0.065052</td>\n",
       "      <td>-0.091833</td>\n",
       "      <td>-0.268878</td>\n",
       "      <td>-1.666023</td>\n",
       "      <td>1.799882</td>\n",
       "      <td>0.705997</td>\n",
       "      <td>-0.409934</td>\n",
       "      <td>0.033153</td>\n",
       "    </tr>\n",
       "    <tr>\n",
       "      <th>17677</th>\n",
       "      <td>-0.096171</td>\n",
       "      <td>0.071224</td>\n",
       "      <td>-0.512312</td>\n",
       "      <td>0.907240</td>\n",
       "      <td>-0.420510</td>\n",
       "      <td>-0.995150</td>\n",
       "      <td>0.060615</td>\n",
       "      <td>-0.084001</td>\n",
       "    </tr>\n",
       "  </tbody>\n",
       "</table>\n",
       "<p>227845 rows × 8 columns</p>\n",
       "</div>"
      ],
      "text/plain": [
       "              V5        V8       V10       V12       V14       V16       V21  \\\n",
       "265518  1.502822  1.139880 -0.157403  0.510277 -0.066555  0.352514  0.076197   \n",
       "180305  2.943487  0.674782  0.284864  0.325560  0.721068 -0.754029  0.038628   \n",
       "42664  -0.825838 -5.037523 -2.009561  1.820161  0.122746  1.123344 -2.798352   \n",
       "198723 -1.394143  0.010010  1.756121 -0.722450 -0.195288 -0.065888 -0.139670   \n",
       "82325   0.715771 -0.113817 -0.558955 -0.054708  0.134659 -2.096099 -0.243245   \n",
       "...          ...       ...       ...       ...       ...       ...       ...   \n",
       "233802 -0.285128  0.231591  0.212619  0.584204  0.062302  0.684356  0.262526   \n",
       "85418   0.584698  0.135561  0.108640  0.373473 -0.401809 -1.879937 -0.072452   \n",
       "29062  -0.380277 -0.026687 -0.131553  0.445453  0.166727 -0.796913 -0.061991   \n",
       "13766   0.065052 -0.091833 -0.268878 -1.666023  1.799882  0.705997 -0.409934   \n",
       "17677  -0.096171  0.071224 -0.512312  0.907240 -0.420510 -0.995150  0.060615   \n",
       "\n",
       "             V23  \n",
       "265518  0.307915  \n",
       "180305  0.035542  \n",
       "42664  -0.436530  \n",
       "198723  0.208310  \n",
       "82325  -0.006692  \n",
       "...          ...  \n",
       "233802  0.099141  \n",
       "85418   0.110048  \n",
       "29062  -0.050485  \n",
       "13766   0.033153  \n",
       "17677  -0.084001  \n",
       "\n",
       "[227845 rows x 8 columns]"
      ]
     },
     "execution_count": 9,
     "metadata": {},
     "output_type": "execute_result"
    }
   ],
   "source": [
    "X_train[selected_features]"
   ]
  },
  {
   "cell_type": "code",
   "execution_count": 10,
   "metadata": {
    "executionInfo": {
     "elapsed": 10,
     "status": "aborted",
     "timestamp": 1673287452978,
     "user": {
      "displayName": "Dan Dumitru",
      "userId": "04101222068084717659"
     },
     "user_tz": -120
    },
    "id": "IwlpC_5o0m1I"
   },
   "outputs": [
    {
     "data": {
      "text/html": [
       "<style>#sk-container-id-2 {color: black;background-color: white;}#sk-container-id-2 pre{padding: 0;}#sk-container-id-2 div.sk-toggleable {background-color: white;}#sk-container-id-2 label.sk-toggleable__label {cursor: pointer;display: block;width: 100%;margin-bottom: 0;padding: 0.3em;box-sizing: border-box;text-align: center;}#sk-container-id-2 label.sk-toggleable__label-arrow:before {content: \"▸\";float: left;margin-right: 0.25em;color: #696969;}#sk-container-id-2 label.sk-toggleable__label-arrow:hover:before {color: black;}#sk-container-id-2 div.sk-estimator:hover label.sk-toggleable__label-arrow:before {color: black;}#sk-container-id-2 div.sk-toggleable__content {max-height: 0;max-width: 0;overflow: hidden;text-align: left;background-color: #f0f8ff;}#sk-container-id-2 div.sk-toggleable__content pre {margin: 0.2em;color: black;border-radius: 0.25em;background-color: #f0f8ff;}#sk-container-id-2 input.sk-toggleable__control:checked~div.sk-toggleable__content {max-height: 200px;max-width: 100%;overflow: auto;}#sk-container-id-2 input.sk-toggleable__control:checked~label.sk-toggleable__label-arrow:before {content: \"▾\";}#sk-container-id-2 div.sk-estimator input.sk-toggleable__control:checked~label.sk-toggleable__label {background-color: #d4ebff;}#sk-container-id-2 div.sk-label input.sk-toggleable__control:checked~label.sk-toggleable__label {background-color: #d4ebff;}#sk-container-id-2 input.sk-hidden--visually {border: 0;clip: rect(1px 1px 1px 1px);clip: rect(1px, 1px, 1px, 1px);height: 1px;margin: -1px;overflow: hidden;padding: 0;position: absolute;width: 1px;}#sk-container-id-2 div.sk-estimator {font-family: monospace;background-color: #f0f8ff;border: 1px dotted black;border-radius: 0.25em;box-sizing: border-box;margin-bottom: 0.5em;}#sk-container-id-2 div.sk-estimator:hover {background-color: #d4ebff;}#sk-container-id-2 div.sk-parallel-item::after {content: \"\";width: 100%;border-bottom: 1px solid gray;flex-grow: 1;}#sk-container-id-2 div.sk-label:hover label.sk-toggleable__label {background-color: #d4ebff;}#sk-container-id-2 div.sk-serial::before {content: \"\";position: absolute;border-left: 1px solid gray;box-sizing: border-box;top: 0;bottom: 0;left: 50%;z-index: 0;}#sk-container-id-2 div.sk-serial {display: flex;flex-direction: column;align-items: center;background-color: white;padding-right: 0.2em;padding-left: 0.2em;position: relative;}#sk-container-id-2 div.sk-item {position: relative;z-index: 1;}#sk-container-id-2 div.sk-parallel {display: flex;align-items: stretch;justify-content: center;background-color: white;position: relative;}#sk-container-id-2 div.sk-item::before, #sk-container-id-2 div.sk-parallel-item::before {content: \"\";position: absolute;border-left: 1px solid gray;box-sizing: border-box;top: 0;bottom: 0;left: 50%;z-index: -1;}#sk-container-id-2 div.sk-parallel-item {display: flex;flex-direction: column;z-index: 1;position: relative;background-color: white;}#sk-container-id-2 div.sk-parallel-item:first-child::after {align-self: flex-end;width: 50%;}#sk-container-id-2 div.sk-parallel-item:last-child::after {align-self: flex-start;width: 50%;}#sk-container-id-2 div.sk-parallel-item:only-child::after {width: 0;}#sk-container-id-2 div.sk-dashed-wrapped {border: 1px dashed gray;margin: 0 0.4em 0.5em 0.4em;box-sizing: border-box;padding-bottom: 0.4em;background-color: white;}#sk-container-id-2 div.sk-label label {font-family: monospace;font-weight: bold;display: inline-block;line-height: 1.2em;}#sk-container-id-2 div.sk-label-container {text-align: center;}#sk-container-id-2 div.sk-container {/* jupyter's `normalize.less` sets `[hidden] { display: none; }` but bootstrap.min.css set `[hidden] { display: none !important; }` so we also need the `!important` here to be able to override the default hidden behavior on the sphinx rendered scikit-learn.org. See: https://github.com/scikit-learn/scikit-learn/issues/21755 */display: inline-block !important;position: relative;}#sk-container-id-2 div.sk-text-repr-fallback {display: none;}</style><div id=\"sk-container-id-2\" class=\"sk-top-container\"><div class=\"sk-text-repr-fallback\"><pre>LogisticRegression(C=10, max_iter=10000)</pre><b>In a Jupyter environment, please rerun this cell to show the HTML representation or trust the notebook. <br />On GitHub, the HTML representation is unable to render, please try loading this page with nbviewer.org.</b></div><div class=\"sk-container\" hidden><div class=\"sk-item\"><div class=\"sk-estimator sk-toggleable\"><input class=\"sk-toggleable__control sk-hidden--visually\" id=\"sk-estimator-id-2\" type=\"checkbox\" checked><label for=\"sk-estimator-id-2\" class=\"sk-toggleable__label sk-toggleable__label-arrow\">LogisticRegression</label><div class=\"sk-toggleable__content\"><pre>LogisticRegression(C=10, max_iter=10000)</pre></div></div></div></div></div>"
      ],
      "text/plain": [
       "LogisticRegression(C=10, max_iter=10000)"
      ]
     },
     "execution_count": 10,
     "metadata": {},
     "output_type": "execute_result"
    }
   ],
   "source": [
    "# Build full model with selected features on the train dataset\n",
    "clf = LogisticRegression(C=10, max_iter=10000)\n",
    "clf.fit(X_train[selected_features], y_train)"
   ]
  },
  {
   "cell_type": "code",
   "execution_count": 11,
   "metadata": {
    "executionInfo": {
     "elapsed": 11,
     "status": "aborted",
     "timestamp": 1673287452979,
     "user": {
      "displayName": "Dan Dumitru",
      "userId": "04101222068084717659"
     },
     "user_tz": -120
    },
    "id": "MXjnimtp1D-g"
   },
   "outputs": [
    {
     "name": "stdout",
     "output_type": "stream",
     "text": [
      "              precision    recall  f1-score   support\n",
      "\n",
      "           0       1.00      1.00      1.00     56864\n",
      "           1       0.83      0.61      0.71        98\n",
      "\n",
      "    accuracy                           1.00     56962\n",
      "   macro avg       0.92      0.81      0.85     56962\n",
      "weighted avg       1.00      1.00      1.00     56962\n",
      "\n"
     ]
    }
   ],
   "source": [
    "# Test the build model on the testing dataset\n",
    "y_test_pred = clf.predict(X_test[selected_features])\n",
    "print(classification_report(y_test, y_test_pred))"
   ]
  },
  {
   "cell_type": "markdown",
   "metadata": {
    "id": "42n0NOAME0f1"
   },
   "source": [
    "## 2. Genetic Algorithm\n",
    "\n",
    "A Genetic Algorithm (GA) is a metaheuristic algorithm  inspired by the process of natural selection that belongs to the larger class of evolutionary algorithms (EA). Genetic algorithms are commonly used to generate high-quality solutions to optimization and search problems by relying on biologically inspired operators such as mutation, crossover and selection.\n",
    "\n",
    "Short story: An algortim inspited from genetics and natural selection which determines the fittest of individuals from a population."
   ]
  },
  {
   "cell_type": "markdown",
   "metadata": {
    "id": "jezXQKUwE7RL"
   },
   "source": [
    "**Steps of the genetic algortihm:**\n",
    "\n",
    "*1. Initialization* - \n",
    "Start with an arbitrary number of different subsets of features from a total number pf N features. The representation: a binary vector of dim = number of features. 1 indicates presence of feature, while 0 absence. For example, the vector [1,0,0,1] indicates that we have in total 4 features and this member of the population is a subset of feature 0 and 3.\n",
    "\n",
    "\n",
    "---\n",
    "\n",
    "\n",
    "\n",
    "*2. Fitness Assignment* - \n",
    "In order to evaluate each member of our population, we train N models, each with a member from the population and calculate the error. If the error is large then the fitness is low. All errors of the individual N models are sorted but the fitness value depends squarely on the position of the individual in the rank and not at the error.\n",
    "\n",
    "\n",
    "---\n",
    "\n",
    "\n",
    "\n",
    "*3. Selection* - \n",
    "We use a method that places all members of the population on a roulette, with areas proportional to their fitness. Then we select half of the population at random by “turning the roulette”.\n",
    "\n",
    "\n",
    "---\n",
    "\n",
    "\n",
    "\n",
    "*4. Crossover Operation* - \n",
    "We choose 2 members randomly and combine their features to get 4 offsprings for the new population. Then we repeat with other 2 members and so on. When do we stop? When we generate the same size of population as in the initial step.\n",
    "\n",
    "\n",
    "---\n",
    "\n",
    "*5. Mutation Operation* - \n",
    "This step exists because of the latter. During Crossover there is a high chance of generating offsprings that are very similar to their ancestors, which leads to low diversity. Thus, we mutate the offsprings by changing the value of some features of the offsprings at random.You repeat till the next generation does not significantly differ from the previous one. Then you select the member that produced the lowest error."
   ]
  },
  {
   "cell_type": "code",
   "execution_count": 12,
   "metadata": {
    "executionInfo": {
     "elapsed": 11,
     "status": "aborted",
     "timestamp": 1673287452979,
     "user": {
      "displayName": "Dan Dumitru",
      "userId": "04101222068084717659"
     },
     "user_tz": -120
    },
    "id": "xsLmBHGVIs7B"
   },
   "outputs": [
    {
     "name": "stdout",
     "output_type": "stream",
     "text": [
      "Selecting features with genetic algorithm.\n",
      "gen\tnevals\tavg                            \tstd                            \tmin                            \tmax                            \n",
      "0  \t50    \t[ 0.697384  3.02      0.019725]\t[ 0.107111  1.348925  0.01844 ]\t[ 0.499567  1.        0.000002]\t[ 0.83758   5.        0.117245]\n",
      "1  \t25    \t[-1399.336855     3.96      1400.015609]\t[ 3470.137876     1.4827    3469.864017]\t[-10000.            1.            0.009923]\t[     0.849678      8.        10000.      ]\n",
      "2  \t31    \t[-1399.314287     4.14      1400.014506]\t[ 3470.146982     1.371277  3469.864462]\t[-10000.      1.      0.]                  \t[     0.854643      8.        10000.      ]\n",
      "3  \t30    \t[-799.234398    4.28      800.014872]   \t[ 2713.157757     1.020588  2712.927608]\t[-10000.            2.            0.011038]\t[     0.854643      7.        10000.      ]\n",
      "4  \t30    \t[-799.221196    4.56      800.013918]   \t[ 2713.16165      0.962497  2712.927889]\t[-10000.            2.            0.011511]\t[     0.857526      7.        10000.      ]\n"
     ]
    }
   ],
   "source": [
    "scv = StratifiedKFold(n_splits=5)\n",
    "selector = GeneticSelectionCV(LogisticRegression(C=10, max_iter=10000, random_state=42),\n",
    "                              cv=scv,\n",
    "                              verbose=2,\n",
    "                              scoring=\"f1_macro\",\n",
    "                              max_features=5,\n",
    "                              n_population=50,\n",
    "                              crossover_proba=0.5,\n",
    "                              mutation_proba=0.2,\n",
    "                              n_generations=4,  # recomended 40 or above\n",
    "                              crossover_independent_proba=0.5,\n",
    "                              mutation_independent_proba=0.05,\n",
    "                              tournament_size=3,\n",
    "                              n_gen_no_change=10,\n",
    "                              caching=True,\n",
    "                              n_jobs=-1)\n",
    "selector = selector.fit(X_train, y_train)"
   ]
  },
  {
   "cell_type": "code",
   "execution_count": 13,
   "metadata": {
    "executionInfo": {
     "elapsed": 10,
     "status": "aborted",
     "timestamp": 1673287452979,
     "user": {
      "displayName": "Dan Dumitru",
      "userId": "04101222068084717659"
     },
     "user_tz": -120
    },
    "id": "FfKPnpeoIwJp"
   },
   "outputs": [
    {
     "name": "stdout",
     "output_type": "stream",
     "text": [
      "              precision    recall  f1-score   support\n",
      "\n",
      "           0       1.00      1.00      1.00     56864\n",
      "           1       0.82      0.57      0.67        98\n",
      "\n",
      "    accuracy                           1.00     56962\n",
      "   macro avg       0.91      0.79      0.84     56962\n",
      "weighted avg       1.00      1.00      1.00     56962\n",
      "\n"
     ]
    }
   ],
   "source": [
    "# get the selected features\n",
    "cols = X.columns.tolist()\n",
    "selected_feats = [cols[i] for i in np.where(selector.support_)[0]]\n",
    "\n",
    "# train and test\n",
    "clf = LogisticRegression(C=10, max_iter=10000, random_state=42)\n",
    "clf.fit(X_train[selected_feats], y_train)\n",
    "preds = clf.predict(X_test[selected_feats])\n",
    "print(classification_report(y_test, preds))"
   ]
  }
 ],
 "metadata": {
  "colab": {
   "authorship_tag": "ABX9TyM7VRetBpTrFFkTtR0zTxHQ",
   "provenance": []
  },
  "kernelspec": {
   "display_name": "Python 3 (ipykernel)",
   "language": "python",
   "name": "python3"
  },
  "language_info": {
   "codemirror_mode": {
    "name": "ipython",
    "version": 3
   },
   "file_extension": ".py",
   "mimetype": "text/x-python",
   "name": "python",
   "nbconvert_exporter": "python",
   "pygments_lexer": "ipython3",
   "version": "3.10.5"
  }
 },
 "nbformat": 4,
 "nbformat_minor": 4
}
