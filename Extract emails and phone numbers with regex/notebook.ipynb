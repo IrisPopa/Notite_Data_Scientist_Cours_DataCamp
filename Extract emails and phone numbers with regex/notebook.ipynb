{
 "cells": [
  {
   "cell_type": "markdown",
   "id": "changing-gothic",
   "metadata": {
    "id": "bA5ajAmk7XH6"
   },
   "source": [
    "# Extract emails and phone numbers with regex\n",
    "\n",
    "Quickly parse a text file of your choosing and extract all emails and phone numbers with regular expressions. A regular expression (regex) is a sequence of characters that specifies a search pattern. These patterns are useful for input validation and \"find\" or \"find and replace\" operations on strings"
   ]
  },
  {
   "cell_type": "code",
   "execution_count": 1,
   "id": "early-ministry",
   "metadata": {},
   "outputs": [],
   "source": [
    "# Load packages\n",
    "import re "
   ]
  },
  {
   "cell_type": "code",
   "execution_count": 2,
   "id": "infectious-friendly",
   "metadata": {},
   "outputs": [
    {
     "name": "stdout",
     "output_type": "stream",
     "text": [
      "Lorem ipsum dolor sit amet, 202-555-0172 consectetur adipiscing elit. Integer nec odio. Praesent libero. Sed cursus ante dapibus shang@hotmail.com diam. Sed +6 (03) 8924 8000 nisi. Nulla quis sem at nibh elementum imperdiet. Duis sagittis ipsum rgiersig@mac.com. Praesent mauris. Fusce nec tellus sed augue semper porta. Mauris massa. Vestibulum lacinia arcu darin@optonline.net eget nulla. Class aptent pkilab@optonline.net taciti sociosqu ad litora torquent per conubia nostra, per inceptos himenaeos. Curabitur scitext@hotmail.com sodales ligula in libero. Nunc feugiat mi a tellus consequat imperdiet. Vestibulum sapien. Proin quam. Etiam ultrices. Suspendisse in justo eu magna luctus suscipit. Sed +60 (0)3 2723 7900 lectus. Integer euismod fbriere@aol.com lacus luctus magna. Quisque cursus, metus vitae +1-202-555-0172 pharetra auctor, sem massa mattis sem, at + 60 (0)4 255 9000 interdum magna augue eget diam. Vestibulum ante ipsum primis in faucibus orci +6 (03) 8924 8686 luctus et ultrices posuere cubilia Curae; Morbi lacinia molestie dui. Praesent blandit dolor. Sed non quam. In vel telbij@mac.com mi sit amet augue + 60 (7) 268-6200 congue elementum. Morbi in ipsum sit amet pede facilisis laoreet. Donec lacus nunc, viverra nec, blandit vel, egestas et, augue. Vestibulum tincidunt malesuada tellus. Ut ultrices +601-4228-8055 euice@yahoo.com ultrices enim. Curabitur sit amet mauris. (684) 572-3660 Morbi in dui quis est pulvinar ullamcorper. \n"
     ]
    }
   ],
   "source": [
    "# Upload your data as a .txt file and load it as a data frame \n",
    "with open('placeholder.txt') as txt:      # Replace with the name of your .txt file\n",
    "    contents = txt.read()       \n",
    "    print(contents)                       # Uncomment to prevent printing text"
   ]
  },
  {
   "cell_type": "code",
   "execution_count": 3,
   "id": "muslim-programmer",
   "metadata": {},
   "outputs": [
    {
     "name": "stdout",
     "output_type": "stream",
     "text": [
      "shang@hotmail.com\n",
      "rgiersig@mac.com.\n",
      "darin@optonline.net\n",
      "pkilab@optonline.net\n",
      "scitext@hotmail.com\n",
      "fbriere@aol.com\n",
      "telbij@mac.com\n",
      "euice@yahoo.com\n"
     ]
    }
   ],
   "source": [
    "# Works with all email addresses with standard English characters\n",
    "email_regex = r'[\\w\\.-]+@[\\w\\.-]+'        # Specify the regex pattern\n",
    "matches = re.findall(email_regex,          \n",
    "                     contents)             \n",
    "\n",
    "# Print results\n",
    "for email in matches:\n",
    "    print(email)                          "
   ]
  },
  {
   "cell_type": "code",
   "execution_count": 4,
   "id": "attached-reliance",
   "metadata": {},
   "outputs": [
    {
     "name": "stdout",
     "output_type": "stream",
     "text": [
      "202-555-0172\n",
      "+6 (03) 8924 8000\n",
      "+60 (0)3 2723 7900\n",
      "+1-202-555-0172\n",
      "60 (0)4 255 9000\n",
      "+6 (03) 8924 8686\n",
      "60 (7) 268-6200\n",
      "+601-4228-8055\n",
      "(684) 572-3660\n"
     ]
    }
   ],
   "source": [
    "# Works for most international numbers.\n",
    "phones = r'[\\+\\(]?[1-9][0-9 .\\-\\(\\)]{8,}[0-9]'\n",
    "matches = re.findall(phones, \n",
    "                     contents)\n",
    "\n",
    "# Print results\n",
    "for phone in matches:\n",
    "    print(phone)"
   ]
  }
 ],
 "metadata": {
  "colab": {
   "name": "Welcome to DataCamp Workspaces.ipynb",
   "provenance": []
  },
  "kernelspec": {
   "display_name": "Python 3 (ipykernel)",
   "language": "python",
   "name": "python3"
  },
  "language_info": {
   "codemirror_mode": {
    "name": "ipython",
    "version": 3
   },
   "file_extension": ".py",
   "mimetype": "text/x-python",
   "name": "python",
   "nbconvert_exporter": "python",
   "pygments_lexer": "ipython3",
   "version": "3.10.5"
  }
 },
 "nbformat": 4,
 "nbformat_minor": 5
}
